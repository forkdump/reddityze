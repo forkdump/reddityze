{
  "nbformat": 4,
  "nbformat_minor": 0,
  "metadata": {
    "colab": {
      "name": "reddit-live-scraper.ipynb",
      "provenance": []
    },
    "kernelspec": {
      "name": "python3",
      "display_name": "Python 3"
    }
  },
  "cells": [
    {
      "cell_type": "code",
      "metadata": {
        "id": "EDQfCWK8D7rG",
        "colab_type": "code",
        "outputId": "06127c8d-b8c8-4c20-9e23-15a9d676bd9e",
        "colab": {
          "base_uri": "https://localhost:8080/",
          "height": 343
        }
      },
      "source": [
        "#Installing Python Reddit API Wrapper\n",
        "\n",
        "pip install praw"
      ],
      "execution_count": 4,
      "outputs": [
        {
          "output_type": "stream",
          "text": [
            "Collecting praw\n",
            "\u001b[?25l  Downloading https://files.pythonhosted.org/packages/f6/df/b42c0a3b86a43a62a46e5b2f07930230ac7719624800a2052218993fb767/praw-6.4.0-py2.py3-none-any.whl (126kB)\n",
            "\r\u001b[K     |██▋                             | 10kB 16.4MB/s eta 0:00:01\r\u001b[K     |█████▏                          | 20kB 3.4MB/s eta 0:00:01\r\u001b[K     |███████▉                        | 30kB 4.8MB/s eta 0:00:01\r\u001b[K     |██████████▍                     | 40kB 3.1MB/s eta 0:00:01\r\u001b[K     |█████████████                   | 51kB 3.7MB/s eta 0:00:01\r\u001b[K     |███████████████▋                | 61kB 4.4MB/s eta 0:00:01\r\u001b[K     |██████████████████▏             | 71kB 5.1MB/s eta 0:00:01\r\u001b[K     |████████████████████▊           | 81kB 5.7MB/s eta 0:00:01\r\u001b[K     |███████████████████████▍        | 92kB 6.3MB/s eta 0:00:01\r\u001b[K     |██████████████████████████      | 102kB 5.1MB/s eta 0:00:01\r\u001b[K     |████████████████████████████▌   | 112kB 5.1MB/s eta 0:00:01\r\u001b[K     |███████████████████████████████▏| 122kB 5.1MB/s eta 0:00:01\r\u001b[K     |████████████████████████████████| 133kB 5.1MB/s \n",
            "\u001b[?25hCollecting prawcore<2.0,>=1.0.1\n",
            "  Downloading https://files.pythonhosted.org/packages/76/b5/ce6282dea45cba6f08a30e25d18e0f3d33277e2c9fcbda75644b8dc0089b/prawcore-1.0.1-py2.py3-none-any.whl\n",
            "Collecting update-checker>=0.16\n",
            "  Downloading https://files.pythonhosted.org/packages/17/c9/ab11855af164d03be0ff4fddd4c46a5bd44799a9ecc1770e01a669c21168/update_checker-0.16-py2.py3-none-any.whl\n",
            "Collecting websocket-client>=0.54.0\n",
            "\u001b[?25l  Downloading https://files.pythonhosted.org/packages/29/19/44753eab1fdb50770ac69605527e8859468f3c0fd7dc5a76dd9c4dbd7906/websocket_client-0.56.0-py2.py3-none-any.whl (200kB)\n",
            "\u001b[K     |████████████████████████████████| 204kB 16.5MB/s \n",
            "\u001b[?25hRequirement already satisfied: requests<3.0,>=2.6.0 in /usr/local/lib/python3.6/dist-packages (from prawcore<2.0,>=1.0.1->praw) (2.21.0)\n",
            "Requirement already satisfied: six in /usr/local/lib/python3.6/dist-packages (from websocket-client>=0.54.0->praw) (1.12.0)\n",
            "Requirement already satisfied: urllib3<1.25,>=1.21.1 in /usr/local/lib/python3.6/dist-packages (from requests<3.0,>=2.6.0->prawcore<2.0,>=1.0.1->praw) (1.24.3)\n",
            "Requirement already satisfied: certifi>=2017.4.17 in /usr/local/lib/python3.6/dist-packages (from requests<3.0,>=2.6.0->prawcore<2.0,>=1.0.1->praw) (2019.9.11)\n",
            "Requirement already satisfied: idna<2.9,>=2.5 in /usr/local/lib/python3.6/dist-packages (from requests<3.0,>=2.6.0->prawcore<2.0,>=1.0.1->praw) (2.8)\n",
            "Requirement already satisfied: chardet<3.1.0,>=3.0.2 in /usr/local/lib/python3.6/dist-packages (from requests<3.0,>=2.6.0->prawcore<2.0,>=1.0.1->praw) (3.0.4)\n",
            "Installing collected packages: prawcore, update-checker, websocket-client, praw\n",
            "Successfully installed praw-6.4.0 prawcore-1.0.1 update-checker-0.16 websocket-client-0.56.0\n"
          ],
          "name": "stdout"
        }
      ]
    },
    {
      "cell_type": "code",
      "metadata": {
        "id": "dYGe9g73EG-X",
        "colab_type": "code",
        "colab": {}
      },
      "source": [
        "#client id- StmWjOzTODd8Og\n",
        "#user agent- r/webscraper\n",
        "#secret- 3-HWmn6SD7a32SEoOLXyVSUv5jQ\n",
        "\n",
        "import praw\n",
        "reddit = praw.Reddit(client_id='StmWjOzTODd8Og', client_secret='3-HWmn6SD7a32SEoOLXyVSUv5jQ', user_agent='r/webscraper')"
      ],
      "execution_count": 0,
      "outputs": []
    },
    {
      "cell_type": "code",
      "metadata": {
        "id": "ygQzVmUWFdsL",
        "colab_type": "code",
        "outputId": "056f650c-b030-402b-bc33-8e906694d5f8",
        "colab": {
          "base_uri": "https://localhost:8080/",
          "height": 54
        }
      },
      "source": [
        "#Extracting top 15 hottest posts from r/datascience\n",
        "\n",
        "hottest_ds = reddit.subreddit('datascience').hot(limit=15)\n",
        "x = map(lambda l:l.title, hottest_ds)\n",
        "print(list(x))\n"
      ],
      "execution_count": 0,
      "outputs": [
        {
          "output_type": "stream",
          "text": [
            "['Weekly Entering & Transitioning Thread | 20 Oct 2019 - 27 Oct 2019', 'My job search', 'Anything similar to these Tidy Tuesday screencasts, but with Python?', 'Quick notes on applying to entry-level analyst/DS roles', 'For applicants: types of experience ranked', '2nd year undergrad CS major looking for internship. Would a SWE or a Data Analyst internship as the first internship benefit my career more in the long run?', \"I know Python and R pretty well. Lately, I'm seeing data science job descriptions that require Java.\", 'Where to find info on how to actually *structure* your data wrangling scripts, not just how individual pandas functions work, or some such thing', 'Curing HIV... This is where you come in.', 'Data Incubator Semi-Finalist Challenge', 'Is a Research Paper Worth the Trouble', 'Is it just me or everyone think that seaborne heatmap is the coolest visualization tool ever?', 'Statistical Modeling and Boundary Conditions', 'Looking for an app which would allow to track and aggregate and display in a chart large amounts of data', 'Tooling to find correlations or patterns in large data sets']\n"
          ],
          "name": "stdout"
        }
      ]
    },
    {
      "cell_type": "code",
      "metadata": {
        "id": "9LfK6UUcHfLh",
        "colab_type": "code",
        "outputId": "191986fd-b2d7-48ae-8a0e-7551b5d87b41",
        "colab": {
          "base_uri": "https://localhost:8080/",
          "height": 170
        }
      },
      "source": [
        "#Extracting top 1000 hottest posts over all subreddits and saving them to CSV\n",
        "\n",
        "import pandas as pd\n",
        "\n",
        "data = reddit.subreddit('all').hot(limit=1000)\n",
        "posts = map(lambda post: [post.title, post.score, post.id, post.subreddit, post.url, post.num_comments, post.selftext, post.created], data)\n",
        "\n",
        "posts = pd.DataFrame(posts, columns=['title', 'score', 'id', 'subreddit', 'url', 'numofcomments', 'selftext', 'created'])\n",
        "print(posts.head())\n",
        "print(posts.shape)\n",
        "\n",
        "posts.to_csv('hottest_1000.csv', sep='\\t', encoding='utf-8', index=False)"
      ],
      "execution_count": 0,
      "outputs": [
        {
          "output_type": "stream",
          "text": [
            "                                               title  ...       created\n",
            "0                  She can sense tiny human in belly  ...  1.572045e+09\n",
            "1  John Bolton, fired White House hawk, is negoti...  ...  1.572039e+09\n",
            "2  What a stunt pilot is going through during a show  ...  1.572046e+09\n",
            "3                         What a lame ass superpower  ...  1.572041e+09\n",
            "4                             She Did It, She Did It  ...  1.572039e+09\n",
            "\n",
            "[5 rows x 8 columns]\n",
            "(1000, 8)\n"
          ],
          "name": "stdout"
        }
      ]
    },
    {
      "cell_type": "code",
      "metadata": {
        "id": "U_WCeVOCI-Fp",
        "colab_type": "code",
        "outputId": "5d094c6a-6da1-4112-a67b-742c79f26581",
        "colab": {
          "base_uri": "https://localhost:8080/",
          "height": 71
        }
      },
      "source": [
        "#Collecting all comments on the 5 hottest posts in r/computerscience\n",
        "\n",
        "posts = reddit.subreddit('computerscience').hot(limit=5)\n",
        "ids = map(lambda x: x.id, posts)\n",
        "comments = []\n",
        "\n",
        "for id in ids:\n",
        "  submission = reddit.submission(id=id)\n",
        "  submission.comments.replace_more(limit=0)\n",
        "  temp = map(lambda x: x.body, submission.comments.list())\n",
        "  comments.append(list(temp))\n",
        "\n",
        "print(comments)\n",
        "print(len(comments), len(comments[0]))"
      ],
      "execution_count": 0,
      "outputs": [
        {
          "output_type": "stream",
          "text": [
            "[['CS50 on YouTube is something I think everyone in CS should watch ', 'https://github.com/ossu/computer-science', 'MIT’s EE and CS free online courses: \\nhttps://ocw.mit.edu/courses/electrical-engineering-and-computer-science/', 'There are many courses here worth having a look:\\n> https://old.reddit.com/r/programming/comments/9rdfqz/190_universities_just_launched_600_free_online/\\n', '[Teach Yourself CS](https://teachyourselfcs.com)', \"[This page doesn't receive enough love](https://functionalcs.github.io/curriculum/)\", \"https://www.codecademy.com\\n\\nIf you are learning to code a programming language I recommend code academy (link above). If you are looking for a place to learn web technologies right from basic to advanced languages I recommend w3schools (link below)\\n\\nhttps://www.w3schools.com\\n\\n\\nBoth are free to use (code academy does have a premium account but it's really not needed) and they both incorporate a code editor and tutorials along with quizzes, questionnaires and alot more\", 'The edx courses are inexpensive and still pretty decent. Saves you the hassle of one of your professors failing you because he doesnt understand your code even after commenting every line. He got fired from his software dev job and became a teacher... been years, still salty.', 'https://www.learncpp.com - nice place to learn C++ ', \"took this over the summer [https://www.coursera.org/learn/algorithms-part1](https://www.coursera.org/learn/algorithms-part1) and found it super helpful! they've got a lot of resources and pretty cool assignments too\", 'There are many resources that you can find online to help you to learn computer science and other programming techniques that are used in software engineering. The only problem is that most of the free courses and content that you will find are usually of low quality and you may be required to pay some fee in order to get premium access to the content that is of a better quality. \\n\\nHere are some links that can help you to get courses and content on computer science to help you learn the art of software development. Remember, just reading the content won’t help as you will have to do exercises in order to gain from them;\\n\\n1. [https://www.edx.org/course/cs50s-introduction-computer-science-harvardx-cs50x](https://www.edx.org/course/cs50s-introduction-computer-science-harvardx-cs50x)\\n\\n2. [https://github.com/ossu/computer-science](https://github.com/ossu/computer-science)\\n\\n3. [https://old.reddit.com/r/programming/comments/9rdfqz/190\\\\_universities\\\\_just\\\\_launched\\\\_600\\\\_free\\\\_online/](https://old.reddit.com/r/programming/comments/9rdfqz/190_universities_just_launched_600_free_online/)\\n\\n4. MIT’s EE and CS free online courses: [https://ocw.mit.edu/courses/electrical-engineering-and-computer-science/](https://ocw.mit.edu/courses/electrical-engineering-and-computer-science/)\\n\\n5. For the purpose of algorithms [https://www.coursera.org/learn/algorithms-part1](https://www.coursera.org/learn/algorithms-part1)\\n\\nComputer Science is a relatively challenging field to learn and therefore, it is important that you first learn through an appropriate means in order for you to understand what programming is all about. For that matter, I do suggest that you go to our good programming school called [Holberton School](https://www.holbertonschool.com/) where you can learn how to program from scratch up to professional levels.', 'The YouTube series of linear algebra by 3blues1brown is a must watch for anyone studying computer graphics. Consider it as a prerequisite. It’s the best quality video lectures I’ve seen.', 'Any video that starts with ... \"*The following content is provided under a Creative Commons license. Your support will help MIT OpenCourseWare continue to offer high quality educational resources for free. To make a donation or view additional materials from hundreds of MIT courses, visit MIT OpenCourseWare at ocw.mit.edu.\"*', \"Here is a github project with all kinds of courses and CS resources (mostly Python though):\\n\\n[https://github.com/mayercn/learnPythonResources](https://github.com/mayercn/learnPythonResources)\\n\\n&#x200B;\\n\\nEdit: And don't forget this collection of free programming books:\\n\\n[https://ebookfoundation.github.io/free-programming-books/](https://ebookfoundation.github.io/free-programming-books/)\\n\\n&#x200B;\", 'The Developer-Y github page has collated a large list of free CS courses available online.\\n\\n[https://github.com/Developer-Y/cs-video-courses](https://github.com/Developer-Y/cs-video-courses)\\n\\n', 'https://automatetheboringstuff.com\\n\\nSingle best way to get introduced to coding', 'For cybersecurity here is a nice graphic Netsim: https://netsim.erinn.io/\\n\\nIt covers Basics, Spoofs, Denial of Service, and Attacks that are commonly used.', 'There are some beginner video tutorials on getting started with coding here [here](https://www.youtube.com/channel/UCwKgUU85RbyFDT-sjbqS21g)  :)\\n\\nI post new videos every week!', 'I found CodingBat.com is great for practising Python/Java. Problems of varying difficulty and all on the browser. ', 'Google Drive with lot of books: [https://drive.google.com/open?id=0B9XbEQh3jB9pWVBFX0hqTzA0dUU](https://drive.google.com/open?id=0B9XbEQh3jB9pWVBFX0hqTzA0dUU)', 'Great resource for machine learning\\n\\nhttps://www.analyticsvidhya.com/', 'Hello there is a channel for all course of computer science .. the name  of lecturer is. Ravendra Babu\\n You like to watch video I must suggest for this channel infact you can also prepare for gate by watching this video.', \"Hey Reddit users, \\nHeres a brief description of me. \\nI'm a first generation latino college student. Im currently attending a 4 year UC school. I'm perusing a Mechanical engineering career but to be honest i feel i dont even know anything about it. I have no knowledge i have zero experience and i feel i will eventually fail. \\nMy roomate keeps on insisting for me to persue a computer science degree cuz he feels i would be successful in it. \\nWell i barely know how to navigate my way through a computer. I have no coding knowdelge. I barely know computer terminology.\\nMy fisst semester went well passed all my clases with As and Bs. \\nPlease help me. \", 'Pretty much every course out there, other than MOOCs.\\n\\n[https://github.com/prakhar1989/awesome-courses/blob/master/README.md](https://github.com/prakhar1989/awesome-courses/blob/master/README.md)', 'Literally everything - very simple and easy to understand examples.\\nGoalkicker.com', '[CodingBat](https://codingbat.com) is a great (and free) tool for beginners wanting to learn how to code. This is how I began learning both Python and Java for FRC. I believe it is also used for AP Computer Science classes as well. \\nYou can find more info [here](https://codingbat.com/about.html). ', 'freecodecamp is great to get started if you want to get into development. ', \"I would figure out something you want to learn, then think of a project you would like to make... and just start working. Youtube, google, and stackoverflow have everything you'd ever need in probably 90% of languages, algorithms, and technologies. Just look up things you need to complete your project. Doing is the best way to learn this sort of stuff. \", \"Hey all! Just wanted to share a potential opportunity for anyone like me who is only just getting into blockchain or just looking to gain some more experience in general. You should check out Tezos' online course (Tezos Capstone), it was free and covers things like OCaml/Liquidity Programming and designing your own dApp! It helped me so I'm sure somebody here can also gain from this (: Here's the link: https://tezoscapstone.com/\", \"https://thecrashcourse.com/courses/computerscience\\n\\nLots of good reviews and it's been amazingly helpful to me thus far :D\", 'www.learncpp.com\\nwww.codecademy.com \\n\\nGreat websites to learn programming!', 'The MIT courses are fire.', 'geekbooks.me', 'For more theoretical topics on computer science, I would recommend [Neso Academy](https://www.nesoacademy.org/). Their YouTube videos provide great explanations on many different topics like Automata Theory, Operating Systems, Network Theory, just to name a few. They also have playlists that focus on electronics and instrumentation, which are interesting to learn about from a CS standpoint. Personally, I enjoyed learning more on Theory of Computation using their videos and homework problems that you can find on their website.', '**Mobile App Development Trends in 2019**\\n\\n[https://www.ciit.edu.ph/mobile-app-development-trends/](https://www.ciit.edu.ph/mobile-app-development-trends/)', 'code.org', \"[Crash Course CS](https://www.youtube.com/watch?v=O5nskjZ_GoI)\\n\\nCan't emphasize it enough for anyone about to embark on the journey towards a CS degree as a fairly comprehensive overview of the entire topic.\", \"I'm a bot, *bleep*, *bloop*. Someone has linked to this thread from another place on reddit:\\n\\n- [/r/u_jmarc153635] [Lets post all the free courses and content about CS](https://www.reddit.com/r/u_jmarc153635/comments/9s59sr/lets_post_all_the_free_courses_and_content_about/)\\n\\n- [/r/u_jp1100404] [Lets post all the free courses and content about CS](https://www.reddit.com/r/u_jp1100404/comments/afhs9t/lets_post_all_the_free_courses_and_content_about/)\\n\\n&nbsp;*^(If you follow any of the above links, please respect the rules of reddit and don't vote in the other threads.) ^\\\\([Info](/r/TotesMessenger) ^/ ^[Contact](/message/compose?to=/r/TotesMessenger))*\", 'How do I bookmark/save this post', \"I'm having a online meeting tonight about it. DM for the invite if you want to come!\", \"I found this CS2 course that's a sequel to How to Design Programs (also known as Systematic Program Design and How to Code). It transitions to Java and builds off the knowledge from HtDP.\\n\\nhttps://web.cs.wpi.edu/~cs2102/b16/\", 'Looking for recommendations for courses on  Advanced Linear Algebra.. here is my syllabus \\n\\n[https://imgur.com/a/oPIsYpX](https://imgur.com/a/oPIsYpX)', 'Project Euler', 'Hello there! I personally just started my own journey in computer science without having prior knowledge and found these resources to be really useful. Hope it helps :)\\n\\n1. [https://www.potatopirates.game/blog/what-is-computer-science-best-ways-to-teach-it](https://www.potatopirates.game/blog/what-is-computer-science-best-ways-to-teach-it)\\n2. [https://www.codecademy.com/learn/learn-python](https://www.codecademy.com/learn/learn-python)', 'Operating systems course for academic and interview preparation \\n\\nhttps://www.udemy.com/operating-systems-from-scratch-part1/?couponCode=REDDITOFFER\\n\\nhttps://www.udemy.com/operatingsystems/?couponCode=REDDITOFFER\\n\\nhttps://www.udemy.com/operating-systems-online-course/?couponCode=REDDITDISOUNT', 'This Tech Interview Handbook is great: [https://github.com/yangshun/tech-interview-handbook](https://github.com/yangshun/tech-interview-handbook)', 'Might as well add laptop advice😛', '[Quickcode](http://www.quickcode.co/?utm_source=reddit&utm_medium=social&utm_campaign=redditAnsPanks) has free courses in most possible categories related to programming, web development, Data Science, ML, AI among other tings.', 'https://nptel.ac.in/course.php', \"This is a you-have-to-physically-go-to-this thing aimed at HS grads/incoming college freshmen, but it is free to attend (flight, food ftmp, all courses/activities):\\n\\n&#x200B;\\n\\n[https://buildyourfuture.withgoogle.com/programs/computer-science-summer-institute/#!?detail-content-tabby\\\\_activeEl=cssi-at-google](https://buildyourfuture.withgoogle.com/programs/computer-science-summer-institute/#!?detail-content-tabby_activeEl=cssi-at-google)\\n\\n&#x200B;\\n\\nApplications typically open pretty darn early in the year (if not the end of the year), but it's an awesome experience for those intimidated by majoring in CS in college.\", 'can anyone help me with grade 12 CS? Im very lost and would appreciate if anyone can offer me some help. Im doing c++ and our assignment questions are really hard.', 'Thanks for starting this! Some great resources in here', 'How to SELF learn MATH. Best video lectures plz', 'I am now starting a channel about programming and CS I will be covering issues that my team has struggled with in the past with a predilection on Java, Kotlin and general web development, mostly under the Windows OS.\\n\\nSo far you can find a up to date tutorial on how to install docker, git and chocolatey ( a windows package manager)\\n\\n [https://www.youtube.com/watch?v=s50\\\\_uxho5dc&t=1073s](https://www.youtube.com/watch?v=s50_uxho5dc&t=1073s) \\n\\nand another on how to setup an ssh key and then use it to connect to Gitlab, Bitbucket and Github\\n\\n [https://www.youtube.com/watch?v=4MD51hwqavo](https://www.youtube.com/watch?v=4MD51hwqavo)', 'Just watching it on youtube without doing problem sets is useless. Do the complete version here https://www.edx.org/course/cs50s-introduction-computer-science-harvardx-cs50x\\n\\nIt’s phenomenal', \"Yes! It's awesome for a beginner!\", \"OMG, I didn't know it (and I have previously considered myself being in CS)...\", \"Is this really free or is there some underlying commitment or catch. I want to learn cs fast and I have the dedication to put 40-50hrs a week into learning it on top of my school. But it keeps saying that the courses on edex cost money or whatever I'm kind of confused by this.\", 'OMG. 😳', 'Yes ive seen that, thanks for sharing', \"I'm a month late but thank you so much for sharing this. So much great information.\", \"Hey, Spedding1998, just a quick heads-up:  \\n**alot** is actually spelled **a lot**. You can remember it by **it is one lot, 'a lot'**.  \\nHave a nice day!\\n\\n^^^^The ^^^^parent ^^^^commenter ^^^^can ^^^^reply ^^^^with ^^^^'delete' ^^^^to ^^^^delete ^^^^this ^^^^comment.\", 'w3 schools is awesome! So much value in there... (I always wonder how 3 guys can write thousands of articles.)', 'Codecademy is really bad. It teaches you bad habits, oversimplifies and holds your hand to the point of being completely useless at actually teaching you to solve problems. ', '>Ravendra Babu\\n\\nsorry this is late, but why gate is important ? ', \"Isn't ME lot's of mechanics, thermodynamics and such?\", \"What's wrong with the MOOC course?\", 'Thank you for sharing', \"I would argue that 3Blue1Brown is the best iv'e seen to explain Linear Algebra's basics in a way that visualizes concepts ...\\n\\nhttps://www.youtube.com/playlist?list=PLZHQObOWTQDPD3MizzM2xVFitgF8hE_ab\", \"Python 2 eol is next year. That's not a good place to start off considering it'll be obsolete by the time you enter the industry.\", 'I found that just the explanations of everything were great. But the practical stuff is better. ', \"I was watching the solutions to a bunch of problem sets on Youtube but felt like I didn't learn much. Thanks for sharing.\", 'Is this really free?', \"So I'd literally just sign up and pay the $90 and get the beginner course?!\", \">*Yes, because we have to draw a line. As soon as we require paid resources in the main curriculum, we might as well tell people to pay half a million dollars to attend a university. We are an Internet-based community of learners, not a business, so free is the most sensible price and ensures that the only price you need pay is the price of Internet access.*  \\n>  \\n>*At the same time, we recognize that education is scarce resource and therefore requires payment to instructors to make it sustainable in the long term. Therefore, we respect the business model of websites like edX, which make their materials free but with some paid add-ons, like official certificates or extra interaction with course instructors.*  \\n>  \\n>*So we only require that the learning materials of a resource be free to access, not that every possible add-on be free. It would be ideal if graded assignments were always free but if we had this requirement, we would have to exclude any resource that doesn't have graded assignments at all. Plus, there are other ways to get feedback on your work, and OSSU is a do-it-yourself education.*\\n\\n&#x200B;\\n\\nThis is on their FAQ page so yes it's free but it's probably not something you can go through really fast and learn unless you've already taken most of these courses.\", \"It'll take you about 1 year to complete the core and an advanced topic if you really do keep a pace of 50hrs/week.\", \"hi sorry for the late reply, i think all the courses are free\\n\\ni'll recommend also : [https://github.com/jwasham/coding-interview-university](https://github.com/jwasham/coding-interview-university)\", 'Hey! No problem, I hope you can make the most out of it.  \\n\\nMaybe you decide studying the subjects with different courses/books but as long as you follow the same path you should be in good track.', 'Hey CommonMisspellingBot, just a quick heads up:  \\nYour spelling hints are really shitty because they\\'re all essentially \"remember the fucking spelling of the fucking word\".\\n\\nYou\\'re useless.\\n\\nHave a nice day!', 'dumb thot', 'Dumb bot', 'its an entrance exam to get into Indian institute of Technology for Post graduation education', 'Yea. Exactly.\\n', 'Thanks but I already know those things. I did those way back in high school, what I am looking for is described in the link, mainly for stuff like perturbations, frobenius norms, svd etc.', '> cs50 is free and there is no catch. There is option to pay for a verified certificate at the end. I did but it was optional.\\n\\n', 'It’s free. $90 is for the verified certificate which is useless', \"Personally I think that's in some ways easier than coding, because it's mostly exams and they curve.  Projects also look like CAD-design.  Coding can be frustrating in terms of coming up with algorithms and such and getting them to compile correctly.\", 'Do you get any other type of certificate when you complete it without paying? Or else how could you attest that you did it, put it on your cv? ', 'Is it really worth no value?', 'I did put in on my CV but no one ever asked about verification. I did talk about it though in interviews. Anyway what you learn from it is much more valuable than some certificate. I removed it from my CV eventually when I had enough experience though, to not draw attention to the fact that I don’t have a degree.', 'Appreciate the answer, thanks! I guess it boils down to if having the actual degree as verification would be worth 90 bucks to you - Which is not little money either '], ['So what should go on /r/computerscience and what should go on r/compsci ?', 'May I ask, can I share a recent post that I wrote on Neural Networks in this subreddit?', 'I get it .wonderful'], ['Athabasca University. I’m not sure about the quality of the courses though.', 'Can you go to a US school? Oregon State University has a good online program as does University of Florida. My understanding is they cater to international students as well.', 'Check out Thompson Rivers University. Its a real University with a regular campus but also has an open learning online component.', 'You will be more respected for the projects you have done. You can learn online for free (or up to $500 for the best course collections), and the only challenge is to overcome procrastination. If you really need a degree there are a lot of options some as cheap as 20k for the whole program, but usually around 40-60k. In Canada it might also be cheaper to find night classes than to do it online because of government subsidies (would be around 12k).', 'Checkout [https://lambdaschool.com/](https://lambdaschool.com/)', \"Quality is fine. It's accredited within the Canadian University standard.  That being said the student experience will obviously be very different than an in person degree.  Your enjoyment and exposure to material will rely heavily upon your own motivation and action. There is no professor there to customize the experience to the class, or provide context etc.  It's all on the student.\", \"Im not sure about the US. Maybe have to take the SATs or something to be eligible. I have a bachelor's degree in Canada so figured it'd be easier to transfer credits to a Canadian school.\", 'This site is pretty good, but with your filter only Athabasca pops up as someone has previously mentioned.\\n\\n [https://www.distancelearningportal.com](https://www.distancelearningportal.com/)', 'That is not a degree program. Also, kind of controversial from what I can glean from past discussions about it.', 'OSU’s program is specifically for students seeking a second Bachelor’s degree. You only take the core comp sci courses. You can complete it in 1.5-2 years. They also have a great subreddit with lots of student involvement. You could probably transfer your coursework and not have to take SAT but I’m not really sure.'], ['https://align.khoury.northeastern.edu', '/r/cscareerquestions'], ['r/cscareerquestions, r/csmajors, r/careerguidance', 'avoiding my question?', 'Obeying the rules']]\n",
            "5 91\n"
          ],
          "name": "stdout"
        }
      ]
    },
    {
      "cell_type": "code",
      "metadata": {
        "id": "kVLjfvUjOITS",
        "colab_type": "code",
        "colab": {
          "base_uri": "https://localhost:8080/",
          "height": 170
        },
        "outputId": "4f3c1ea6-c910-4131-e70e-4606dba4d9fe"
      },
      "source": [
        "#Collecting and extracting top 500 posts from r/gameofthrones\n",
        "\n",
        "import pandas as pd\n",
        "\n",
        "data = reddit.subreddit('gameofthrones').hot(limit=500)\n",
        "posts = map(lambda post: [post.title, post.score, post.id, post.subreddit, post.url, post.num_comments, post.selftext, post.created], data)\n",
        "\n",
        "posts = pd.DataFrame(posts, columns=['title', 'score', 'id', 'subreddit', 'url', 'numofcomments', 'selftext', 'created'])\n",
        "print(posts.head())\n",
        "print(posts.shape)\n",
        "\n",
        "posts.to_csv('hottest_500_GoT.csv', sep='\\t', encoding='utf-8', index=False)"
      ],
      "execution_count": 6,
      "outputs": [
        {
          "output_type": "stream",
          "text": [
            "                                               title  ...       created\n",
            "0  [NO SPOILERS] Let's suport Daenerys of the Hou...  ...  1.569565e+09\n",
            "1                     [NO SPOILERS] Daenerys cosplay  ...  1.572157e+09\n",
            "2          [NO SPOILERS] Oh you sad miserable soul..  ...  1.572206e+09\n",
            "3  [No spoilers] My last minute Jon Snow costume ...  ...  1.572176e+09\n",
            "4  [no spoilers] For the past few weeks I have be...  ...  1.572190e+09\n",
            "\n",
            "[5 rows x 8 columns]\n",
            "(500, 8)\n"
          ],
          "name": "stdout"
        }
      ]
    },
    {
      "cell_type": "code",
      "metadata": {
        "id": "j4yP9B4DPTuB",
        "colab_type": "code",
        "colab": {}
      },
      "source": [
        "#References-\n",
        "#https://praw.readthedocs.io\n",
        "#https://towardsdatascience.com/scraping-reddit-data-1c0af3040768"
      ],
      "execution_count": 0,
      "outputs": []
    }
  ]
}