{
  "nbformat": 4,
  "nbformat_minor": 0,
  "metadata": {
    "colab": {
      "name": "subreddit-analyzer.ipynb",
      "provenance": []
    },
    "kernelspec": {
      "name": "python3",
      "display_name": "Python 3"
    }
  },
  "cells": [
    {
      "cell_type": "code",
      "metadata": {
        "id": "Yp3lhWU2RDWX",
        "colab_type": "code",
        "colab": {}
      },
      "source": [
        "#Importing necessary libraries\n",
        "\n",
        "from IPython import display\n",
        "import math\n",
        "import string\n",
        "from pprint import pprint\n",
        "from num2words import num2words\n",
        "import pandas as pd\n",
        "import numpy as np\n",
        "import nltk\n",
        "import matplotlib.pyplot as plt\n",
        "import seaborn as sns\n",
        "sns.set(style='darkgrid', context='talk', palette='Dark2')"
      ],
      "execution_count": 0,
      "outputs": []
    },
    {
      "cell_type": "code",
      "metadata": {
        "id": "qY6HLNX0RPtV",
        "colab_type": "code",
        "outputId": "6b391f45-ccd7-4974-88b1-4719cb858a41",
        "colab": {
          "base_uri": "https://localhost:8080/",
          "height": 207
        }
      },
      "source": [
        "pip install praw"
      ],
      "execution_count": 0,
      "outputs": [
        {
          "output_type": "stream",
          "text": [
            "Requirement already satisfied: praw in /usr/local/lib/python3.6/dist-packages (6.4.0)\n",
            "Requirement already satisfied: prawcore<2.0,>=1.0.1 in /usr/local/lib/python3.6/dist-packages (from praw) (1.0.1)\n",
            "Requirement already satisfied: websocket-client>=0.54.0 in /usr/local/lib/python3.6/dist-packages (from praw) (0.56.0)\n",
            "Requirement already satisfied: update-checker>=0.16 in /usr/local/lib/python3.6/dist-packages (from praw) (0.16)\n",
            "Requirement already satisfied: requests<3.0,>=2.6.0 in /usr/local/lib/python3.6/dist-packages (from prawcore<2.0,>=1.0.1->praw) (2.21.0)\n",
            "Requirement already satisfied: six in /usr/local/lib/python3.6/dist-packages (from websocket-client>=0.54.0->praw) (1.12.0)\n",
            "Requirement already satisfied: certifi>=2017.4.17 in /usr/local/lib/python3.6/dist-packages (from requests<3.0,>=2.6.0->prawcore<2.0,>=1.0.1->praw) (2019.9.11)\n",
            "Requirement already satisfied: urllib3<1.25,>=1.21.1 in /usr/local/lib/python3.6/dist-packages (from requests<3.0,>=2.6.0->prawcore<2.0,>=1.0.1->praw) (1.24.3)\n",
            "Requirement already satisfied: chardet<3.1.0,>=3.0.2 in /usr/local/lib/python3.6/dist-packages (from requests<3.0,>=2.6.0->prawcore<2.0,>=1.0.1->praw) (3.0.4)\n",
            "Requirement already satisfied: idna<2.9,>=2.5 in /usr/local/lib/python3.6/dist-packages (from requests<3.0,>=2.6.0->prawcore<2.0,>=1.0.1->praw) (2.8)\n"
          ],
          "name": "stdout"
        }
      ]
    },
    {
      "cell_type": "code",
      "metadata": {
        "id": "dF7juNtoZ7yJ",
        "colab_type": "code",
        "outputId": "39e2b2b0-f6ee-44c8-d4f5-9f08c3ca2357",
        "colab": {
          "base_uri": "https://localhost:8080/",
          "height": 51
        }
      },
      "source": [
        "pip install num2words"
      ],
      "execution_count": 0,
      "outputs": [
        {
          "output_type": "stream",
          "text": [
            "Requirement already satisfied: num2words in /usr/local/lib/python3.6/dist-packages (0.5.10)\n",
            "Requirement already satisfied: docopt>=0.6.2 in /usr/local/lib/python3.6/dist-packages (from num2words) (0.6.2)\n"
          ],
          "name": "stdout"
        }
      ]
    },
    {
      "cell_type": "code",
      "metadata": {
        "id": "0wdG_sQiRuA6",
        "colab_type": "code",
        "colab": {}
      },
      "source": [
        "#client id- StmWjOzTODd8Og\n",
        "#user agent- r/webscraper\n",
        "#secret- 3-HWmn6SD7a32SEoOLXyVSUv5jQ\n",
        "\n",
        "import praw\n",
        "reddit = praw.Reddit(client_id='StmWjOzTODd8Og', client_secret='3-HWmn6SD7a32SEoOLXyVSUv5jQ', user_agent='r/webscraper')"
      ],
      "execution_count": 0,
      "outputs": []
    },
    {
      "cell_type": "code",
      "metadata": {
        "id": "gX3t-1NRTyIy",
        "colab_type": "code",
        "outputId": "e84a120c-d781-4b7b-cdb6-12c07781da02",
        "colab": {
          "base_uri": "https://localhost:8080/",
          "height": 68
        }
      },
      "source": [
        "nltk.download('vader_lexicon')"
      ],
      "execution_count": 0,
      "outputs": [
        {
          "output_type": "stream",
          "text": [
            "[nltk_data] Downloading package vader_lexicon to /root/nltk_data...\n",
            "[nltk_data]   Package vader_lexicon is already up-to-date!\n"
          ],
          "name": "stdout"
        },
        {
          "output_type": "execute_result",
          "data": {
            "text/plain": [
              "True"
            ]
          },
          "metadata": {
            "tags": []
          },
          "execution_count": 39
        }
      ]
    },
    {
      "cell_type": "code",
      "metadata": {
        "id": "2Ine8iJ5US6k",
        "colab_type": "code",
        "outputId": "a23bb66c-5114-4c45-d7cb-b15e87e7d05b",
        "colab": {
          "base_uri": "https://localhost:8080/",
          "height": 71
        }
      },
      "source": [
        "#Storing the titles of extracted posts into a set to avoid repetition\n",
        "\n",
        "posts = set()\n",
        "\n",
        "for post in reddit.subreddit('gameofthrones').hot(limit=500):\n",
        "  posts.add(post.title)\n",
        "\n",
        "print(posts)\n",
        "print(len(posts))"
      ],
      "execution_count": 0,
      "outputs": [
        {
          "output_type": "stream",
          "text": [
            "{'[No Spoilers] Game of Thrones tattoo that I got earlier this year, Fresh vs Healed.', \"[NO SPOILERS] Wouldn't wanna be near them at the gas station.\", '[Spoilers] Squeaky Daenerys says Dracrays', \"[NO SPOILERS] I am not sure if anyone here would be interested but I make GoT's mods and here is the trailer for my latest :)\", '[Spoilers] There Ain’t Nothing Like A Dame No. 2 (Dame Diana in Gourd, 2019)', '[SPOILERS] Did Robb really need to make that deal with Walder Frey?', '[No Spoilers] Throwback: Arya with Ghost', '[NO SPOILERS] I did GOT as an old text based videogame from the 80s. Pixelart Timelapse FANART', \"[No Spoilers] Miniature King's Landing Made out of Cardboard!\", '[NO SPOILERS] \"Power Is Power\" A Fan Art by Ertac Altinoz', '[NO SPOILERS] Here’s an unfinished pointillism portrait I did of Tyrion. Because “art is never finished only abandoned”.', '[NO SPOILERS] Winterfell 3D concept model according to the books by Shadiversity', \"[NO SPOILERS] Who did robert's bastard's kill, if anyone?\", '[Spoilers] Syrio Forel is a Jedi', '[SPOILERS] If GAME OF THRONES SEASON 8 had an anime opening', '[No Spoilers] A short poll about criticism and Game of Thrones season 8 for school', '[NO SPOILERS] GoT Wins Emmy for Best Drama', '[NO SPOILERS]Epoxy Dragons', '[NO SPOILERS] anyone know if GOT will be released in 4K?', '[NO SPOILERS] The Knight of the Laughing Tree inspired tattoo I got today', \"[SPOILERS]It's taken me since April when the song first came out in A Knight of the Seven Kingdoms, but I finally finished arranging and producing my orchestral re-arrangement of Jenny of Oldstones from Season 8!\", \"[Spoilers] Visited the Spice King's palace\", '[NO SPOILERS]Actual Game of Thrones Castles', '[NO SPOILERS] Watercolor Night King done by me ! Hope you enjoy !', '[NO SPOILERS] Game of Thrones X Rainbow Six siege', \"[SPOILERS] ANIMATED Aegon's Conquest - Part 1: Aegon's First Test 4k\", '[Spoilers] Arya and Dany', '[NO SPOILERS] Some of my favorite GOT art prints picked up at NYCC this year', '[NO SPOILERS] Are the books worth reading?', '[NO SPOILERS] GOT Reboot', \"[Spoilers] They made a group chat without you, mate. They're salty you got made King.\", \"[SPOILERS] Jorah wouldn't have done that\", \"[SPOILERS] Sam's voting idea was terrible\", '[SPOILERS] Why are people calling Tyrion an idiot?', '[No Spoilers] GOT podcast', '[NO SPOILERS] I just found this on Etsy and just wanted to share this with you...I wish I could get those cards to my next birthday!', '[SPOILERS] Game of Thrones - Suite & Rains of Castamere // The Danish National Symphony Orchestra (LIVE)', '[SPOILERS] Amazing Shots of GAME OF THRONES', '[NO SPOILERS] Daenerys quote on flattery?', '[NO SPOILERS]-\"What Is Dead May Never Die\"', '[NO SPOILERS] Outgoing GoT castmembers with Incoming GoT castmember (Naomi Watts)!', '[SPOILERS] Fixing/Re-filming Season 8?', '[No Spoilers] The night is dark and full of terrors', '[No Spoilers] I drew Jon Snow for Inktober!!!', '[SPOILERS] Cersei plays Millionaire', '[NO SPOILERS] Targaryen Dragons Using Soda Can (Automata)', '[NO SPOILERS] Daenerys Targaryen 🔥', '[NO SPOILERS] Does Moon Tea exist in the TV show verse or just in ASOIAF?', '[No Spoilers] GRRM column in Chicago Tribune', \"[No Spoilers] I'm a dumbass, I got attached\", '[SPOILERS] This completely changed GOT.', '[No Spoilers] Shamefull Promotion for A Song of Fire and Blood Discord Roleplay server...', '[No spoilers] I’m looking for a video!', '[Spoilers] Scooter - Dragonfire (music video)', '[NO SPOILERS] Livestream with Emilia Clarke for Same You Fundraiser TOMORROW! 9/26', '[NO SPOILERS] Winter is coming y’all .', '[SPOILERS] Okay, stupid question.', '[No Spoilers] When George RR Martin Completes the Final Chapter a Remake of the Final Season(s)?', '[SPOILERS] A tiny change in the end scene of s8e3 that would make the entire Bran story line a little more meaningful.', '[Spoilers] Who would win in a fight, Robert Baratheon or Khal Drogo?', '[Spoilers] The Hound Soundboard', '[NO Spoilers] looking for a new book series rec!', '[SPOILERS] What was your favorite storyline from the show?', \"[Spoilers] Its my senior year and i'm in need of quotes. Can I have some suggestions?\", '[no spoilers] Me as Daenerys and my friend as Jon Snow for Halloween!', '[NO SPOILERS] Two questions about the two got prequels', \"[SPOILERS] Theory: Brandon Stark's ultimate goal\", '[No Spoilers] I am trying to find a quote but it is eluding me.', '[NO SPOILERS] My friend painted this for my birthday', \"[NO SPOILERS] Let's suport Daenerys of the House Targaryen, the First of Her Name, The Unburnt, Queen of the Andals, the Rhoynar and the First Men, Queen of Meereen, Khaleesi of the Great Grass Sea, Protector of the Realm, Breaker of Chains and Mother of Dragons\", '[NO SPOILERS] Made a Deezer playlist for GOT ambient OSTs (1 hour, 19 mins)', '[Spoilers] Is Thoros of Myr the true unsung hero of Westeros?', '[no spoilers] might go retake Winterfell, idk.', '[No Spoilers] Winter is coming!', '[SPOILERS] ACOK quote that may foreshadow show ending', '[NO SPOILERS] IGN won the internet today.', '[NO SPOILERS] A girl has no name.', '[NO SPOILERS] TIL that Jacob Anderson (AKA Grey Worm) is an R&B pop musician under the stage name Raleigh Ritchie', \"[SPOILERS] Kit Harington - full Ace Comic Con panel interview from today (26mins long). It's a lovely watch - full of Game of Thrones /Jon Snow and Harry Potter talk.\", \"[NO SPOILERS] Castle Black Groom's Cake\", '[NO SPOILERS] It seems the Spider-Crew is visiting Westeros in the Spider-Verse Sequel. (Photo from the very 1st Cretan Comic-Con, that is being held in Heraklion, Crete this weekend)', \"[NO SPOILERS] I didn't know he had an ice cream named after him\", '[NO SPOILERS] Anyone else got this?', '[Spoilers] Chaos is a Ladder - pixel art', \"[No Spoilers] I love seeing GoT shout-outs in other shows! Unella's pic in the Shame Wizards office\", '[SPOILERS] He embodied a true Knight.', '[NO SPOILERS] Meanwhile Tyrion travels around Eastern Europe on a used Peugeot)', '[NO SPOILERS] Three GoT ‘coffee table’ books coming out soon - on Art, Photography, Costumes', '[No Spoilers] Jon Snow - Oil on Canvas, By Me', '[No spoilers] I got a 1997 print date A Game Of Thrones for only $3', '[NO SPOILERS] Found this amazing drawing of Daenerys Targaryen in Barcelona, Spain', '[NO SPOILERS] My friend drew his favorite artists as characters from GoT!', '[Spoilers] Best Actors on Game of Thrones', '[NO SPOILERS] Aegon Targaryen I by Michael Komarck', '[NO SPOILERS] - Harry Potter and the Game of Thrones - combining the two worlds to create Custom Wands', \"[No Spoilers] Ranking Peter Dinklage Emmy's submissions over the years\", '[SPOILERS] Biggest regret of S8.', '[NO SPOILERS] Me as Yara Greyjoy, the Iron Queen', '[SPOILERS] Arya and Dorne in GoT books 4 and 5', '[NO SPOILERS] Khal Drogo Doppelganger!', '[SPOILERS] Can anyone help find a video where they pasted GOT characters on Avengers End Game characters?', '[No Spoilers] The Griffin vs The Demon at the Battle of the Bells', '[Spoilers] question about the show', '[NO SPOILERS] Has anyone done the 4D puzzle of Westeros? If so...have you framed it?', '[SPOILERS] What If…?', \"[No Spoilers] anyone else upset Alfie Allen didn't take home the Emmy for best supporting actor?\", '[NO SPOILERS] Drew Jon Snow for Inktober this year, hope you guys like it!', '[Spoilers] Can someone please explain this scene to me?', '[NO SPOILERS] Characters like Jorah Mormont?', '[NO SPOILERS] Finished the White Walker. Made from exotic woods and epoxy. Cut on scroll saw', '[NO SPOILERS] I visited Dubrovnik over the summer and my GOT tour guy was an extra in GOT on two Separate occassions. He had so many stories from the show. Awesome Experience', '[NO SPOILERS] my fanart of Daenerys', '[NO SPOILERS] Huh...', '[No Spoilers] My GOT tattoo, no regrets', '[NO SPOILERS] My Doggo (Stark) posing in front of his self portrait', '[No Spoilers] Theon Greyjoy Cosplay', '[No Spoilers] I’ve now made the big 3, any other house logos I should work on?', '[Spoilers] After watching the series again recently, I feel like a lot of the final season criticisms are unwarranted.', '[SPOILERS] The Internet vs Season 8', '[NO SPOILERS] part of my inktober, emilia’s face was really difficult to get right so i tried my best!', '[NO SPOILERS] Hey everyone, we are up for Best Fandom in the Bingewatch Awards! Get your votes in as often as you can, we deserve to win this!', '[spoilers] How I ended last Halloween when I dressed up as Daenerys/ How Daenerys ended the series', '[no spoilers] Custom Printed Lego GOT figures at Ktownbricks', '[NO SPOILERS] The True WINTERFELL according to the books, full 3d model, tour and comparison - Shadiversity', '[NO SPOILERS] Rise and shine by Night King', '[NO SPOILERS] Fresh ink - Ice through a Winter Rose', '[Spoilers] Now that Game of Thrones has ended (and left a good amount of people disappointed) what would you score the show on a scale from 1 to 10?', \"[SPOILERS] I'd love to see a spinoff about the Iron Bank, and maybe the faceless men.\", '[SPOILERS] My top 3 favourite characters:) change my mind or tell me yours and why. Ill be reading all comments😀', '[Spoilers] Am I the only one who finds it weird...', '[NO SPOILERS] Added the Night King to the GoT sleeve!', '[SPOILERS] Shoutout to this lady, 3/5 prophecies ain’t to bad. Way above Melisandre', '[NO SPOILERS] It’s not the best, but here is me and my direwolf as Daenerys and Drogon for Halloween', '[NO SPOILERS] Had an absolute blast in Belfast yesterday! One of many stops on the GoT Winterfell trek tour.', '[NO SPOILERS] How come Viserys doesn’t have AE in his name?', '[No spoilers] Bantam hardcover', '[NO SPOILERS] Just released on Spotify an EPIC Game of Thrones cover! Please take a listen :)', '[No Spoilers] custom crochet dog costume i finished yesterday. I figured you guys would love it.', '[Spoilers] How would you fix Cersei as a villain?', \"[NO SPOILERS] Julian Glover as Pycelle was a great example of how good the GoT casting was. Honestly, I feel that both the character and the actor doesn't get enough credit.\", '[No Spoilers] the smell of incest', '[NO SPOILERS] Swimming in Blackwater Bay below the Red Keep and the walls of King’s Landing on my honeymoon (Dubrovnik)', \"[Spoilers] met Ian Beattie today aka Meryn Trant, total sweetheart, wasn't doing selfies but saw my Cosplay and came hug me ❤️\", '[no spoilers] I did a Jenny of Oldstones Piano Cover - hope you think it does the original justice', '[Spoilers] Bran is the true villain', '[No Spoilers] Children of the Forest cosplay at New York Comic Con! Photo by Amanda Hatfield', \"[Spoilers] Does anyone else believe Syrio Forel was Jaqen H'Ghar?\", '[SPOILERS] Missandei.', '[NO SPOILERS] The Iron Throne: Fondant Edition', '[NO SPOILERS] I’ve started some of my Christmas DIY projects! Here’s the tree!', '[No Spoilers] Iron Throne Phone Stand', \"[no spoilers] If you could cast any actor for any character, who would your dream cast be? I always thought David Bowie would've made an amazing Littlefinger.\", '[SPOILERS] Who was your favorite character?', '[No Spoilers] Sansa Stark would be the best ruler to sit on the iron throne - perhaps with the exception of Jon Snow. Like when Dany and others disregard her well thought out ideas at times and... well you know. Agree, or disagree? I used to hate Sansa in the beginning, but now she’s my favorite. U?', '[NO SPOILERS] Watermelon carving of the Night King by @valeriano_fatico!', '[NO SPOILERS] Tried to represent my House, First try 😅', '[Spoilers] Season 1-4 Bran was a good character', \"[NO SPOILERS] So that's what Podrick did to those whores...\", '[Spoilers] GOT Inktober Day 3 — Bait', '[No Spoilers] double standards about Incest', '[Spoilers] Is Jaime Lannister a GOOD guy or a BAD guy?', '[No Spoilers] GOT Anime!!! Please !!!', '[SPOILERS] What Is Your Favorite GOT scenes?', '[NO SPOILERS] favourite GOT soundtrack?', '[NO SPOILERS] My friend drew this badass Targaryen sigil using her own unique drawing style', '[Spoilers] What-if Westeros: What if Ned Stark did become King?', '[SPOILERS] Jon parallels to...', '[No Spoilers] Made a GOT snare drum. It’s the Essos and Westeros map with various house banners around it.', '[No Spoilers] Do you think Daenerys would’ve “given a ship and wish her good fortune” if Missandei chose to leave?', \"[Spoilers] Rambling Thoughts on Cersei's Character Arc\", '[Spoilers] Is Game of Thrones really that different from the traditional story?', '[No Spoilers] Best Daenerys Cosplay', '[SPOILERS] Pycelle called it in S.1 E.5', '[NO SPOILERS] IMO the Red Keep is almost unrecognizable in person', '[Spoilers]Lord Protecter Bronn of Stokeworth', '[SPOILERS] Long Story Short - Season 2', '[Spoilers] Did Jon really deserve to be King in the North?', '[SPOILERS] \"Bringing together ice and fire\"', '[SPOILERS] Brandon Stark Theory', \"[SPOILERS]Emilia Clarke Addresses 'Game of Thrones' Backlash at the Emmys\", '[NO SPOILERS] The GoT cast at the Emmy Awards', '[Spoilers] The problem with Bran being king narrative wise', \"[NO SPOILERS] It's now 3000 days since GRRM released a new novel in the series.\", '[no spoilers] \"get the finale you deserve...\"', '[No Spoilers] Went as the script for season 8 this Halloween 🎃', '[NO SPOILERS] I visited Castell De Santa Florentina (Horn Hill) while traveling in Spain. More pics in comments!', '[Spoilers] These instructions for a question paper set by a management professor in India.', '[Spoilers] How do you think that major events of S7-8 will happen in the books?', '[No Spoilers] Peter’s Emmy Win', '[NO SPOILERS] Outstanding Supporting Actor in a Drama Series!!', '[SPOILERS] Jon Snow talks the Red Wedding (Kit Harington)', '[NO SPOILERS] Aegon Targaryen and Balerion', '[NO SPOILERS] A wedding present from my cousin', '[SPOILERS] I love dressing up my daughter as a GoT character while she naps. Guess which character said this!', \"[Spoilers] In Game of Thrones, characters die. It's pretty much normal in the show. So much so, you're unfazed by a character's death. When this character died however, I cried like a baby. I'm not even ashamed to admit it.\", '[SPOILERS] Realization while rewatching the end of Season 4', '[SPOILERS] Amateur video editor, made this for Sansa Stark, hope you enjoy it :)', '[SPOILERS] Who was the Behind the Scenes MVP?', '[SPOILERS] My alternative ending- Daenerys walks and sits on the iron throne, all seems lost. Camera pans out as she takes of her face and its Arya ... que music - dun dun dadadun dun- clips of how she got there as its closes. Dun dun da dun ....=goosebumps', '[Spoilers] I just rewatched the beginning of \"The Queen\\'s Justice\" where...', '[SPOILERS] I just noticed this', '[NO SPOILERS] Game of Thrones vinyl plank flooring (yes)', '[SPOILERS] I recreated the entire Battle of Winterfell in Wonderdraft', '[SPOILERS] REVIEW: Game of Thrones Is Reanimated In An Immersive Live Concert Experience at Comerica Theatre (10-1-19)', '[No Spoilers] Game of Churches', '[NO SPOILERS] Found this gem in Canby OR... not creepy at all', '[No Spoilers] Traditional Art of Jorah Mormont of Bear Island! Loved this dude in the show, so wanted to draw him!', '[NO SPOILERS] Porto, Portugal Climate Strike', '[NO SPOILERS] Today I met Ser Jorah at a trampoline park in Edinburgh', '[No Spoilers] Cosplaying for the first time!', '[Spoilers] What is your review of Game of Thrones season 8?', '[SPOILERS] The biggest mistake the Emmy’s made was categorizing Game Of Thrones as a Drama rather than a Comedy.', '[SPOILERS] How different would the series be if the Targaryens (and Baratheon) dynasty followed the Ibn Saud method of maintaining Westeros?', '[SPOILERS] New Alfie Allen interview on Theon, life after GoT.', '[NO SPOILERS] Alfie deserved better', '[No Spoilers] My art of Beric Dondarrion. Such an underrated character, so wanted to draw him!', '[SPOILERS] Sansa Stark tribute', '[No Spoilers] I feel bad for GRRMartin', \"[Spoilers] Emmy Winners for 'Game of Thrones' Full Press Room Speeches | THR.\", '[Spoilers] Cersei overly confident?', '[SPOILERS]What I think Cersei is thinking at the end of The Last Of The Starks', '[NO SPOILERS] What do you think of my Drogon?', '[SPOILERS] which season of Game of Thrones is the most violent?', '[Spoilers] Why didn’t Cersei do much in Season 8?', '[SPOILERS] Looking for this pic in HQ', '[NO SPOILERS] WHY ISN’T THIS IMPORTANT HISTORY TAUGHT IN SCHOOLS.', '[NO SPOILERS] My very cutesy House Baratheon tattoo, done @ Luck and Love in Darlington', '[NO SPOILERS] God bless Rose Leslie for not being able to bring herself into doing a middle finger', '[NO SPOILERS] My drawing of Tyrion I did last year. Hope you like it', '[NO SPOILERS] Is it just me or does Jon Snow in the Game of Thrones game ads look a lot like Jimmy Kimmel wearing a Jon Snow costume', '[Spoilers] How could Olenna and Mace let Loras to fight with...?', \"[No Spoilers] It's amazing how much money must've been spent to close down all the shops and restaurants.\", '[Spoilers] Was it ever explained in the show who gave the Valyrian steel dagger to the catspaw in season 1?', '[NO SPOILERS] GOT sigil inspired king size quilted coverlet', '[spoilers] Found an interesting video game parallel', '[SPOILERS] This dorthraki scene looking celebration of the Ethiopian holiday \"Meskel\".', '[no spoilers] why do you think season 8 blew up as much as it did?', '[NO SPOILERS] Had some fun at the Game of Thrones-Tour in Belfast', '[NO SPOILERS] Game of Thrones piano music', '[No Spoilers] when I thought he’d end up muh king', '[SPOILERS] This is what I believe really happened...', '[NO SPOILERS] Finally finished my drawing of Arya!', '[No Spoilers] The Top Gadgets That Went Viral In 2019', \"[No Spoilers] Here's my second one, took me about 30-40hrs to complete, enjoy and please message if interested in purchasing :D\", '[NO SPOILERS] Game Of Thrones Lo-Fi music theme · Original lo-fi chill / hip hop version · vibe the way', '[NO SPOILERS] Actor Kristofer Hivju (Tormund Giantsbane) is auctioning away original signed script for charity', '[SPOILERS] Met Rebecca Thompson tonight! Fermilab Physicist and author of Fire, Ice, and Physics: The Science of Game of Thrones!', '[NO SPOILERS] Maisie Williams interview of Fire and Milk on Hot Ones', '[Spoilers] My (noob) Opinions and some Analysis on the GoT Show', '[spoilers] Why did Mrs. Hodor try to say that no stable boys should learn to fight...', '[SPOILERS] How big is Drogon in Season 8?', '[SPOILERS] D&D could’ve taken a lesson from Marvel', '[NO SPOILERS] Jon Snow Halloween Costume', '[spoilers] Who “outed” Theon as a eunuch?', '[No Spoilers] finally got a pic of the costume on this big ferocious doggo. Lacey won Funniest costume and was chosen for the overall contest on Nov. 3rd.', '[NO SPOILERS] This is an ink illustration I did the week before the end having no idea what would happen', '[SPOILERS] Hardest episode to watch?', '[NO SPOILERS] Is it just me, who really hates Margaery?', '[No Spoilers] I just visited Klis Fortress in Croatia, some of you may recognise it...', '[NO SPOILERS] A more nuanced view at D&D', '[SPOILERS] Game of Thrones characters according to an AI', '[No Spoilers] Remember this place', '[NO SPOILERS] Which House has the best theme/music?', '[No Spoilers] Gods, what a young boe and a good ward he was', '[No Spoilers] GAME OF THRONES STUDIO TOUR OPENING DATE? ANYONE?', '[No Spoilers] My drawing of Night King. I did ot with colred pencils. Hope you like it.', '[NO SPOILERS] tattoo translation- I need your help!!', '[NO SPOILERS] Coming soon to a liquor store near you... A Song of ICE and FIRE', '[Spoilers] You fucking idiot', '[NO SPOILERS] Rhaena Targaryen: Queen In The West - History & Lore', '[Spoilers] The new Kingslanding', '[NO SPOILERS] If i ever meet Rory McCann/Sandor Clegane, i don’t want an autograph or a picture, no, i want him to call me a fucking CUNT.', '[NO SPOILERS] Just recieved my \"Red Viper\\'s Spear\" replica. Longclaw for scale.', '[NO SPOILERS] Always repping house Targaryen even in the office 🤙', '[SPOILERS] I just read the red wedding for the first time.', '[SPOILERS] Which is your favourite scene in the Game of Thrones? And why?', '[SPOILERS] West of Westeros, and seemingly a lack of curiosity', '[NO SPOILERS] Game of Thrones painting I did. Time lapse link in the comments', '[NO SPOILERS] Oh you sad miserable soul..', '[NO SPOILERS] Game of Thrones Tribute', '[NO SPOILERS] On my way to bend the knee.', \"[No Spoilers] A custom Tywin Lannister avatar I'm creating for VRchat\", '[No Spoilers] Anybody felt tremors when Tyrion says: Death is so final, yet life is full of possibilities .?', '[SPOILERS] Hi, Ppl. This is My FanTribute to Daenerys Targaryen, The Mother of Dragons My Fav Character of GOT. Hope you like :)', '[No spoilers] I got a tattoo for my favorite show and wanted my favorite character death from S1. Thanks for looking!', '[NO SPOILERS] Display wall of Dire Wolf skulls recovered from the La Brea Tar Pits in Los Angeles. Photo taken at the on-site museum.', \"[SPOILERS] The difference between Book Daenerys & Show Daenerys, I think it's worth spending time to read this post, Thank you D&D for your Incompetent.\", '[NO SPOILERS] Documentary about downfall of GoT', '[NO SPOILERS] I drew a fast portrait of the Night King for Inktober, I thought this sub might like it', '[No Spoilers] (Season 3) How did Osha not know of warg powers when she lived with other wildlings who had them?', '[SPOILERS] This Video is so epic 😍', '[No Spoilers] Game of Thrones - Suite & Rains of Castamere // The Danish National Symphony Orchestra (LIVE)', \"[SPOILERS] Let's be real, the show would have been better if Jon ended up on the throne\", '[NO SPOILERS] Found this cool guy in Denver last weekend', '[NO SPOILERS] GoT won this award only because of the Cast and Crew, the people who actually worked hard for it. Congratulations to every single person in crew, background actors, technician and everyone in between, you all deserved it. Except of course DnD.', '[SPOILERS] My Daenerys cosplay from Con of Thrones! Ring the bells.', '[Spoilers] the ending', '[SPOILERS] Who are the 3 men Jaime thinks would have a chance against him.', '[SPOILERS] Theory on the Iron Bank and plot inconsistencies', '[NO SPOILERS] Backstage photo after the Best Drama Series win.', '[Spoilers] Game of Thrones Alternate Ending', '[SPOILERS] What if at the end of 8.03...', '[SPOILERS] hello i made some art a while back that i finally got around to posting, pls enjoy', \"[No Spoilers] - Would like to sell rare GOT books , don't see anything in the rules?\", '[NO SPOILERS] Training like and Becoming Jon Snow', \"[No spoilers] I kind of want to get this for the winter but it's $150. I'm afraid I'll be disappointed. I love it! But not sure if I'll love it till the end.\", \"[NO SPOILERS] Breaking Bad's Aaron Paul Loved Game of Thrones Ending & Is interested in Joining The Prequel Series\", '[NO SPOILERS] My tattoo, tribute to Arya Stark and her needle.', '[NO SPOILERS] I need help finding a video of GOT', '[SPOILERS] If GAME OF THRONES had an anime opening', \"[NO SPOILERS] It's Yearbook Week and my work celebrated by decorating chairs!\", '[Spoilers] I would have liked season 8 more if it went more in this direction, anyone else agree?', '[No Spoilers] Kit Harington Talking about Controversies of Game of Thrones at Emmys.', \"[NO SPOILERS] He's still my favorite character in GoT . What a wise men he was .\", '[NO SPOILERS] Worst series wrap up in TV history ? GOT or LOST ??', '[No Spoilers] Night King Theme with choir singing?', \"[No Spoilers] Ben Crompton (Dolorous Edd) making a music video appearance!! 'I Am The Sky - John Bramwell'\", '[SPOILERS] Bron, that cheeky bastard, changing Tyrion’s promise from “I’ll beat it” to “I’ll double it”.', '[Spoilers] How many boars could Robert take in his prime?', '[NO SPOILERS] Dragonstone ticked off bucket list', '[NO SPOILERS] Lord of Light! Come to us in our darkness. For the night is dark and full of terrors.', \"[NO SPOILERS] Can't quite find this GoT music that sounds like Ori OST!\", '[SPOILERS] Who does everyone think the Lord of Highgarden will marry?', '[NO SPOILERS] \"Jenny of Oldstones\" from Game of Thrones - (Podrick\\'s Song /Cover by Roxy Darr)', '[No Spoilers] George R R Martin Interview from August 2019', \"[Spoilers] Why doesn't anyone just hire a Faceless Man?\", \"[NO SPOILERS] My gf doesn't have a reddit account but wants to share her excitement about cosplaying Daenerys at Comic Con\", '[NO SPOILERS] What happened to the Game Of Thrones Beyond The Wall mobile game? It was set to come in September but I can’t find it anywhere', '[Spoilers] If Game of Thrones were an Indian Soap Opera', '[NO SPOILERS] I drew this 3 Years ago and finally decided to share it', '[SPOILERS] Jon Snow heritage...', '[No Spoilers] Visited King’s Landing today!', '[No Spoilers] NYCComicon2019 Daenerys cosplay years in the making.', '[SPOILERS] Still disappointed by the ending...', '[SPOILERS] Emilia Clarke says her most favourite scene to film in all of Thrones was her last', \"[NO SPOILERS] Carved a pumpkin with the sigil of House Dorne. Warning, it's not very good.\", '[NO SPOILERS] Is it worth reading the books after watching the show or are they basically the same?', \"[Spoilers] Tyrion's best speech\", '[NO SPOILERS] Tried my hand at making dragon eggs. Turns out I made ice and fire without realizing it until someone pointed it out.', '[NO SPOILERS] GoT- Toronto Maple Leafs Intro Parody', '[Spoilers] what the fuck!!!', '[SPOILERS] Hurts to this day.', '[NO SPOILERS] Wife gave me the GOT Catan for my birthday', '[Spoilers] What on earth is going on with Bran?!', '[Spoilers] S5 Varys vs S8 Varys (credits for image go to u/ice_and_fiyah)', '[NO SPOILERS] GOT Hollywood Bowl Concert from all seasons. It was amazing.', \"[Spoilers] What was Bran's tax policy?\", '[Spoilers] TIL: Why there’s so many ravens/crows/blackbirds/etc. (especially up north)', '[No Spoilers] This is me playing the first part of a song of ice and fire. i hope you like it :)', '[No Spoilers] So, my coworker had her first child and she shared with us this video (turn the sound on)', '[SPOILERS] My post has been quoted!! (Atleast give me some recognition, in the end it was my \"valuable time\" that has gone into this research haha) Nevertheless this is a great article, strongly recommend :D', \"[NO SPOILERS] doing a Game of Thrones themed inktober and today's prompt is SNOW. So there could be only one choice The man who knows nothing...Jon Snow! Always tries to do the right thing, one of my favourite characters from the show\", '[SPOILERS] Yara Greyjoy and Jon Snow?', '[No Spoilers] Onboard the cruise ship Jewel of the Seas for my honeymoon', \"[NO SPOILERS] “If you're a famous smuggler, you're not doing it right.”, ink on paper, me, 2019\", '[NO SPOILERS] The True WINTERFELL according to the books.', '[No Spoilers] A birds eye view of White Harbour from WesterosCraft. Photo credit @westeroscraft', '[SPOILERS] The True WINTERFELL according to the books, full 3d model, tour and comparison | Shadiversity', '[No Spoilers] Wild(ling) For Disc Golf: A Chat With Kristofer Hivju about his new obsession', '[NO SPOILERS] Kit Harington arrived at the Emmys', \"[Spoilers] The meaning of the name 'Bran' in Celtic.\", '[NO SPOILERS] Top 15 Game of Thrones Characters by Spoken Words (2011-2019)', '[No Spoilers] I tried to break down/remake the Dothraki soundtrack theme! (full audio starts 7:22)', '[NO SPOILERS] In honour of World “Octopus” Day: What Is Dead May Never Die!', \"[No Spoilers] Here's my Season 6 Dany with a better full-body this time.\", '[SPOILERS] Choose just one thing that pissed you off the most in season 8?', '[NO SPOILERS] This show was great.', '[NO SPOILERS] Just picked this up!', '[NO SPOILERS] The True WINTERFELL according to the books... by Shadiversity', '[No Spoilers] Hi Reddit! I made this awhile back all hand drawn with pen and I wanted to share it all with you! I have prints for sale if interested.', '[NO SPOILERS] The Voice Portugal. Thank me later.', '[Spoilers] Pretty cool Robert Baratheon video!', '[NO SPOILERS] I made my pupper an iron throne. Meet Chip of House Poodle', '[Spoilers] About Daenerys and Drogon', \"[No Spoilers] I'M NOT YOUR HAND ANYMORE 😂\", '[SPOILERS] I drew Beric for inktober, what do you guys think?', '[SPOILERS] I still stand by Dany and hate Jon', \"[SPOILERS] Podrick's Song - Jenny of Oldstones - Season 8 - Cover made by ChewDa2\", \"[Spoilers] What's he looking at? Wrong answers only.\", '[NO SPOILERS] Some free to use game of thrones cast characters I created recently :)', '[SPOILERS]Who else felt bad of how the night king/white walkers, dragons and overall magic themes were treated in the show?', '[No Spoilers] WOW', '[No Spoilers]Paula Fairfield, Sound Designer Behind Game of Thrones Talks Her Emmy Win', '[NO SPOILERS] Jon Snow MONTAGE', '[NO SPOILERS] Hope you guys enjoy my Fire & Ice fan art!', '[SPOILERS]. Interesting take on Jamie Lannister | least someone seems somewhat positive on the Ending', '[spoilers] why Euron was able to do what he did', '[NO SPOILERS] Angles matters ( self ) .', '[NO SPOILERS] Game of Thrones Trivia! True or False Questions!', '[No Spoilers] The Legends and Myths Behind the White Walkers', '[Spoilers] Summary of D&D interviewed at recent panel', '[NO SPOILERS] I just got this painting for my birthday', '[SPOILERS] Daenerys explained by Don Draper.', '[No Spoilers] GOT Life Size Throne for Sale', '[NO SPOILERS] Game of Thrones Inspired Halloween Office Decoration Guards Cubicle For Contest Crown', \"[SPOILERS] Jamie's character incostistency\", '[NO SPOILERS] Poor ending of the show has demotivated me continue with the books. Book fans please motivate me.', '[SPOILERS] Glass of Thrones, Belfast UK (Repost)', \"[Spoilers] Assume Varys got bitten by a ''magical'' spider and developed powers identical to Spider-Man...\", '[No Spoilers] Any good spoiler-free tributes/trailers for the series on Youtube for recommending to people?', '[NO SPOILERS] Live Concert Experience', '[NO SPOILERS] Daenerys cosplay', '[SPOILERS] The ending we deserved.', '[SPOILERS] Littlefinger Theory', '[NO SPOILERS] I met Summer & Greywind (Odin & Thor).', '[SPOILERS] - Warning! how the show should’ve ended and how the book may end', '[no spoilers] look what my mum made for my birthday!', '[no spoilers] painting of drogon', '[Spoilers] War, Hypocrisy, and Game of Thrones', '[Spoilers] Worst Line Ever', \"[NO SPOILERS] Gwendoline Christie’s reaction to applause for her at the Emmy's was priceless!\", \"[Spoilers] The symbolism of Tyrion's name\", '[NO SPOILERS] Game of thrones has ruined other historical dramas for me', '[SPOILERS] Did the Night King consider Jon Snow a threat?', '[spoilers] We forgive, we do not forget...', '[NO SPOILERS] I Made this for no Reason !', '[Spoilers] Game Of Thrones Deleted Scenes Improve Daenerys’ Mad Queen Arc', '[NO SPOILERS] Water Color Weirwood tree I made.', '[No Spoilers] Who is your favorite direwolf?', \"[SPOILERS] Why didn't we get any nudity from...?\", \"[NO SPOILERS] Just finished 3d printing and painting this for my sisters' birthday. 18 hour print. Shes a huge GoTs fan although I never watched it. What do you guys think? Link to video of it in comments.\", '[SPOILERS] The Battle of Winterfell.', '[NO SPOILERS] This reunion between Kit and Sophie is so beautiful. Put the sound up.', '[NO SPOILERS] Melisandre costume I made for the Ren Faire', '[SPOILERS] My Satanic Majesty (fan video)', '[NO SPOILERS] Lena Headey arriving at the Emmys. Absolutely breathtaking!', '[No Spoilers] Just a fanart portrait of Jon Snow, the good noodle', '[No Spoilers] Winter is coming', '[No Spoilers] What would be the MAIN thing you change with season 8...... Just 1 thing', \"[NO SPOILERS] If she doesn't win an Emmy tonight she's won my heart. Looks, personality and all.\", '[No Spoilers] my transformation into Khal Drogo! (Before and After)', '[Spoilers] A Song of Ice & Fire', '[SPOILERS] Bonus Material: Drogon as a wee bairn and Swearing the Oaths with Jon Snow - Kit Harington', '[No Spoilers] One of the best pieces of the show IMHO', '[Spoilers] Minor. There is a quotation mark missing in my, \"A Dance with Dragons.\" Need someone to tell me where it goes.', '[SPOILERS] Better actress - Cersei or Catelyn Stark?', '[NO SPOILERS] In love with my friend’s painting for my 18th!', '[NO SPOILERS] Great rendition of Jenny of Oldstones on The Voice Portugal', '[No Spoilers] I will Do what Queens Do. I Will Rule.', '[SPOILERS] So I had a halloweenparty last night and decided to go as a character from GOT', '[SPOILERS] If The Night King Spoke, What Would He Sound Like?', \"[NO SPOILERS] Halloween is coming. The Night King pumpkin for my work's pumpkin carving competition.\", '[NO SPOILERS] Lyanna Mormont, Lady of Bear Island, acrylic on black velvet painting by velvetgeek, 2018', '[NO SPOILERS] Ser Brienne of Tarth arriving at the Emmys and serving looks', '[NO SPOILERS] Where can I find a Night King Costume?', '[NO SPOILERS] Happy Halloween everyone!', '[No spoilers] Im starting to read game of thrones and im on page 40 does it get better and does the book get better', '[No spoilers] Ghost and The King in the North for Inktober', '[Spoilers] Need to Vent About this', '[No Spoilers] just a late night sketch of bronn.', '[No spoilers] book 6', '[No spoilers] My last minute Jon Snow costume from last Halloween.', '[NO SPOILERS] Is each season of the show equivalent to one book?', \"[NO SPOILERS] 2 Swing dancers decided to make a Game of Thrones routine. You won't believe how good it is!\", '[No Spoilers] \"When you play the game of thrones, you win or you die\" - Cersei Lannister', '[NO SPOILERS] Visenya Targaryen and her dragon Vhagar', '[NO SPOILERS] GOT and Roman Mythos', '[SPOILERS] thoughts on Ned.', '[SPOILERS] Could Ramsay Bolton have been written as The Prince that was promised ?', '[SPOILERS] Theon was a actually pet dog', '[NO SPOILERS] Was bored and had nothing to do at school today', '[NO SPOILERS] etiquette at GoT live symphony shiw', '[NO SPOILERS] I drew Drogon!', '[No Spoilers] I made a desktop I thought this sub might like.', '[NO SPOILERS] I Made a Hip Hop Version to the Game Of Thrones Theme song , Hope You like it', '[NO SPOILERS] Will Game of Thrones be removed from HBO GO and placed in HBO Max?', '[NO SPOILERS] I really hope one of the spin offs is a Duncan and Egg adventure series', '[NO SPOILERS] when GoT was on now tv, I only got to season 3. That was until my grandad got me this today', '[spoilers] saw these Halloween lawn Decorations when walking home after dropping my son off at school.', '[No Spoilers] Game of Thrones Concert', '[Spoilers] Dreaming of happier times...', '[No Spoilers] The Future in a Dream (fanfiction to the tale of the doom of Valyria)', '[No Spoilers] Emilia Clarke got tattoos inspired by her dragons', '[NO SPOILERS] Awhile ago I made the front page for my Arya cosplay makeup. Today I attended NYCC and met some amazing cosplayers! I hid Sansa’s face for privacy, but if she somehow contacts me I’d be more than happy to post our photo! 🐺', '[SPOILERS] Now that it is all over, despite who won after seeing all the players who do you think would’ve actually been a good and/or effective ruler? And why?', '[SPOILERS] Cosplay of my wife and I as Daenarys & Drogon', '[NO SPOILERS] Local street performers', '[SPOILERS] Why did the Dothraki Follow Dany...', '[no spoilers] For the past few weeks I have been overly hyping how much time and money I spent on my GOT costume...happy early Halloween! ( my hat says “written by d&d” and my finger says “dracarys”)', '[NO SPOILERS] Just finished my version of the Jon Snow bust!', '[No Spoilers] Game of Thrones Houses, Archetypes, The Zodiac, Opposites', '[SPOILERS] Looking for a certain video', '[NO SPOILERS] Shitty photo, but awesome experience! Totally recommend checking out the concert!', '[NO SPOILERS] My favorite Hodor ( ma_courchesne ) with Hodor .', '[No spoilers] Cake of Thrones A really talented cake maker has just shared this picture of a cake done by Pecatta Minuta. It’s entirely made of modelling chocolate and fondant!', '[NO SPOILERS] Another Glass of Thrones in Belfast, this one dedicated to the Targaryens.', '[NO SPOILERS] If I were only as rich as a Lannister... Spotted at Goldpath wine and spirits, NY', '[NO SPOILERS] What is your favorite episode?', '[NO SPOILERS] My Parents got House Glasses', '[NO SPOILERS] Winter is coming', '[NO SPOILERS] Game of Thrones Theme played on melodic drums', '[NO SPOILERS] Happy 71st Birthday to the ONE TRUE KING - George of the House Martin, First of His Name, King of the Andals and the First Men, and Creator of the Seven Kingdoms.', '[SPOILERS] FIRE AND BLOOD : A SEASON 1 TRIBUTE', \"[Spoilers] 7 significant scenes cut from the final season of 'Game of Thrones'\", '[No spoilers] Is there a real life location that helped inspire/shape Castle Black?', '[No Spoilers] I painted The Mountain', '[spoilers] Am I the only one who was happy Lommy go what was coming to him?', '[NO SPOILERS] incidental House Stark cosplay', '[SPOILERS] Which cultures and societies in Game of Thrones have the most relaxed and libertine views on sex?', '[NO SPOILERS] Dragon. My art of leather and polymer clay'}\n",
            "500\n"
          ],
          "name": "stdout"
        }
      ]
    },
    {
      "cell_type": "code",
      "metadata": {
        "id": "iUJ9oujnR9Pe",
        "colab_type": "code",
        "outputId": "46b1d02e-e2a8-4899-c5f7-a54c32fedd87",
        "colab": {
          "base_uri": "https://localhost:8080/",
          "height": 459
        }
      },
      "source": [
        "#Brute sentiment analysis without preprocessing and cleaning of extracted data\n",
        "\n",
        "from nltk.sentiment.vader import SentimentIntensityAnalyzer as SIA\n",
        "\n",
        "sia = SIA()\n",
        "results = []\n",
        "\n",
        "for post in posts:\n",
        "  score = sia.polarity_scores(post)\n",
        "  score['post'] = post\n",
        "  results.append(score)\n",
        "  \n",
        "pprint(results[:5], width=100)"
      ],
      "execution_count": 0,
      "outputs": [
        {
          "output_type": "stream",
          "text": [
            "[{'compound': 0.3182,\n",
            "  'neg': 0.0,\n",
            "  'neu': 0.85,\n",
            "  'pos': 0.15,\n",
            "  'post': '[No Spoilers] Game of Thrones tattoo that I got earlier this year, Fresh vs Healed.'},\n",
            " {'compound': 0.0,\n",
            "  'neg': 0.0,\n",
            "  'neu': 1.0,\n",
            "  'pos': 0.0,\n",
            "  'post': \"[NO SPOILERS] Wouldn't wanna be near them at the gas station.\"},\n",
            " {'compound': 0.0,\n",
            "  'neg': 0.0,\n",
            "  'neu': 1.0,\n",
            "  'pos': 0.0,\n",
            "  'post': '[Spoilers] Squeaky Daenerys says Dracrays'},\n",
            " {'compound': 0.6563,\n",
            "  'neg': 0.052,\n",
            "  'neu': 0.741,\n",
            "  'pos': 0.206,\n",
            "  'post': \"[NO SPOILERS] I am not sure if anyone here would be interested but I make GoT's mods \"\n",
            "          'and here is the trailer for my latest :)'},\n",
            " {'compound': -0.0572,\n",
            "  'neg': 0.151,\n",
            "  'neu': 0.714,\n",
            "  'pos': 0.135,\n",
            "  'post': '[Spoilers] There Ain’t Nothing Like A Dame No. 2 (Dame Diana in Gourd, 2019)'}]\n"
          ],
          "name": "stdout"
        }
      ]
    },
    {
      "cell_type": "code",
      "metadata": {
        "id": "OMq8mEnMYnwJ",
        "colab_type": "code",
        "outputId": "e7a34685-8bc3-4a0d-ff8a-8bcaacaa9793",
        "colab": {
          "base_uri": "https://localhost:8080/",
          "height": 68
        }
      },
      "source": [
        "nltk.download('stopwords')"
      ],
      "execution_count": 0,
      "outputs": [
        {
          "output_type": "stream",
          "text": [
            "[nltk_data] Downloading package stopwords to /root/nltk_data...\n",
            "[nltk_data]   Package stopwords is already up-to-date!\n"
          ],
          "name": "stdout"
        },
        {
          "output_type": "execute_result",
          "data": {
            "text/plain": [
              "True"
            ]
          },
          "metadata": {
            "tags": []
          },
          "execution_count": 42
        }
      ]
    },
    {
      "cell_type": "code",
      "metadata": {
        "id": "rYnjtQCiTq-Z",
        "colab_type": "code",
        "colab": {}
      },
      "source": [
        "#Stopword removal, punctuation elimination and tokenization of extracted data\n",
        "\n",
        "from nltk.corpus import stopwords\n",
        "from nltk.tokenize import word_tokenize\n",
        "\n",
        "remove = set(stopwords.words('english'))\n",
        "filtered = []\n",
        "\n",
        "for post in posts:\n",
        "  #Converting numbers to words and removing punctuations to give bag of words\n",
        "  post = [num2words(x) if x.isnumeric() else x for x in post.translate(str.maketrans('', '', string.punctuation)).lower().split()]\n",
        "  \n",
        "  #Removing \n",
        "  temp = [x for x in post if x not in remove]\n",
        "  filtered.append(\" \".join(temp).replace('spoilers', '').strip())"
      ],
      "execution_count": 0,
      "outputs": []
    },
    {
      "cell_type": "code",
      "metadata": {
        "id": "fH83GV39Yjrq",
        "colab_type": "code",
        "outputId": "2cba3910-a0db-49be-ddd1-b756901296c4",
        "colab": {
          "base_uri": "https://localhost:8080/",
          "height": 493
        }
      },
      "source": [
        "#Results of sentiment analysis after preprocessing\n",
        "\n",
        "from nltk.sentiment.vader import SentimentIntensityAnalyzer as SIA\n",
        "\n",
        "sia = SIA()\n",
        "results = []\n",
        "\n",
        "for post in filtered:\n",
        "  score = sia.polarity_scores(post)\n",
        "  score['post'] = post\n",
        "  results.append(score)\n",
        "  \n",
        "pprint(results[:5], width=100)\n",
        "data = pd.DataFrame.from_records(results)\n",
        "data.head()"
      ],
      "execution_count": 51,
      "outputs": [
        {
          "output_type": "stream",
          "text": [
            "[{'compound': 0.3182,\n",
            "  'neg': 0.0,\n",
            "  'neu': 0.777,\n",
            "  'pos': 0.223,\n",
            "  'post': 'game thrones tattoo got earlier year fresh vs healed'},\n",
            " {'compound': 0.0, 'neg': 0.0, 'neu': 1.0, 'pos': 0.0, 'post': 'wouldnt wanna near gas station'},\n",
            " {'compound': 0.0, 'neg': 0.0, 'neu': 1.0, 'pos': 0.0, 'post': 'squeaky daenerys says dracrays'},\n",
            " {'compound': 0.6124,\n",
            "  'neg': 0.0,\n",
            "  'neu': 0.583,\n",
            "  'pos': 0.417,\n",
            "  'post': 'sure anyone would interested make gots mods trailer latest'},\n",
            " {'compound': -0.2755,\n",
            "  'neg': 0.161,\n",
            "  'neu': 0.839,\n",
            "  'pos': 0.0,\n",
            "  'post': 'ain’t nothing like dame two dame diana gourd two thousand and nineteen'}]\n"
          ],
          "name": "stdout"
        },
        {
          "output_type": "execute_result",
          "data": {
            "text/html": [
              "<div>\n",
              "<style scoped>\n",
              "    .dataframe tbody tr th:only-of-type {\n",
              "        vertical-align: middle;\n",
              "    }\n",
              "\n",
              "    .dataframe tbody tr th {\n",
              "        vertical-align: top;\n",
              "    }\n",
              "\n",
              "    .dataframe thead th {\n",
              "        text-align: right;\n",
              "    }\n",
              "</style>\n",
              "<table border=\"1\" class=\"dataframe\">\n",
              "  <thead>\n",
              "    <tr style=\"text-align: right;\">\n",
              "      <th></th>\n",
              "      <th>neg</th>\n",
              "      <th>neu</th>\n",
              "      <th>pos</th>\n",
              "      <th>compound</th>\n",
              "      <th>post</th>\n",
              "    </tr>\n",
              "  </thead>\n",
              "  <tbody>\n",
              "    <tr>\n",
              "      <th>0</th>\n",
              "      <td>0.000</td>\n",
              "      <td>0.777</td>\n",
              "      <td>0.223</td>\n",
              "      <td>0.3182</td>\n",
              "      <td>game thrones tattoo got earlier year fresh vs ...</td>\n",
              "    </tr>\n",
              "    <tr>\n",
              "      <th>1</th>\n",
              "      <td>0.000</td>\n",
              "      <td>1.000</td>\n",
              "      <td>0.000</td>\n",
              "      <td>0.0000</td>\n",
              "      <td>wouldnt wanna near gas station</td>\n",
              "    </tr>\n",
              "    <tr>\n",
              "      <th>2</th>\n",
              "      <td>0.000</td>\n",
              "      <td>1.000</td>\n",
              "      <td>0.000</td>\n",
              "      <td>0.0000</td>\n",
              "      <td>squeaky daenerys says dracrays</td>\n",
              "    </tr>\n",
              "    <tr>\n",
              "      <th>3</th>\n",
              "      <td>0.000</td>\n",
              "      <td>0.583</td>\n",
              "      <td>0.417</td>\n",
              "      <td>0.6124</td>\n",
              "      <td>sure anyone would interested make gots mods tr...</td>\n",
              "    </tr>\n",
              "    <tr>\n",
              "      <th>4</th>\n",
              "      <td>0.161</td>\n",
              "      <td>0.839</td>\n",
              "      <td>0.000</td>\n",
              "      <td>-0.2755</td>\n",
              "      <td>ain’t nothing like dame two dame diana gourd t...</td>\n",
              "    </tr>\n",
              "  </tbody>\n",
              "</table>\n",
              "</div>"
            ],
            "text/plain": [
              "     neg    neu  ...  compound                                               post\n",
              "0  0.000  0.777  ...    0.3182  game thrones tattoo got earlier year fresh vs ...\n",
              "1  0.000  1.000  ...    0.0000                     wouldnt wanna near gas station\n",
              "2  0.000  1.000  ...    0.0000                     squeaky daenerys says dracrays\n",
              "3  0.000  0.583  ...    0.6124  sure anyone would interested make gots mods tr...\n",
              "4  0.161  0.839  ...   -0.2755  ain’t nothing like dame two dame diana gourd t...\n",
              "\n",
              "[5 rows x 5 columns]"
            ]
          },
          "metadata": {
            "tags": []
          },
          "execution_count": 51
        }
      ]
    }
  ]
}