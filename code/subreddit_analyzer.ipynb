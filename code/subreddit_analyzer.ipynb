{
  "nbformat": 4,
  "nbformat_minor": 0,
  "metadata": {
    "colab": {
      "name": "subreddit-analyzer.ipynb",
      "provenance": []
    },
    "kernelspec": {
      "name": "python3",
      "display_name": "Python 3"
    }
  },
  "cells": [
    {
      "cell_type": "code",
      "metadata": {
        "id": "dF7juNtoZ7yJ",
        "colab_type": "code",
        "outputId": "dd5126e1-895f-4f44-888e-6c47007a767c",
        "colab": {
          "base_uri": "https://localhost:8080/",
          "height": 139
        }
      },
      "source": [
        "pip install num2words"
      ],
      "execution_count": 4,
      "outputs": [
        {
          "output_type": "stream",
          "text": [
            "Collecting num2words\n",
            "\u001b[?25l  Downloading https://files.pythonhosted.org/packages/eb/a2/ea800689730732e27711c41beed4b2a129b34974435bdc450377ec407738/num2words-0.5.10-py3-none-any.whl (101kB)\n",
            "\r\u001b[K     |███▎                            | 10kB 17.5MB/s eta 0:00:01\r\u001b[K     |██████▌                         | 20kB 1.8MB/s eta 0:00:01\r\u001b[K     |█████████▊                      | 30kB 2.6MB/s eta 0:00:01\r\u001b[K     |█████████████                   | 40kB 3.4MB/s eta 0:00:01\r\u001b[K     |████████████████▏               | 51kB 2.1MB/s eta 0:00:01\r\u001b[K     |███████████████████▍            | 61kB 2.4MB/s eta 0:00:01\r\u001b[K     |██████████████████████▋         | 71kB 2.8MB/s eta 0:00:01\r\u001b[K     |█████████████████████████▉      | 81kB 3.2MB/s eta 0:00:01\r\u001b[K     |█████████████████████████████   | 92kB 3.6MB/s eta 0:00:01\r\u001b[K     |████████████████████████████████| 102kB 2.2MB/s \n",
            "\u001b[?25hRequirement already satisfied: docopt>=0.6.2 in /usr/local/lib/python3.6/dist-packages (from num2words) (0.6.2)\n",
            "Installing collected packages: num2words\n",
            "Successfully installed num2words-0.5.10\n"
          ],
          "name": "stdout"
        }
      ]
    },
    {
      "cell_type": "code",
      "metadata": {
        "id": "4dLTLhQuC_sG",
        "colab_type": "code",
        "colab": {
          "base_uri": "https://localhost:8080/",
          "height": 207
        },
        "outputId": "64b7089a-6555-4073-fa67-3f32362654b5"
      },
      "source": [
        "pip install emoji"
      ],
      "execution_count": 18,
      "outputs": [
        {
          "output_type": "stream",
          "text": [
            "Collecting emoji\n",
            "\u001b[?25l  Downloading https://files.pythonhosted.org/packages/40/8d/521be7f0091fe0f2ae690cc044faf43e3445e0ff33c574eae752dd7e39fa/emoji-0.5.4.tar.gz (43kB)\n",
            "\r\u001b[K     |███████▌                        | 10kB 19.7MB/s eta 0:00:01\r\u001b[K     |███████████████                 | 20kB 1.8MB/s eta 0:00:01\r\u001b[K     |██████████████████████▋         | 30kB 2.6MB/s eta 0:00:01\r\u001b[K     |██████████████████████████████▏ | 40kB 1.7MB/s eta 0:00:01\r\u001b[K     |████████████████████████████████| 51kB 1.7MB/s \n",
            "\u001b[?25hBuilding wheels for collected packages: emoji\n",
            "  Building wheel for emoji (setup.py) ... \u001b[?25l\u001b[?25hdone\n",
            "  Created wheel for emoji: filename=emoji-0.5.4-cp36-none-any.whl size=42175 sha256=e74b56e580e41e84e2f604979764dedcef9e02713fc6563e1de6821aaf779484\n",
            "  Stored in directory: /root/.cache/pip/wheels/2a/a9/0a/4f8e8cce8074232aba240caca3fade315bb49fac68808d1a9c\n",
            "Successfully built emoji\n",
            "Installing collected packages: emoji\n",
            "Successfully installed emoji-0.5.4\n"
          ],
          "name": "stdout"
        }
      ]
    },
    {
      "cell_type": "code",
      "metadata": {
        "id": "Yp3lhWU2RDWX",
        "colab_type": "code",
        "colab": {}
      },
      "source": [
        "#Importing necessary libraries\n",
        "\n",
        "from IPython import display\n",
        "import math\n",
        "import string\n",
        "from pprint import pprint\n",
        "from num2words import num2words\n",
        "import pandas as pd\n",
        "import numpy as np\n",
        "import nltk\n",
        "import matplotlib.pyplot as plt\n",
        "import seaborn as sns\n",
        "import emoji\n",
        "sns.set(style='darkgrid', context='talk', palette='Dark2')"
      ],
      "execution_count": 0,
      "outputs": []
    },
    {
      "cell_type": "code",
      "metadata": {
        "id": "qY6HLNX0RPtV",
        "colab_type": "code",
        "outputId": "19eeb06b-e800-48e6-9dea-4fc20c44e171",
        "colab": {
          "base_uri": "https://localhost:8080/",
          "height": 343
        }
      },
      "source": [
        "pip install praw"
      ],
      "execution_count": 3,
      "outputs": [
        {
          "output_type": "stream",
          "text": [
            "Collecting praw\n",
            "\u001b[?25l  Downloading https://files.pythonhosted.org/packages/f6/df/b42c0a3b86a43a62a46e5b2f07930230ac7719624800a2052218993fb767/praw-6.4.0-py2.py3-none-any.whl (126kB)\n",
            "\r\u001b[K     |██▋                             | 10kB 14.1MB/s eta 0:00:01\r\u001b[K     |█████▏                          | 20kB 1.8MB/s eta 0:00:01\r\u001b[K     |███████▉                        | 30kB 2.6MB/s eta 0:00:01\r\u001b[K     |██████████▍                     | 40kB 1.7MB/s eta 0:00:01\r\u001b[K     |█████████████                   | 51kB 2.1MB/s eta 0:00:01\r\u001b[K     |███████████████▋                | 61kB 2.5MB/s eta 0:00:01\r\u001b[K     |██████████████████▏             | 71kB 2.9MB/s eta 0:00:01\r\u001b[K     |████████████████████▊           | 81kB 3.3MB/s eta 0:00:01\r\u001b[K     |███████████████████████▍        | 92kB 3.7MB/s eta 0:00:01\r\u001b[K     |██████████████████████████      | 102kB 2.8MB/s eta 0:00:01\r\u001b[K     |████████████████████████████▌   | 112kB 2.8MB/s eta 0:00:01\r\u001b[K     |███████████████████████████████▏| 122kB 2.8MB/s eta 0:00:01\r\u001b[K     |████████████████████████████████| 133kB 2.8MB/s \n",
            "\u001b[?25hCollecting update-checker>=0.16\n",
            "  Downloading https://files.pythonhosted.org/packages/17/c9/ab11855af164d03be0ff4fddd4c46a5bd44799a9ecc1770e01a669c21168/update_checker-0.16-py2.py3-none-any.whl\n",
            "Collecting prawcore<2.0,>=1.0.1\n",
            "  Downloading https://files.pythonhosted.org/packages/76/b5/ce6282dea45cba6f08a30e25d18e0f3d33277e2c9fcbda75644b8dc0089b/prawcore-1.0.1-py2.py3-none-any.whl\n",
            "Collecting websocket-client>=0.54.0\n",
            "\u001b[?25l  Downloading https://files.pythonhosted.org/packages/29/19/44753eab1fdb50770ac69605527e8859468f3c0fd7dc5a76dd9c4dbd7906/websocket_client-0.56.0-py2.py3-none-any.whl (200kB)\n",
            "\r\u001b[K     |█▋                              | 10kB 24.9MB/s eta 0:00:01\r\u001b[K     |███▎                            | 20kB 32.6MB/s eta 0:00:01\r\u001b[K     |█████                           | 30kB 40.0MB/s eta 0:00:01\r\u001b[K     |██████▌                         | 40kB 45.8MB/s eta 0:00:01\r\u001b[K     |████████▏                       | 51kB 48.6MB/s eta 0:00:01\r\u001b[K     |█████████▉                      | 61kB 52.8MB/s eta 0:00:01\r\u001b[K     |███████████▍                    | 71kB 54.9MB/s eta 0:00:01\r\u001b[K     |█████████████                   | 81kB 56.7MB/s eta 0:00:01\r\u001b[K     |██████████████▊                 | 92kB 59.5MB/s eta 0:00:01\r\u001b[K     |████████████████▍               | 102kB 61.8MB/s eta 0:00:01\r\u001b[K     |██████████████████              | 112kB 61.8MB/s eta 0:00:01\r\u001b[K     |███████████████████▋            | 122kB 61.8MB/s eta 0:00:01\r\u001b[K     |█████████████████████▎          | 133kB 61.8MB/s eta 0:00:01\r\u001b[K     |██████████████████████▉         | 143kB 61.8MB/s eta 0:00:01\r\u001b[K     |████████████████████████▌       | 153kB 61.8MB/s eta 0:00:01\r\u001b[K     |██████████████████████████▏     | 163kB 61.8MB/s eta 0:00:01\r\u001b[K     |███████████████████████████▊    | 174kB 61.8MB/s eta 0:00:01\r\u001b[K     |█████████████████████████████▍  | 184kB 61.8MB/s eta 0:00:01\r\u001b[K     |███████████████████████████████ | 194kB 61.8MB/s eta 0:00:01\r\u001b[K     |████████████████████████████████| 204kB 61.8MB/s \n",
            "\u001b[?25hRequirement already satisfied: requests>=2.3.0 in /usr/local/lib/python3.6/dist-packages (from update-checker>=0.16->praw) (2.21.0)\n",
            "Requirement already satisfied: six in /usr/local/lib/python3.6/dist-packages (from websocket-client>=0.54.0->praw) (1.12.0)\n",
            "Requirement already satisfied: idna<2.9,>=2.5 in /usr/local/lib/python3.6/dist-packages (from requests>=2.3.0->update-checker>=0.16->praw) (2.8)\n",
            "Requirement already satisfied: certifi>=2017.4.17 in /usr/local/lib/python3.6/dist-packages (from requests>=2.3.0->update-checker>=0.16->praw) (2019.9.11)\n",
            "Requirement already satisfied: chardet<3.1.0,>=3.0.2 in /usr/local/lib/python3.6/dist-packages (from requests>=2.3.0->update-checker>=0.16->praw) (3.0.4)\n",
            "Requirement already satisfied: urllib3<1.25,>=1.21.1 in /usr/local/lib/python3.6/dist-packages (from requests>=2.3.0->update-checker>=0.16->praw) (1.24.3)\n",
            "Installing collected packages: update-checker, prawcore, websocket-client, praw\n",
            "Successfully installed praw-6.4.0 prawcore-1.0.1 update-checker-0.16 websocket-client-0.56.0\n"
          ],
          "name": "stdout"
        }
      ]
    },
    {
      "cell_type": "code",
      "metadata": {
        "id": "0wdG_sQiRuA6",
        "colab_type": "code",
        "colab": {}
      },
      "source": [
        "#client id- StmWjOzTODd8Og\n",
        "#user agent- r/webscraper\n",
        "#secret- 3-HWmn6SD7a32SEoOLXyVSUv5jQ\n",
        "\n",
        "import praw\n",
        "reddit = praw.Reddit(client_id='StmWjOzTODd8Og', client_secret='3-HWmn6SD7a32SEoOLXyVSUv5jQ', user_agent='r/webscraper')"
      ],
      "execution_count": 0,
      "outputs": []
    },
    {
      "cell_type": "code",
      "metadata": {
        "id": "gX3t-1NRTyIy",
        "colab_type": "code",
        "outputId": "686a3d3e-9092-43c7-c376-2f0f186367cd",
        "colab": {
          "base_uri": "https://localhost:8080/",
          "height": 51
        }
      },
      "source": [
        "nltk.download('vader_lexicon')"
      ],
      "execution_count": 9,
      "outputs": [
        {
          "output_type": "stream",
          "text": [
            "[nltk_data] Downloading package vader_lexicon to /root/nltk_data...\n"
          ],
          "name": "stdout"
        },
        {
          "output_type": "execute_result",
          "data": {
            "text/plain": [
              "True"
            ]
          },
          "metadata": {
            "tags": []
          },
          "execution_count": 9
        }
      ]
    },
    {
      "cell_type": "code",
      "metadata": {
        "id": "2Ine8iJ5US6k",
        "colab_type": "code",
        "outputId": "8a1472ee-76e7-496e-b7f1-c4b535ccfa31",
        "colab": {
          "base_uri": "https://localhost:8080/",
          "height": 71
        }
      },
      "source": [
        "#Storing the titles of extracted posts into a set to avoid repetition\n",
        "\n",
        "posts = set()\n",
        "\n",
        "for post in reddit.subreddit('gameofthrones').hot(limit=500):\n",
        "  posts.add(post.title)\n",
        "\n",
        "print(posts)\n",
        "print(len(posts))"
      ],
      "execution_count": 22,
      "outputs": [
        {
          "output_type": "stream",
          "text": [
            "{\"[NO SPOILERS] Here's my Dad's Thrones set up for the Armageddon Expo here in NZ. His first proper build.\", '[Spoilers] The Hound Soundboard', '[Spoilers] who do you think should of won???', '[SPOILERS]. Interesting take on Jamie Lannister | least someone seems somewhat positive on the Ending', '[NO SPOILERS] Found this gem in Canby OR... not creepy at all', '[NO SPOILERS] Just recieved my \"Red Viper\\'s Spear\" replica. Longclaw for scale.', \"[No Spoilers] I'M NOT YOUR HAND ANYMORE 😂\", \"[No Spoilers] I'm a dumbass, I got attached\", '[SPOILERS] Better actress - Cersei or Catelyn Stark?', '[No Spoilers] Onboard the cruise ship Jewel of the Seas for my honeymoon', \"[NO SPOILERS] Halloween is coming. The Night King pumpkin for my work's pumpkin carving competition.\", '[NO SPOILERS]Epoxy Dragons', '[No Spoilers] Another New Game of Thrones Prequel In The Works', \"[No Spoilers] Here's my Season 6 Dany with a better full-body this time.\", '[SPOILERS] Amateur video editor, made this for Sansa Stark, hope you enjoy it :)', '[NO SPOILERS] Daenerys Targaryen 🔥', \"[Spoilers] The symbolism of Tyrion's name\", '[NO SPOILERS] Just released on Spotify an EPIC Game of Thrones cover! Please take a listen :)', \"[NO SPOILERS] Peter Dinklage is Wiser Than Tyrion Lannister? Here's the story of a wisest man\", '[NO SPOILERS] A girl has no name.', '[spoilers] my girlfriend and i dressed up as daenarys and khal drogo for halloween!', '[NO SPOILERS] Training like and Becoming Jon Snow', '[SPOILERS] My alternative ending- Daenerys walks and sits on the iron throne, all seems lost. Camera pans out as she takes of her face and its Arya ... que music - dun dun dadadun dun- clips of how she got there as its closes. Dun dun da dun ....=goosebumps', '[NO SPOILERS] It seems the Spider-Crew is visiting Westeros in the Spider-Verse Sequel. (Photo from the very 1st Cretan Comic-Con, that is being held in Heraklion, Crete this weekend)', '[No Spoilers] The Top Gadgets That Went Viral In 2019', '[Spoilers] How many boars could Robert take in his prime?', '[NO SPOILERS] If i ever meet Rory McCann/Sandor Clegane, i don’t want an autograph or a picture, no, i want him to call me a fucking CUNT.', '[No Spoilers] Emilia Clarke got tattoos inspired by her dragons', '[No Spoilers] NYCComicon2019 Daenerys cosplay years in the making.', '[No Spoilers] Do you think Daenerys would’ve “given a ship and wish her good fortune” if Missandei chose to leave?', '[Spoilers] Arya and Dany', '[SPOILERS] David Benioff And D.B. Weiss most recent discussion about GOT - Both revealing and confusing', \"[SPOILERS] I can't wait to see this play out in 'House of the Dragon'. Torrhen stark bending the knee to Aegon Targaryen.\", '[SPOILERS] Pycelle called it in S.1 E.5', '[Spoilers] Dreaming of happier times...', '[SPOILERS] Bron, that cheeky bastard, changing Tyrion’s promise from “I’ll beat it” to “I’ll double it”.', '[Spoilers] Who would win in a fight, Robert Baratheon or Khal Drogo?', '[NO SPOILERS] Top 15 Game of Thrones Characters by Spoken Words (2011-2019)', \"[Spoilers] What was Bran's tax policy?\", '[Spoilers] I have a feeling this conversation hints at what House of the Dragon will be about. Aegon, Visenya, and Rhaenys Targaryen.', '[NO SPOILERS] - Harry Potter and the Game of Thrones - combining the two worlds to create Custom Wands', \"[NO SPOILERS] Breaking Bad's Aaron Paul Loved Game of Thrones Ending & Is interested in Joining The Prequel Series\", '[Spoilers] Did other people go from re-watching all GoT seasons multiple times a year to never watching an episode again after ending?', '[SPOILERS] Hi, Ppl. This is My FanTribute to Daenerys Targaryen, The Mother of Dragons My Fav Character of GOT. Hope you like :)', '[SPOILERS] So I had a halloweenparty last night and decided to go as a character from GOT', '[NO SPOILERS] Display wall of Dire Wolf skulls recovered from the La Brea Tar Pits in Los Angeles. Photo taken at the on-site museum.', '[Spoilers] Game of Thrones roleplay', '[SPOILERS] My post has been quoted!! (Atleast give me some recognition, in the end it was my \"valuable time\" that has gone into this research haha) Nevertheless this is a great article, strongly recommend :D', '[NO SPOILERS] anyone know if GOT will be released in 4K?', '[NO SPOILERS] Documentary about downfall of GoT', '[no spoilers] painting of drogon', '[NO SPOILERS] Was bored and had nothing to do at school today', '[SPOILERS] The Internet vs Season 8', '[SPOILERS] Which season 4 death was the worst for you guys to watch?', '[NO SPOILERS] Wife gave me the GOT Catan for my birthday', '[No Spoilers] Cosplaying for the first time!', '[NO SPOILERS] etiquette at GoT live symphony shiw', '[SPOILERS] Looking for this pic in HQ', '[No Spoilers] Remember this place', \"[NO SPOILERS] doing a Game of Thrones themed inktober and today's prompt is SNOW. So there could be only one choice The man who knows nothing...Jon Snow! Always tries to do the right thing, one of my favourite characters from the show\", \"[Spoilers] The meaning of the name 'Bran' in Celtic.\", \"[SPOILERS] I'd love to see a spinoff about the Iron Bank, and maybe the faceless men.\", '[NO SPOILERS] Winter is coming', '[No Spoilers] Throwback: Arya with Ghost', '[No Spoilers] I just visited Klis Fortress in Croatia, some of you may recognise it...', '[SPOILERS] Jon Snow talks the Red Wedding (Kit Harington)', '[SPOILERS] This completely changed GOT.', \"[NO SPOILERS] “If you're a famous smuggler, you're not doing it right.”, ink on paper, me, 2019\", '[No Spoilers] Halloween is coming...', '[NO SPOILERS] Halloween costume. Jon Snow and his queen', '[NO SPOILERS] I need help finding a video of GOT', '[SPOILERS] I love dressing up my daughter as a GoT character while she naps. Guess which character said this!', '[SPOILERS] If GAME OF THRONES SEASON 8 had an anime opening', '[No Spoilers] Just a fanart portrait of Jon Snow, the good noodle', \"[Spoilers] They made a group chat without you, mate. They're salty you got made King.\", '[SPOILERS] Theon was a actually pet dog', '[No Spoilers] Anybody felt tremors when Tyrion says: Death is so final, yet life is full of possibilities .?', '[spoilers] saw these Halloween lawn Decorations when walking home after dropping my son off at school.', '[Spoilers] Can someone please explain this scene to me?', '[SPOILERS] which season of Game of Thrones is the most violent?', '[No Spoilers] just a late night sketch of bronn.', '[NO SPOILERS] Shitty photo, but awesome experience! Totally recommend checking out the concert!', '[NO SPOILERS] My very cutesy House Baratheon tattoo, done @ Luck and Love in Darlington', '[No Spoilers] Visited King’s Landing today!', '[no spoilers] Me as Daenerys and my friend as Jon Snow for Halloween!', '[SPOILERS] Can anyone help find a video where they pasted GOT characters on Avengers End Game characters?', \"[NO SPOILERS] Carved a pumpkin with the sigil of House Dorne. Warning, it's not very good.\", '[SPOILERS] Henry Cavill would be perfect for Aegon the Conqueror or Daemon Targaryen', '[No Spoilers] who knew that would happen ?', '[NO SPOILERS] My Doggo (Stark) posing in front of his self portrait', '[No Spoilers] \"Winter is coming and WINDS remains my priority\" George R.R. Martin', '[NO SPOILERS] Jon Snow MONTAGE', '[NO SPOILERS]Actual Game of Thrones Castles', '[NO SPOILERS] GOT and Roman Mythos', '[NO SPOILERS] My Iron Throne', '[NO SPOILERS] This was my costume last year, but I didn\\'t have Reddit then so you all can enjoy it now. Happy Halloween and you can all be pleased to hear that this \"Ghost\" gets plenty of pets.', '[No Spoilers] Sansa Stark would be the best ruler to sit on the iron throne - perhaps with the exception of Jon Snow. Like when Dany and others disregard her well thought out ideas at times and... well you know. Agree, or disagree? I used to hate Sansa in the beginning, but now she’s my favorite. U?', '[NO SPOILERS] Rise and shine by Night King', '[NO SPOILERS] This show was great.', '[spoilers] Will Bran become interesting?', '[NO SPOILERS] My friend painted this for my birthday', '[NO SPOILERS] Great rendition of Jenny of Oldstones on The Voice Portugal', '[NO SPOILERS] Here’s an unfinished pointillism portrait I did of Tyrion. Because “art is never finished only abandoned”.', '[NO SPOILERS] just my Ygritte costume', '[NO SPOILERS] \"Jenny of Oldstones\" from Game of Thrones - (Podrick\\'s Song /Cover by Roxy Darr)', '[No Spoilers] We gonna see this big boy now.', '[Spoilers] Is Game of Thrones really that different from the traditional story?', '[spoilers] We forgive, we do not forget...', '[No Spoilers] A song of Ice and Bandages', '[No Spoilers] custom crochet dog costume i finished yesterday. I figured you guys would love it.', '[NO SPOILERS] Meanwhile Tyrion travels around Eastern Europe on a used Peugeot)', '[NO SPOILERS] Maisie Williams interview of Fire and Milk on Hot Ones', '[Spoilers] If Game of Thrones were an Indian Soap Opera', '[NO SPOILERS] I met Summer & Greywind (Odin & Thor).', '[NO SPOILERS] Meet the Giantsbanes! Kristofer Hivju sat down with his twin to discuss acting.', '[SPOILERS] Who does everyone think the Lord of Highgarden will marry?', '[NO SPOILERS] God bless Rose Leslie for not being able to bring herself into doing a middle finger', '[Spoilers] Best Actors on Game of Thrones', '[NO SPOILERS] George R.R. Martin was inducted into the New Jersey Hall of Fame last weekend', '[Spoilers] S5 Varys vs S8 Varys (credits for image go to u/ice_and_fiyah)', '[No Spoilers] My girlfriend put a little spin on Daenerys', '[NO SPOILERS] The True WINTERFELL according to the books... by Shadiversity', '[NO SPOILERS] Bork in the North!', '[Spoilers] Odin the All-Father and Bran Stark', '[NO SPOILERS] Water Color Weirwood tree I made.', '[spoilers] Why did Mrs. Hodor try to say that no stable boys should learn to fight...', \"[SPOILERS] Jamie's character incostistency\", '[SPOILERS] I recreated the entire Battle of Winterfell in Wonderdraft', '[spoilers] Who “outed” Theon as a eunuch?', '[NO SPOILERS] HBO announces new Game of Thrones spinoff, House of the Dragon', '[Spoilers] Was it ever explained in the show who gave the Valyrian steel dagger to the catspaw in season 1?', '[NO SPOILERS] I Made a Hip Hop Version to the Game Of Thrones Theme song , Hope You like it', '[No Spoilers] The night is dark and full of terrors', \"[NO SPOILERS] I carved a Jack-o-lantern for everyone's favorite scene in The Long Night\", '[Spoilers] Summary of D&D interviewed at recent panel', '[NO SPOILERS] Daenerys Targaryen cosplay by @belovedcosplay, photo by Tomasz Stepien', '[No Spoilers] I drew Jon Snow for Inktober!!!', '[No spoilers] Ghost and The King in the North for Inktober', '[No Spoilers] Game of Thrones Creators Cast Jason Momoa From Fan Casting Pages', '[No Spoilers] The Legends and Myths Behind the White Walkers', '[No Spoilers] Please anyone clear my confusion. On the same day. a prequel got cancelled. later there is news. HBO Confirmed a prequel. were they 2 prequels? one got cancelled. one survived?', '[SPOILERS] Now that it is all over, despite who won after seeing all the players who do you think would’ve actually been a good and/or effective ruler? And why?', '[Spoilers] Bran is the true villain', '[SPOILERS] Still disappointed by the ending...', '[NO SPOILERS] THE NORTH REMEMBERS', '[No Spoilers] A birds eye view of White Harbour from WesterosCraft. Photo credit @westeroscraft', '[NO SPOILERS] Do You Guys Think D&D Sort Of Ruined Their Careers?', '[SPOILERS] D&D could’ve taken a lesson from Marvel', '[NO SPOILERS] Worst series wrap up in TV history ? GOT or LOST ??', '[Spoilers] You fucking idiot', '[SPOILERS] hello i made some art a while back that i finally got around to posting, pls enjoy', '[SPOILERS] The Battle of Winterfell.', \"[No Spoilers] Here's my second one, took me about 30-40hrs to complete, enjoy and please message if interested in purchasing :D\", '[NO SPOILERS] HBO gives Game of Thrones Targaryen prequel a 10-episode order', '[No spoilers] Bantam hardcover', 'Lets just give some Props to these actors. They don’t speak but still great acting. Though they’ll never get the credit they deserve.', '[no spoilers] might go retake Winterfell, idk.', '[SPOILERS] I just read the red wedding for the first time.', '[NO SPOILERS] Night queen Halloween costume', '[SPOILERS] Did Robb really need to make that deal with Walder Frey?', '[No Spoilers] WOW', '[SPOILERS] Jon parallels to...', '[Spoilers] The new Kingslanding', \"[Spoilers] In Game of Thrones, characters die. It's pretty much normal in the show. So much so, you're unfazed by a character's death. When this character died however, I cried like a baby. I'm not even ashamed to admit it.\", '[No Spoilers] The White Clawkers Cometh', '[No Spoilers] Gods, what a young boe and a good ward he was', '[NO SPOILERS] My Tyrion Lannister pumpkin carving', '[NO SPOILERS] incidental House Stark cosplay', \"[SPOILERS] Kit Harington - full Ace Comic Con panel interview from today (26mins long). It's a lovely watch - full of Game of Thrones /Jon Snow and Harry Potter talk.\", '[No Spoilers] My art of Beric Dondarrion. Such an underrated character, so wanted to draw him!', '[Spoilers] question about the show', '[SPOILERS] ACOK quote that may foreshadow show ending', '[SPOILERS] Which is your favourite scene in the Game of Thrones? And why?', '[NO SPOILERS] my fanart of Daenerys', '[Spoilers] How do you think that major events of S7-8 will happen in the books?', '[NO SPOILERS] tattoo translation- I need your help!!', '[Spoilers] Why didn’t Cersei do much in Season 8?', '[NO SPOILERS] My Parents got House Glasses', '[SPOILERS] If GAME OF THRONES had an anime opening', '[Spoilers] A Song of Ice & Fire', '[No Spoilers] Game of Thrones tattoo that I got earlier this year, Fresh vs Healed.', '[NO SPOILERS] Where can I find a Night King Costume?', '[NO SPOILERS] House of The Dragon official Twitter.', '[NO SPOILERS] GoT theme', '[No Spoilers] finally got a pic of the costume on this big ferocious doggo. Lacey won Funniest costume and was chosen for the overall contest on Nov. 3rd.', '[No Spoilers] The \"Game Of Thrones\" Spinoff Series \"House Of The Dragon\" Is Coming To HBO', '[Spoilers] War, Hypocrisy, and Game of Thrones', '[NO SPOILERS] Will Game of Thrones be removed from HBO GO and placed in HBO Max?', '[Spoilers] Did Jon really deserve to be King in the North?', '[SPOILERS] \"Bringing together ice and fire\"', '[No Spoilers] Night King Theme with choir singing?', \"[NO SPOILERS] Can't quite find this GoT music that sounds like Ori OST!\", '[SPOILERS] Okay, stupid question.', '[spoilers] Rest In Peace to the saddest death of Game of Thrones..... Daenerys’s character development ☠️', '[NO SPOILERS] The Voice Portugal. Thank me later.', '[No Spoilers] Children of the Forest cosplay at New York Comic Con! Photo by Amanda Hatfield', '[SPOILERS] - Warning! how the show should’ve ended and how the book may end', '[NO SPOILERS] GoT- Toronto Maple Leafs Intro Parody', '[Spoilers] About Daenerys and Drogon', '[NO SPOILERS] Has anyone done the 4D puzzle of Westeros? If so...have you framed it?', '[NO SPOILERS] Haven’t drawn in years, GoT inspired by one of the best characters in the show', '[NO SPOILERS] This guy from my university is going places', '[No Spoilers] my transformation into Khal Drogo! (Before and After)', '[SPOILERS]Who else felt bad of how the night king/white walkers, dragons and overall magic themes were treated in the show?', '[No Spoilers] My friend did a photoshoot for his Jon Snow costume.', '[NO SPOILERS] Some of my favorite GOT art prints picked up at NYCC this year', '[NO SPOILERS] Lord of Light! Come to us in our darkness. For the night is dark and full of terrors.', '[SPOILERS] Fixing/Re-filming Season 8?', \"[Spoilers] What's he looking at? Wrong answers only.\", '[no spoilers] My 1st and 4th Halloween as Jon Snow. Feels like Freshman vs Senior year!', '[SPOILERS] Realization while rewatching the end of Season 4', '[no spoilers] I did a Jenny of Oldstones Piano Cover - hope you think it does the original justice', '[Spoilers] Is Thoros of Myr the true unsung hero of Westeros?', '[SPOILERS] Why did these two characters never wear crowns?', '[Spoilers] Squeaky Daenerys says Dracrays', \"[NO SPOILERS] Just finished 3d printing and painting this for my sisters' birthday. 18 hour print. Shes a huge GoTs fan although I never watched it. What do you guys think? Link to video of it in comments.\", '[No Spoilers] Adam was muh queeeen', '[No Spoilers] GOT podcast', '[NO SPOILERS] How come Viserys doesn’t have AE in his name?', \"[No Spoilers] Miniature King's Landing Made out of Cardboard!\", '[NO SPOILERS] Dragonstone ticked off bucket list', '[SPOILERS] Littlefinger Theory', '[No Spoilers] the smell of incest', '[NO SPOILERS] This is an ink illustration I did the week before the end having no idea what would happen', '[NO SPOILERS] Does Moon Tea exist in the TV show verse or just in ASOIAF?', '[No Spoilers] I am trying to find a quote but it is eluding me.', '[No Spoilers] Theon Greyjoy Cosplay', '[NO SPOILERS] I drew this 3 Years ago and finally decided to share it', '[NO SPOILERS]🐺🐉', \"[Spoilers] Its my senior year and i'm in need of quotes. Can I have some suggestions?\", '[Spoilers] the ending', \"[SPOILERS] ANIMATED Aegon's Conquest - Part 1: Aegon's First Test 4k\", '[No Spoilers] GAME OF THRONES STUDIO TOUR OPENING DATE? ANYONE?', '[NO SPOILERS] Daenerys quote on flattery?', '[NO SPOILERS] Targaryen Family!!!', \"[No Spoilers] - Would like to sell rare GOT books , don't see anything in the rules?\", '[NO SPOILERS] If I were only as rich as a Lannister... Spotted at Goldpath wine and spirits, NY', '[NO SPOILERS] Awhile ago I made the front page for my Arya cosplay makeup. Today I attended NYCC and met some amazing cosplayers! I hid Sansa’s face for privacy, but if she somehow contacts me I’d be more than happy to post our photo! 🐺', '[SPOILERS] This is what I believe really happened...', '[No spoilers] I’m looking for a video!', '[NO SPOILERS] Dragon. My art of leather and polymer clay', '[No Spoilers] I’ve now made the big 3, any other house logos I should work on?', '[No Spoilers] GOT Life Size Throne for Sale', '[No Spoilers] Who would win in a fight, Jon Snow or Khal Drogo?', '[Spoilers]Lord Protecter Bronn of Stokeworth', '[SPOILERS] REVIEW: Game of Thrones Is Reanimated In An Immersive Live Concert Experience at Comerica Theatre (10-1-19)', '[No Spoilers] Best Daenerys Cosplay', '[NO SPOILERS] I visited Castell De Santa Florentina (Horn Hill) while traveling in Spain. More pics in comments!', '[NO SPOILERS] When you play the Game Of Prequels, you win or you die.', '[NO SPOILERS] The True WINTERFELL according to the books, full 3d model, tour and comparison - Shadiversity', '[Spoilers] I would have liked season 8 more if it went more in this direction, anyone else agree?', '[NO SPOILERS] In love with my friend’s painting for my 18th!', '[NO SPOILERS] Charcoal Portrait of Tyrion Lannister', '[Spoilers] Chaos is a Ladder - pixel art', '[SPOILERS] Why are people calling Tyrion an idiot?', '[NO SPOILERS] In honour of World “Octopus” Day: What Is Dead May Never Die!', '[No Spoilers] Here is a Daenerys drawing i did recently. Hope you guys like it!', '[SPOILERS] Missandei.', '[No Spoilers] Why has there been no professional backlash toward Dan & David for their horrible writing in Season 8?', '[No Spoilers] Any good spoiler-free tributes/trailers for the series on Youtube for recommending to people?', '[No Spoilers] Winter is coming', '[NO SPOILERS] Is it just me, who really hates Margaery?', '[No Spoilers] when I thought he’d end up muh king', '[NO SPOILERS] Poor ending of the show has demotivated me continue with the books. Book fans please motivate me.', '[SPOILERS] a beautiful man', '[no spoilers] look what my mum made for my birthday!', \"Game of Thrones A Song of Ice and Fire Night's King Cosplay\", \"[NO SPOILERS] So that's what Podrick did to those whores...\", \"[No Spoilers] the first look of 'House of the Dragaon', Game of thrones prequel by imdb.\", '[NO SPOILERS] Is it just me or does Jon Snow in the Game of Thrones game ads look a lot like Jimmy Kimmel wearing a Jon Snow costume', '[SPOILERS] How different would the series be if the Targaryens (and Baratheon) dynasty followed the Ibn Saud method of maintaining Westeros?', '[No Spoilers] I will Do what Queens Do. I Will Rule.', '[SPOILERS] Who are the 3 men Jaime thinks would have a chance against him.', '[No Spoilers] Mother of Dragons...Dracarys 🔥', \"[No Spoilers] It's amazing how much money must've been spent to close down all the shops and restaurants.\", '[No Spoilers] GRRM and JKR have lunch', \"[Spoilers] Why doesn't anyone just hire a Faceless Man?\", '[NO SPOILERS] realistically, when do u guys think the first season will come out? i’m hype', '[NO SPOILERS] Targaryen Dragons Using Soda Can (Automata)', '[No Spoilers] Hardcore Game of Thrones Quiz', '[Spoilers] Am I the only one who finds it weird...', '[NO SPOILERS] the prequels', '[No spoilers] Is there a real life location that helped inspire/shape Castle Black?', '[Spoilers] Now that Game of Thrones has ended (and left a good amount of people disappointed) what would you score the show on a scale from 1 to 10?', '[No spoilers] thoughts?', '[Spoilers] TIL: Why there’s so many ravens/crows/blackbirds/etc. (especially up north)', \"[SPOILERS] Sam's voting idea was terrible\", '[No Spoilers] Went as the script for season 8 this Halloween 🎃', '[No Spoilers] (Season 3) How did Osha not know of warg powers when she lived with other wildlings who had them?', '[NO SPOILERS] Finally finished my drawing of Arya!', '[NO SPOILERS] My tattoo, tribute to Arya Stark and her needle.', \"[Spoilers] Visited the Spice King's palace\", '[SPOILERS] If The Night King Spoke, What Would He Sound Like?', '[NO SPOILERS] Game of Thrones X Rainbow Six siege', '[Spoilers] what the fuck!!!', '[Spoilers] I just rewatched the beginning of \"The Queen\\'s Justice\" where...', '[NO SPOILERS] The Iron Throne: Fondant Edition', '[No Spoilers] In preparation for Halloween, please take this bloody Arya makeup look that I attempted with some eyeshadow and lipstick!', '[NO SPOILERS] My friend drew his favorite artists as characters from GoT!', '[SPOILERS] Sansa Stark tribute', '[NO SPOILERS] Fresh ink - Ice through a Winter Rose', '[NO SPOILERS] Daughter dressed as Arya Stark', '[SPOILERS] What If…?', '[SPOILERS] Glass of Thrones, Belfast UK (Repost)', '[NO SPOILERS] Always repping house Targaryen even in the office 🤙', '[NO SPOILERS] It’s not the best, but here is me and my direwolf as Daenerys and Drogon for Halloween', '[SPOILERS] West of Westeros, and seemingly a lack of curiosity', '[No Spoilers] Fire & Blood baby!', '[SPOILERS] Game of Thrones - Suite & Rains of Castamere // The Danish National Symphony Orchestra (LIVE)', '[No Spoilers] Khaleesi', '[No Spoilers] a girl has no name', '[no spoilers] For the past few weeks I have been overly hyping how much time and money I spent on my GOT costume...happy early Halloween! ( my hat says “written by d&d” and my finger says “dracarys”)', '[No Spoilers] Game Of Thrones Prequel Update: Bloodmoon Cancelled & House Of The Dragon Announced', '[No Spoilers] \"When you play the game of thrones, you win or you die\" - Cersei Lannister', \"[Spoilers] 7 significant scenes cut from the final season of 'Game of Thrones'\", '[NO SPOILERS] Game of Thrones: Bloodmoon Epilogue idea', '[SPOILERS] Choose just one thing that pissed you off the most in season 8?', \"[NO SPOILERS] My gf doesn't have a reddit account but wants to share her excitement about cosplaying Daenerys at Comic Con\", '[SPOILERS] thoughts on Ned.', '[NO SPOILERS] I really hope one of the spin offs is a Duncan and Egg adventure series', '[No Spoilers] I painted The Mountain', \"[SPOILERS] Jorah wouldn't have done that\", \"[NO SPOILERS] He's still my favorite character in GoT . What a wise men he was .\", '[Spoilers] Cut Characters', \"[NO SPOILERS] This sub needs a massive overhaul. Or new mods. It's front page is a garbage mess of reposts and the spoiler tags need to go.\", '[Spoilers] Worst Line Ever', '[NO SPOILERS] Is it worth reading the books after watching the show or are they basically the same?', '[SPOILERS] David Benioff and D.B Weiss started a session at the Austin Film Festival', '[Spoilers] Cersei overly confident?', '[No Spoilers] Made a GOT snare drum. It’s the Essos and Westeros map with various house banners around it.', '[Spoilers] Westeros if Cersei had gotten her elephants...', '[NO SPOILERS] Night King Ornament epoxy resin on wood', '[NO SPOILERS] Daenerys cosplay', '[Spoilers] Game Of Thrones Deleted Scenes Improve Daenerys’ Mad Queen Arc', '[SPOILERS] My top 3 favourite characters:) change my mind or tell me yours and why. Ill be reading all comments😀', \"[Spoilers] Does anyone else believe Syrio Forel was Jaqen H'Ghar?\", '[NO SPOILERS] As the new show is going to be on both HBO and HBO Max, is it safe to say the UK viewers will get it on Sky again?', \"[SPOILERS] Podrick's Song - Jenny of Oldstones - Season 8 - Cover made by ChewDa2\", '[No Spoilers] One of the best pieces of the show IMHO', '[NO SPOILERS] Request.', \"[no spoilers] If you could cast any actor for any character, who would your dream cast be? I always thought David Bowie would've made an amazing Littlefinger.\", '[NO SPOILERS] Melisandre costume I made for the Ren Faire', \"[SPOILERS] The Hound's story(book and show)\", \"[NO SPOILERS] Julian Glover as Pycelle was a great example of how good the GoT casting was. Honestly, I feel that both the character and the actor doesn't get enough credit.\", '[NO SPOILERS] Jon Snow Halloween Costume', '[No Spoilers] My theoretical prequel rankings', '[NO SPOILERS] Which House has the best theme/music?', '[spoilers] How I ended last Halloween when I dressed up as Daenerys/ How Daenerys ended the series', '[NO SPOILERS] Game of thrones has ruined other historical dramas for me', \"[SPOILERS]It's taken me since April when the song first came out in A Knight of the Seven Kingdoms, but I finally finished arranging and producing my orchestral re-arrangement of Jenny of Oldstones from Season 8!\", '[NO SPOILERS] A wedding present from my cousin', '[SPOILERS] Cosplay of my wife and I as Daenarys & Drogon', '[SPOILERS] What was your favorite storyline from the show?', '[No spoilers] I got a tattoo for my favorite show and wanted my favorite character death from S1. Thanks for looking!', '[NO SPOILERS] Found this cool guy in Denver last weekend', '[Spoilers] Is Jaime Lannister a GOOD guy or a BAD guy?', '[No Spoilers] Throwback: Arya Stark with the ghost', '[no spoilers] Custom Printed Lego GOT figures at Ktownbricks', '[No Spoilers] This is me playing the first part of a song of ice and fire. i hope you like it :)', '[NO SPOILERS] Kit Harrington (Jon Snow) Live Action after the Red Wedding', '[NO SPOILERS] Just picked this up!', '[Spoilers] The problem with Bran being king narrative wise', '[SPOILERS] House Targaryen show based on Fire & Blood getting pilot order from HBO', '[No Spoilers] GOT Anime!!! Please !!!', '[SPOILERS] My Daenerys cosplay from Con of Thrones! Ring the bells.', '[NO SPOILERS] Game of Thrones Prequel Series with Naomi Watts Is Dead', '[No spoilers] I got a 1997 print date A Game Of Thrones for only $3', \"[SPOILERS] Let's be real, the show would have been better if Jon ended up on the throne\", '[NO SPOILERS] Characters like Jorah Mormont?', '[No Spoilers] Game of Thrones - Suite & Rains of Castamere // The Danish National Symphony Orchestra (LIVE)', '[Spoilers] Minor. There is a quotation mark missing in my, \"A Dance with Dragons.\" Need someone to tell me where it goes.', '[NO SPOILERS] My Daenerys for this Halloween.', '[NO SPOILERS] Today I met Ser Jorah at a trampoline park in Edinburgh', '[SPOILERS] WILDFIRE : A SEASON 2 TRIBUTE', 'There’s a new Khal in town. 👀', '[Spoilers] Season 1-4 Bran was a good character', '[NO SPOILERS] My drawing of Tyrion I did last year. Hope you like it', '[NO SPOILERS] Winterfell 3D concept model according to the books by Shadiversity', \"[No Spoilers] Saw the amazing pumpkin that u/waloo92 carved and wanted to share mine from '13\", '[No spoilers] Cake of Thrones A really talented cake maker has just shared this picture of a cake done by Pecatta Minuta. It’s entirely made of modelling chocolate and fondant!', '[NO SPOILERS] On my way to bend the knee.', '[SPOILERS] Game of Thrones characters according to an AI', '[SPOILERS] I drew Beric for inktober, what do you guys think?', '[No Spoilers] Iron Throne Phone Stand', '[SPOILERS] What Is Your Favorite GOT scenes?', '[No spoilers] Existing NK, WW filters?', '[SPOILERS] Jon Snow heritage...', '[NO SPOILERS] Is each season of the show equivalent to one book?', '[SPOILERS] Why did the Dothraki Follow Dany...', '[SPOILERS] Hurts to this day.', '[NO SPOILERS] Local street performers', '[NO SPOILERS] Happy Halloween everyone!', '[Spoilers] How could Olenna and Mace let Loras to fight with...?', \"[Spoilers] met Ian Beattie today aka Meryn Trant, total sweetheart, wasn't doing selfies but saw my Cosplay and came hug me ❤️\", '[NO SPOILERS] Drew Jon Snow for Inktober this year, hope you guys like it!', '[Spoilers] What-if Westeros: What if Ned Stark did become King?', '[Spoilers] What on earth is going on with Bran?!', '[No Spoilers] Winter is coming!', '[NO SPOILERS] Game of Thrones piano music', '[SPOILERS] Game Of Thrones AudioBook', '[Spoilers] Game of Thrones Creators Had No Idea How It Actually Got Made', '[NO SPOILERS] I visited Dubrovnik over the summer and my GOT tour guy was an extra in GOT on two Separate occassions. He had so many stories from the show. Awesome Experience', '[NO SPOILERS] Going as Walter White Walker this year.', '[No Spoilers] George R R Martin Interview from August 2019', '[NO SPOILERS] Some free to use game of thrones cast characters I created recently :)', '[NO SPOILERS] A more nuanced view at D&D', \"[No Spoilers] HBO announce 'House of the Dragon' a Game of Thrones prequel!\", '[NO SPOILERS] Tormund and Brienne halloween costumes!', '[No Spoilers] Hi Reddit! I made this awhile back all hand drawn with pen and I wanted to share it all with you! I have prints for sale if interested.', '[Spoilers] Scooter - Dragonfire (music video)', '[NO SPOILERS] HBO have announced a Game of Thrones prequel titled House of the Dragons based on Fire & Blood.', '[No Spoilers]\"House Of Dragon\" Speculation', '[SPOILERS] Bonus Material: Drogon as a wee bairn and Swearing the Oaths with Jon Snow - Kit Harington', '[Spoilers] Syrio Forel is a Jedi', '[NO SPOILERS] Brienne of Tarth vs Ser Gregor Clegane. Who would win?', '[NO SPOILERS] Two questions about the two got prequels', '[No Spoilers] The Long Night spin-off with Naomi Watts has been cancelled', '[NO SPOILERS] My kids as The Nights Watch', '[NO SPOILERS] Game of Thrones painting I did. Time lapse link in the comments', '[spoilers] Found an interesting video game parallel', '[No Spoilers]Paula Fairfield, Sound Designer Behind Game of Thrones Talks Her Emmy Win', '[No Spoilers] I made a desktop I thought this sub might like.', '[No Spoilers] Game of Thrones - Main Theme (Full Acoustic Guitar Tab)', '[NO SPOILERS] GOT Reboot', '[NO SPOILERS] WHY ISN’T THIS IMPORTANT HISTORY TAUGHT IN SCHOOLS.', '[No Spoilers] How game of thrones fans may have ruined the series for themselves.', '[No Spoilers] Jon Snow - Oil on Canvas, By Me', '[SPOILERS] Could Ramsay Bolton have been written as The Prince that was promised ?', '[NO SPOILERS] I Made this for no Reason !', '[SPOILERS] Shoutout to this lady, 3/5 prophecies ain’t to bad. Way above Melisandre', '[Spoilers] How would you fix Cersei as a villain?', '[No Spoilers] Since so many people share their artsy creations', \"[NO SPOILERS] It's Yearbook Week and my work celebrated by decorating chairs!\", '[NO SPOILERS] The Knight of the Laughing Tree inspired tattoo I got today', '[SPOILERS] Yara Greyjoy and Jon Snow?', '[SPOILERS] Met Rebecca Thompson tonight! Fermilab Physicist and author of Fire, Ice, and Physics: The Science of Game of Thrones!', \"[SPOILERS] Why didn't we get any nudity from...?\", '[No Spoilers] One Game of Thrones prequel series scrapped — another goes ahead', '[Spoilers]What showrunners Benioff & Weiss actually said at Austin Film Festival about writing and producing Game of Thrones', '[NO SPOILERS] Huh...', '[NO SPOILERS] Happy Halloween from Your Favorite Pyrophobe!', '[No Spoilers] My drawing of Night King. I did ot with colred pencils. Hope you like it.', '[No Spoilers] Game of Churches', '[SPOILERS] Should there be a prequel to Game of Thrones? And will you watch?', '[NO SPOILERS] Why Fire & Blood Would Make A Better Prequel Than The Long Night (Bloodmoon)?', '[NO SPOILERS] Actor Kristofer Hivju (Tormund Giantsbane) is auctioning away original signed script for charity', '[NO SPOILERS] How do you guys get the blue name/words next to your username? Like people have Jon Snow, Lyanna Mormont, Fire and Blood... I think it’s pretty cool, where can I find that?', '[No Spoilers] A short poll about criticism and Game of Thrones season 8 for school', '[SPOILERS] Theory on the Iron Bank and plot inconsistencies', '[Spoilers] Game of Thrones Alternate Ending', '[Spoilers] Kind of. My friend as Arya and me as Daenerys—what could have been!', '[no spoilers] \"get the finale you deserve...\"', '[No Spoilers] My Dire Pumpkin', '[NO SPOILERS] Another Glass of Thrones in Belfast, this one dedicated to the Targaryens.', '[NO SPOILERS] part of my inktober, emilia’s face was really difficult to get right so i tried my best!', '[NO SPOILERS] I drew a fast portrait of the Night King for Inktober, I thought this sub might like it', '[SPOILERS] Amazing Shots of GAME OF THRONES', '[no spoilers] Awesome Halloween gig!', \"[NO SPOILERS] Who did robert's bastard's kill, if anyone?\", '[NO SPOILERS] Game of Thrones Inspired Halloween Office Decoration Guards Cubicle For Contest Crown', '[NO SPOILERS] What is your favorite episode?', '[NO SPOILERS] Watercolor Night King done by me ! Hope you enjoy !', \"[NO SPOILERS] Wouldn't wanna be near them at the gas station.\", '[No Spoilers] Game of Thrones Houses, Archetypes, The Zodiac, Opposites', '[No spoilers] book 6', \"[No Spoilers] Ben Crompton (Dolorous Edd) making a music video appearance!! 'I Am The Sky - John Bramwell'\", '[Spoilers] What is your review of Game of Thrones season 8?', '[NO SPOILERS] Made a Deezer playlist for GOT ambient OSTs (1 hour, 19 mins)', '[No Spoilers] WOW!! HBO has announced a new “Game of Thrones” prequel! What are your thoughts? -', '[SPOILERS] Did the Night King consider Jon Snow a threat?', '[Spoilers] There Ain’t Nothing Like A Dame No. 2 (Dame Diana in Gourd, 2019)', '[NO SPOILERS] Similarities between the Game of thrones and the now United Kingdom.', '[No Spoilers] Who would you cast for the Fire and blood ( House of the dragon ) series?', '[SPOILERS] Who was your favorite character?', '[SPOILERS] Which cultures and societies in Game of Thrones have the most relaxed and libertine views on sex?', '[No Spoilers] GRRM column in Chicago Tribune', '[NO SPOILERS] Swimming in Blackwater Bay below the Red Keep and the walls of King’s Landing on my honeymoon (Dubrovnik)', '[NO SPOILERS] Night King pumpkin carving.', '[NO SPOILERS] Hey everyone, we are up for Best Fandom in the Bingewatch Awards! Get your votes in as often as you can, we deserve to win this!', '[NO SPOILERS] Had some fun at the Game of Thrones-Tour in Belfast', '[SPOILERS]What I think Cersei is thinking at the end of The Last Of The Starks', '[No spoilers] I thought my neighbor’s pumpkin might belong here!', '[NO SPOILERS] The True WINTERFELL according to the books.', '[NO SPOILERS] Finished the White Walker. Made from exotic woods and epoxy. Cut on scroll saw', '[NO SPOILERS] My costume of Jon Snow and his “Longclaw”', '[NO SPOILERS] GOT Hollywood Bowl Concert from all seasons. It was amazing.', '[NO SPOILERS] Watermelon carving of the Night King by @valeriano_fatico!', \"[NO SPOILERS] Castle Black Groom's Cake\", '[NO SPOILERS] We will witness the start of a 300 year long Targaryen reign. A reign of fire and blood. The purple eyed nobel bloodline of Valyria, conquering and ruling a continent named Westeros riding on their Dragons. (Dragons which are much, much bigger than Drogon on GoT.)', '[NO SPOILERS] I did GOT as an old text based videogame from the 80s. Pixelart Timelapse FANART', '[No Spoilers] The Future in a Dream (fanfiction to the tale of the doom of Valyria)', '[NO SPOILERS] Game of Thrones Theme played on melodic drums', '[Spoilers] GOT Inktober Day 3 — Bait', '[SPOILERS] Never forget.', '[SPOILERS] The True WINTERFELL according to the books, full 3d model, tour and comparison | Shadiversity', '[SPOILERS] How big is Drogon in Season 8?', '[NO SPOILERS] Porto, Portugal Climate Strike', '[NO SPOILERS] I’ve started some of my Christmas DIY projects! Here’s the tree!', '[SPOILERS] FIRE AND BLOOD : A SEASON 1 TRIBUTE', '[NO SPOILERS] Found this amazing drawing of Daenerys Targaryen in Barcelona, Spain'}\n",
            "500\n"
          ],
          "name": "stdout"
        }
      ]
    },
    {
      "cell_type": "code",
      "metadata": {
        "id": "iUJ9oujnR9Pe",
        "colab_type": "code",
        "outputId": "b3c327e7-b50d-49f0-8116-8d814d9d31a2",
        "colab": {
          "base_uri": "https://localhost:8080/",
          "height": 408
        }
      },
      "source": [
        "#Brute sentiment analysis without preprocessing and cleaning of extracted data\n",
        "\n",
        "from nltk.sentiment.vader import SentimentIntensityAnalyzer as SIA\n",
        "\n",
        "sia = SIA()\n",
        "results = []\n",
        "\n",
        "for post in posts:\n",
        "  score = sia.polarity_scores(post)\n",
        "  score['post'] = post\n",
        "  results.append(score)\n",
        "  \n",
        "pprint(results[:5], width=100)"
      ],
      "execution_count": 11,
      "outputs": [
        {
          "output_type": "stream",
          "text": [
            "[{'compound': 0.0,\n",
            "  'neg': 0.0,\n",
            "  'neu': 1.0,\n",
            "  'pos': 0.0,\n",
            "  'post': \"[NO SPOILERS] Here's my Dad's Thrones set up for the Armageddon Expo here in NZ. His \"\n",
            "          'first proper build.'},\n",
            " {'compound': 0.0, 'neg': 0.0, 'neu': 1.0, 'pos': 0.0, 'post': '[Spoilers] The Hound Soundboard'},\n",
            " {'compound': 0.6416,\n",
            "  'neg': 0.0,\n",
            "  'neu': 0.623,\n",
            "  'pos': 0.377,\n",
            "  'post': '[Spoilers] who do you think should of won???'},\n",
            " {'compound': 0.719,\n",
            "  'neg': 0.0,\n",
            "  'neu': 0.666,\n",
            "  'pos': 0.334,\n",
            "  'post': '[SPOILERS]. Interesting take on Jamie Lannister | least someone seems somewhat positive '\n",
            "          'on the Ending'},\n",
            " {'compound': 0.0,\n",
            "  'neg': 0.0,\n",
            "  'neu': 1.0,\n",
            "  'pos': 0.0,\n",
            "  'post': '[NO SPOILERS] Found this gem in Canby OR... not creepy at all'}]\n"
          ],
          "name": "stdout"
        }
      ]
    },
    {
      "cell_type": "code",
      "metadata": {
        "id": "OMq8mEnMYnwJ",
        "colab_type": "code",
        "outputId": "ec8744a5-771e-4b85-bc15-c1cf23a3d937",
        "colab": {
          "base_uri": "https://localhost:8080/",
          "height": 68
        }
      },
      "source": [
        "nltk.download('stopwords')"
      ],
      "execution_count": 12,
      "outputs": [
        {
          "output_type": "stream",
          "text": [
            "[nltk_data] Downloading package stopwords to /root/nltk_data...\n",
            "[nltk_data]   Unzipping corpora/stopwords.zip.\n"
          ],
          "name": "stdout"
        },
        {
          "output_type": "execute_result",
          "data": {
            "text/plain": [
              "True"
            ]
          },
          "metadata": {
            "tags": []
          },
          "execution_count": 12
        }
      ]
    },
    {
      "cell_type": "code",
      "metadata": {
        "id": "rYnjtQCiTq-Z",
        "colab_type": "code",
        "colab": {}
      },
      "source": [
        "#Stopword removal, punctuation elimination and tokenization of extracted data\n",
        "\n",
        "from nltk.corpus import stopwords\n",
        "from nltk.tokenize import word_tokenize\n",
        "\n",
        "remove = set(stopwords.words('english'))\n",
        "filtered = []\n",
        "\n",
        "for post in posts:\n",
        "  #Converting numbers to words, translation of emojis and removing punctuations to give bag of words\n",
        "  post = [num2words(x) if x.isnumeric() else emoji.demojize(x, delimiters=('!', '!')) for x in post.translate(str.maketrans('', '', string.punctuation)).lower().split()]\n",
        "  \n",
        "  #Removing stopwords and words irrelevant to sentiment\n",
        "  temp = [x for x in post if x not in remove]\n",
        "  filtered.append(\" \".join(temp).replace('spoilers', '').strip())"
      ],
      "execution_count": 0,
      "outputs": []
    },
    {
      "cell_type": "code",
      "metadata": {
        "id": "fH83GV39Yjrq",
        "colab_type": "code",
        "outputId": "facea8f3-7d3f-40b1-9042-5a8076ec935f",
        "colab": {
          "base_uri": "https://localhost:8080/",
          "height": 425
        }
      },
      "source": [
        "#Results of sentiment analysis after preprocessing\n",
        "\n",
        "from nltk.sentiment.vader import SentimentIntensityAnalyzer as SIA\n",
        "\n",
        "sia = SIA()\n",
        "results = []\n",
        "\n",
        "for post in filtered:\n",
        "  score = sia.polarity_scores(post)\n",
        "  score['post'] = post\n",
        "  results.append(score)\n",
        "  \n",
        "pprint(results[:5], width=100)\n",
        "data = pd.DataFrame.from_records(results)\n",
        "data.head()"
      ],
      "execution_count": 24,
      "outputs": [
        {
          "output_type": "stream",
          "text": [
            "[{'compound': 0.0,\n",
            "  'neg': 0.0,\n",
            "  'neu': 1.0,\n",
            "  'pos': 0.0,\n",
            "  'post': 'heres dads thrones set armageddon expo nz first proper build'},\n",
            " {'compound': 0.0, 'neg': 0.0, 'neu': 1.0, 'pos': 0.0, 'post': 'hound soundboard'},\n",
            " {'compound': 0.0, 'neg': 0.0, 'neu': 1.0, 'pos': 0.0, 'post': 'think'},\n",
            " {'compound': 0.719,\n",
            "  'neg': 0.0,\n",
            "  'neu': 0.571,\n",
            "  'pos': 0.429,\n",
            "  'post': 'interesting take jamie lannister least someone seems somewhat positive ending'},\n",
            " {'compound': 0.0, 'neg': 0.0, 'neu': 1.0, 'pos': 0.0, 'post': 'found gem canby creepy'}]\n"
          ],
          "name": "stdout"
        },
        {
          "output_type": "execute_result",
          "data": {
            "text/html": [
              "<div>\n",
              "<style scoped>\n",
              "    .dataframe tbody tr th:only-of-type {\n",
              "        vertical-align: middle;\n",
              "    }\n",
              "\n",
              "    .dataframe tbody tr th {\n",
              "        vertical-align: top;\n",
              "    }\n",
              "\n",
              "    .dataframe thead th {\n",
              "        text-align: right;\n",
              "    }\n",
              "</style>\n",
              "<table border=\"1\" class=\"dataframe\">\n",
              "  <thead>\n",
              "    <tr style=\"text-align: right;\">\n",
              "      <th></th>\n",
              "      <th>neg</th>\n",
              "      <th>neu</th>\n",
              "      <th>pos</th>\n",
              "      <th>compound</th>\n",
              "      <th>post</th>\n",
              "    </tr>\n",
              "  </thead>\n",
              "  <tbody>\n",
              "    <tr>\n",
              "      <th>0</th>\n",
              "      <td>0.0</td>\n",
              "      <td>1.000</td>\n",
              "      <td>0.000</td>\n",
              "      <td>0.000</td>\n",
              "      <td>heres dads thrones set armageddon expo nz firs...</td>\n",
              "    </tr>\n",
              "    <tr>\n",
              "      <th>1</th>\n",
              "      <td>0.0</td>\n",
              "      <td>1.000</td>\n",
              "      <td>0.000</td>\n",
              "      <td>0.000</td>\n",
              "      <td>hound soundboard</td>\n",
              "    </tr>\n",
              "    <tr>\n",
              "      <th>2</th>\n",
              "      <td>0.0</td>\n",
              "      <td>1.000</td>\n",
              "      <td>0.000</td>\n",
              "      <td>0.000</td>\n",
              "      <td>think</td>\n",
              "    </tr>\n",
              "    <tr>\n",
              "      <th>3</th>\n",
              "      <td>0.0</td>\n",
              "      <td>0.571</td>\n",
              "      <td>0.429</td>\n",
              "      <td>0.719</td>\n",
              "      <td>interesting take jamie lannister least someone...</td>\n",
              "    </tr>\n",
              "    <tr>\n",
              "      <th>4</th>\n",
              "      <td>0.0</td>\n",
              "      <td>1.000</td>\n",
              "      <td>0.000</td>\n",
              "      <td>0.000</td>\n",
              "      <td>found gem canby creepy</td>\n",
              "    </tr>\n",
              "  </tbody>\n",
              "</table>\n",
              "</div>"
            ],
            "text/plain": [
              "   neg    neu  ...  compound                                               post\n",
              "0  0.0  1.000  ...     0.000  heres dads thrones set armageddon expo nz firs...\n",
              "1  0.0  1.000  ...     0.000                                   hound soundboard\n",
              "2  0.0  1.000  ...     0.000                                              think\n",
              "3  0.0  0.571  ...     0.719  interesting take jamie lannister least someone...\n",
              "4  0.0  1.000  ...     0.000                             found gem canby creepy\n",
              "\n",
              "[5 rows x 5 columns]"
            ]
          },
          "metadata": {
            "tags": []
          },
          "execution_count": 24
        }
      ]
    },
    {
      "cell_type": "code",
      "metadata": {
        "id": "PDSnE6XD9XeN",
        "colab_type": "code",
        "colab": {
          "base_uri": "https://localhost:8080/",
          "height": 359
        },
        "outputId": "8aefa474-0634-4ffc-dc6a-41421d313681"
      },
      "source": [
        "#Labelling the sentiments depending on a compound threshold of 0.2(can be adjusted)\n",
        "data['label'] = 0\n",
        "data.loc[data['compound'] > 0.2, 'label'] = 1\n",
        "data.loc[data['compound'] < -0.2, 'label'] = -1\n",
        "data[:10]"
      ],
      "execution_count": 25,
      "outputs": [
        {
          "output_type": "execute_result",
          "data": {
            "text/html": [
              "<div>\n",
              "<style scoped>\n",
              "    .dataframe tbody tr th:only-of-type {\n",
              "        vertical-align: middle;\n",
              "    }\n",
              "\n",
              "    .dataframe tbody tr th {\n",
              "        vertical-align: top;\n",
              "    }\n",
              "\n",
              "    .dataframe thead th {\n",
              "        text-align: right;\n",
              "    }\n",
              "</style>\n",
              "<table border=\"1\" class=\"dataframe\">\n",
              "  <thead>\n",
              "    <tr style=\"text-align: right;\">\n",
              "      <th></th>\n",
              "      <th>neg</th>\n",
              "      <th>neu</th>\n",
              "      <th>pos</th>\n",
              "      <th>compound</th>\n",
              "      <th>post</th>\n",
              "      <th>label</th>\n",
              "    </tr>\n",
              "  </thead>\n",
              "  <tbody>\n",
              "    <tr>\n",
              "      <th>0</th>\n",
              "      <td>0.000</td>\n",
              "      <td>1.000</td>\n",
              "      <td>0.000</td>\n",
              "      <td>0.0000</td>\n",
              "      <td>heres dads thrones set armageddon expo nz firs...</td>\n",
              "      <td>0</td>\n",
              "    </tr>\n",
              "    <tr>\n",
              "      <th>1</th>\n",
              "      <td>0.000</td>\n",
              "      <td>1.000</td>\n",
              "      <td>0.000</td>\n",
              "      <td>0.0000</td>\n",
              "      <td>hound soundboard</td>\n",
              "      <td>0</td>\n",
              "    </tr>\n",
              "    <tr>\n",
              "      <th>2</th>\n",
              "      <td>0.000</td>\n",
              "      <td>1.000</td>\n",
              "      <td>0.000</td>\n",
              "      <td>0.0000</td>\n",
              "      <td>think</td>\n",
              "      <td>0</td>\n",
              "    </tr>\n",
              "    <tr>\n",
              "      <th>3</th>\n",
              "      <td>0.000</td>\n",
              "      <td>0.571</td>\n",
              "      <td>0.429</td>\n",
              "      <td>0.7190</td>\n",
              "      <td>interesting take jamie lannister least someone...</td>\n",
              "      <td>1</td>\n",
              "    </tr>\n",
              "    <tr>\n",
              "      <th>4</th>\n",
              "      <td>0.000</td>\n",
              "      <td>1.000</td>\n",
              "      <td>0.000</td>\n",
              "      <td>0.0000</td>\n",
              "      <td>found gem canby creepy</td>\n",
              "      <td>0</td>\n",
              "    </tr>\n",
              "    <tr>\n",
              "      <th>5</th>\n",
              "      <td>0.000</td>\n",
              "      <td>1.000</td>\n",
              "      <td>0.000</td>\n",
              "      <td>0.0000</td>\n",
              "      <td>recieved red vipers spear replica longclaw scale</td>\n",
              "      <td>0</td>\n",
              "    </tr>\n",
              "    <tr>\n",
              "      <th>6</th>\n",
              "      <td>0.000</td>\n",
              "      <td>0.442</td>\n",
              "      <td>0.558</td>\n",
              "      <td>0.5837</td>\n",
              "      <td>im hand anymore !face_with_tears_of_joy!</td>\n",
              "      <td>1</td>\n",
              "    </tr>\n",
              "    <tr>\n",
              "      <th>7</th>\n",
              "      <td>0.545</td>\n",
              "      <td>0.455</td>\n",
              "      <td>0.000</td>\n",
              "      <td>-0.5574</td>\n",
              "      <td>im dumbass got attached</td>\n",
              "      <td>-1</td>\n",
              "    </tr>\n",
              "    <tr>\n",
              "      <th>8</th>\n",
              "      <td>0.000</td>\n",
              "      <td>0.580</td>\n",
              "      <td>0.420</td>\n",
              "      <td>0.4404</td>\n",
              "      <td>better actress cersei catelyn stark</td>\n",
              "      <td>1</td>\n",
              "    </tr>\n",
              "    <tr>\n",
              "      <th>9</th>\n",
              "      <td>0.000</td>\n",
              "      <td>0.667</td>\n",
              "      <td>0.333</td>\n",
              "      <td>0.3612</td>\n",
              "      <td>onboard cruise ship jewel seas honeymoon</td>\n",
              "      <td>1</td>\n",
              "    </tr>\n",
              "  </tbody>\n",
              "</table>\n",
              "</div>"
            ],
            "text/plain": [
              "     neg    neu  ...                                               post  label\n",
              "0  0.000  1.000  ...  heres dads thrones set armageddon expo nz firs...      0\n",
              "1  0.000  1.000  ...                                   hound soundboard      0\n",
              "2  0.000  1.000  ...                                              think      0\n",
              "3  0.000  0.571  ...  interesting take jamie lannister least someone...      1\n",
              "4  0.000  1.000  ...                             found gem canby creepy      0\n",
              "5  0.000  1.000  ...   recieved red vipers spear replica longclaw scale      0\n",
              "6  0.000  0.442  ...           im hand anymore !face_with_tears_of_joy!      1\n",
              "7  0.545  0.455  ...                            im dumbass got attached     -1\n",
              "8  0.000  0.580  ...                better actress cersei catelyn stark      1\n",
              "9  0.000  0.667  ...           onboard cruise ship jewel seas honeymoon      1\n",
              "\n",
              "[10 rows x 6 columns]"
            ]
          },
          "metadata": {
            "tags": []
          },
          "execution_count": 25
        }
      ]
    },
    {
      "cell_type": "code",
      "metadata": {
        "id": "pTNiWReVBck_",
        "colab_type": "code",
        "colab": {
          "base_uri": "https://localhost:8080/",
          "height": 258
        },
        "outputId": "b569aee2-778a-4499-c75d-d0b8981ac0fb"
      },
      "source": [
        "#Saving the post label data to CSV\n",
        "label_data = data[['post', 'label']]\n",
        "label_data.to_csv('reddit_posts_labels.csv', mode='a', encoding='utf-8', index=False)\n",
        "\n",
        "#Sample posts from positive and negative label categories\n",
        "print('Positive posts-')\n",
        "pprint(list(data[data['label'] == 1].post)[:5], width=150)\n",
        "print('Negative posts-')\n",
        "pprint(list(data[data['label'] == -1].post)[:5], width=150)"
      ],
      "execution_count": 29,
      "outputs": [
        {
          "output_type": "stream",
          "text": [
            "Positive posts-\n",
            "['interesting take jamie lannister least someone seems somewhat positive ending',\n",
            " 'im hand anymore !face_with_tears_of_joy!',\n",
            " 'better actress cersei catelyn stark',\n",
            " 'onboard cruise ship jewel seas honeymoon',\n",
            " 'heres season six dany better fullbody time']\n",
            "Negative posts-\n",
            "['im dumbass got attached',\n",
            " 'alternative ending daenerys walks sits iron throne seems lost camera pans takes face arya que music dun dun dadadun dun clips got closes dun dun '\n",
            " 'da dun goosebumps',\n",
            " 'ever meet rory mccannsandor clegane don’t want autograph picture want call fucking cunt',\n",
            " 'david benioff db weiss recent discussion got revealing confusing',\n",
            " 'cant wait see play house dragon torrhen stark bending knee aegon targaryen']\n"
          ],
          "name": "stdout"
        }
      ]
    },
    {
      "cell_type": "code",
      "metadata": {
        "id": "x0a3rsqgHXrD",
        "colab_type": "code",
        "colab": {
          "base_uri": "https://localhost:8080/",
          "height": 153
        },
        "outputId": "6411e0e6-d659-4341-a120-0170293e6db3"
      },
      "source": [
        "#Calculating number and percentage of posts belonging to any of the sentiments\n",
        "print(data.label.value_counts())\n",
        "print(data.label.value_counts(normalize=True) * 100)"
      ],
      "execution_count": 30,
      "outputs": [
        {
          "output_type": "stream",
          "text": [
            " 0    273\n",
            " 1    153\n",
            "-1     74\n",
            "Name: label, dtype: int64\n",
            " 0    54.6\n",
            " 1    30.6\n",
            "-1    14.8\n",
            "Name: label, dtype: float64\n"
          ],
          "name": "stdout"
        }
      ]
    },
    {
      "cell_type": "code",
      "metadata": {
        "id": "qUUwN4TJLcOX",
        "colab_type": "code",
        "colab": {
          "base_uri": "https://localhost:8080/",
          "height": 388
        },
        "outputId": "9434946b-5539-4f20-cf97-9e8f75a98c1b"
      },
      "source": [
        "#Plotting a bar graph of the posts according to their sentiments\n",
        "\n",
        "fig, ax = plt.subplots(figsize=(6, 6))\n",
        "counts = data.label.value_counts(normalize=True) * 100\n",
        "sns.barplot(x=counts.index, y=counts, ax=ax)\n",
        "ax.set_xticklabels(['Negative', 'Neutral', 'Positive'])\n",
        "ax.set_ylabel('Percentage')\n",
        "plt.show()"
      ],
      "execution_count": 32,
      "outputs": [
        {
          "output_type": "display_data",
          "data": {
            "image/png": "[encoded data removed]",
            "text/plain": [
              "<Figure size 432x432 with 1 Axes>"
            ]
          },
          "metadata": {
            "tags": []
          }
        }
      ]
    },
    {
      "cell_type": "code",
      "metadata": {
        "id": "X6A1OWMfNsl5",
        "colab_type": "code",
        "colab": {}
      },
      "source": [
        ""
      ],
      "execution_count": 0,
      "outputs": []
    }
  ]
}