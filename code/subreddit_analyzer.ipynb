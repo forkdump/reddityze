{
  "nbformat": 4,
  "nbformat_minor": 0,
  "metadata": {
    "colab": {
      "name": "subreddit-analyzer.ipynb",
      "provenance": []
    },
    "kernelspec": {
      "name": "python3",
      "display_name": "Python 3"
    }
  },
  "cells": [
    {
      "cell_type": "code",
      "metadata": {
        "id": "dF7juNtoZ7yJ",
        "colab_type": "code",
        "outputId": "20068881-5938-4158-835a-a4f425bae93b",
        "colab": {
          "base_uri": "https://localhost:8080/",
          "height": 139
        }
      },
      "source": [
        "pip install num2words"
      ],
      "execution_count": 1,
      "outputs": [
        {
          "output_type": "stream",
          "text": [
            "Collecting num2words\n",
            "\u001b[?25l  Downloading https://files.pythonhosted.org/packages/eb/a2/ea800689730732e27711c41beed4b2a129b34974435bdc450377ec407738/num2words-0.5.10-py3-none-any.whl (101kB)\n",
            "\r\u001b[K     |███▎                            | 10kB 11.1MB/s eta 0:00:01\r\u001b[K     |██████▌                         | 20kB 6.9MB/s eta 0:00:01\r\u001b[K     |█████████▊                      | 30kB 9.0MB/s eta 0:00:01\r\u001b[K     |█████████████                   | 40kB 5.9MB/s eta 0:00:01\r\u001b[K     |████████████████▏               | 51kB 6.9MB/s eta 0:00:01\r\u001b[K     |███████████████████▍            | 61kB 8.1MB/s eta 0:00:01\r\u001b[K     |██████████████████████▋         | 71kB 9.2MB/s eta 0:00:01\r\u001b[K     |█████████████████████████▉      | 81kB 10.1MB/s eta 0:00:01\r\u001b[K     |█████████████████████████████   | 92kB 11.1MB/s eta 0:00:01\r\u001b[K     |████████████████████████████████| 102kB 4.6MB/s \n",
            "\u001b[?25hRequirement already satisfied: docopt>=0.6.2 in /usr/local/lib/python3.6/dist-packages (from num2words) (0.6.2)\n",
            "Installing collected packages: num2words\n",
            "Successfully installed num2words-0.5.10\n"
          ],
          "name": "stdout"
        }
      ]
    },
    {
      "cell_type": "code",
      "metadata": {
        "id": "4dLTLhQuC_sG",
        "colab_type": "code",
        "outputId": "0ff00709-3e74-4044-aa71-3f10c4f782d6",
        "colab": {
          "base_uri": "https://localhost:8080/",
          "height": 207
        }
      },
      "source": [
        "pip install emoji"
      ],
      "execution_count": 2,
      "outputs": [
        {
          "output_type": "stream",
          "text": [
            "Collecting emoji\n",
            "\u001b[?25l  Downloading https://files.pythonhosted.org/packages/40/8d/521be7f0091fe0f2ae690cc044faf43e3445e0ff33c574eae752dd7e39fa/emoji-0.5.4.tar.gz (43kB)\n",
            "\r\u001b[K     |███████▌                        | 10kB 17.6MB/s eta 0:00:01\r\u001b[K     |███████████████                 | 20kB 6.3MB/s eta 0:00:01\r\u001b[K     |██████████████████████▋         | 30kB 8.8MB/s eta 0:00:01\r\u001b[K     |██████████████████████████████▏ | 40kB 5.7MB/s eta 0:00:01\r\u001b[K     |████████████████████████████████| 51kB 3.5MB/s \n",
            "\u001b[?25hBuilding wheels for collected packages: emoji\n",
            "  Building wheel for emoji (setup.py) ... \u001b[?25l\u001b[?25hdone\n",
            "  Created wheel for emoji: filename=emoji-0.5.4-cp36-none-any.whl size=42175 sha256=e37e884c772117f6222082f943030003b0d62b017fa1186a7781b167d900eb49\n",
            "  Stored in directory: /root/.cache/pip/wheels/2a/a9/0a/4f8e8cce8074232aba240caca3fade315bb49fac68808d1a9c\n",
            "Successfully built emoji\n",
            "Installing collected packages: emoji\n",
            "Successfully installed emoji-0.5.4\n"
          ],
          "name": "stdout"
        }
      ]
    },
    {
      "cell_type": "code",
      "metadata": {
        "id": "Zl3twzjicOU-",
        "colab_type": "code",
        "colab": {
          "base_uri": "https://localhost:8080/",
          "height": 68
        },
        "outputId": "a049fae2-adf2-49c6-93f9-0db788b340c6"
      },
      "source": [
        "nltk.download('punkt')"
      ],
      "execution_count": 18,
      "outputs": [
        {
          "output_type": "stream",
          "text": [
            "[nltk_data] Downloading package punkt to /root/nltk_data...\n",
            "[nltk_data]   Unzipping tokenizers/punkt.zip.\n"
          ],
          "name": "stdout"
        },
        {
          "output_type": "execute_result",
          "data": {
            "text/plain": [
              "True"
            ]
          },
          "metadata": {
            "tags": []
          },
          "execution_count": 18
        }
      ]
    },
    {
      "cell_type": "code",
      "metadata": {
        "id": "Yp3lhWU2RDWX",
        "colab_type": "code",
        "colab": {}
      },
      "source": [
        "#Importing necessary libraries\n",
        "\n",
        "from IPython import display\n",
        "import math\n",
        "import string\n",
        "from pprint import pprint\n",
        "from num2words import num2words\n",
        "import pandas as pd\n",
        "import numpy as np\n",
        "import nltk\n",
        "from nltk.tokenize import word_tokenize, RegexpTokenizer\n",
        "import matplotlib.pyplot as plt\n",
        "import seaborn as sns\n",
        "import emoji\n",
        "sns.set(style='darkgrid', context='talk', palette='Dark2')"
      ],
      "execution_count": 0,
      "outputs": []
    },
    {
      "cell_type": "code",
      "metadata": {
        "id": "qY6HLNX0RPtV",
        "colab_type": "code",
        "outputId": "13562104-8510-4eaa-fae8-612609219409",
        "colab": {
          "base_uri": "https://localhost:8080/",
          "height": 343
        }
      },
      "source": [
        "pip install praw"
      ],
      "execution_count": 4,
      "outputs": [
        {
          "output_type": "stream",
          "text": [
            "Collecting praw\n",
            "\u001b[?25l  Downloading https://files.pythonhosted.org/packages/f6/df/b42c0a3b86a43a62a46e5b2f07930230ac7719624800a2052218993fb767/praw-6.4.0-py2.py3-none-any.whl (126kB)\n",
            "\u001b[K     |████████████████████████████████| 133kB 9.3MB/s \n",
            "\u001b[?25hCollecting websocket-client>=0.54.0\n",
            "\u001b[?25l  Downloading https://files.pythonhosted.org/packages/29/19/44753eab1fdb50770ac69605527e8859468f3c0fd7dc5a76dd9c4dbd7906/websocket_client-0.56.0-py2.py3-none-any.whl (200kB)\n",
            "\u001b[K     |████████████████████████████████| 204kB 38.8MB/s \n",
            "\u001b[?25hCollecting prawcore<2.0,>=1.0.1\n",
            "  Downloading https://files.pythonhosted.org/packages/76/b5/ce6282dea45cba6f08a30e25d18e0f3d33277e2c9fcbda75644b8dc0089b/prawcore-1.0.1-py2.py3-none-any.whl\n",
            "Collecting update-checker>=0.16\n",
            "  Downloading https://files.pythonhosted.org/packages/17/c9/ab11855af164d03be0ff4fddd4c46a5bd44799a9ecc1770e01a669c21168/update_checker-0.16-py2.py3-none-any.whl\n",
            "Requirement already satisfied: six in /usr/local/lib/python3.6/dist-packages (from websocket-client>=0.54.0->praw) (1.12.0)\n",
            "Requirement already satisfied: requests<3.0,>=2.6.0 in /usr/local/lib/python3.6/dist-packages (from prawcore<2.0,>=1.0.1->praw) (2.21.0)\n",
            "Requirement already satisfied: urllib3<1.25,>=1.21.1 in /usr/local/lib/python3.6/dist-packages (from requests<3.0,>=2.6.0->prawcore<2.0,>=1.0.1->praw) (1.24.3)\n",
            "Requirement already satisfied: chardet<3.1.0,>=3.0.2 in /usr/local/lib/python3.6/dist-packages (from requests<3.0,>=2.6.0->prawcore<2.0,>=1.0.1->praw) (3.0.4)\n",
            "Requirement already satisfied: certifi>=2017.4.17 in /usr/local/lib/python3.6/dist-packages (from requests<3.0,>=2.6.0->prawcore<2.0,>=1.0.1->praw) (2019.9.11)\n",
            "Requirement already satisfied: idna<2.9,>=2.5 in /usr/local/lib/python3.6/dist-packages (from requests<3.0,>=2.6.0->prawcore<2.0,>=1.0.1->praw) (2.8)\n",
            "Installing collected packages: websocket-client, prawcore, update-checker, praw\n",
            "Successfully installed praw-6.4.0 prawcore-1.0.1 update-checker-0.16 websocket-client-0.56.0\n"
          ],
          "name": "stdout"
        }
      ]
    },
    {
      "cell_type": "code",
      "metadata": {
        "id": "0wdG_sQiRuA6",
        "colab_type": "code",
        "colab": {}
      },
      "source": [
        "#client id- StmWjOzTODd8Og\n",
        "#user agent- r/webscraper\n",
        "#secret- 3-HWmn6SD7a32SEoOLXyVSUv5jQ\n",
        "\n",
        "import praw\n",
        "reddit = praw.Reddit(client_id='StmWjOzTODd8Og', client_secret='3-HWmn6SD7a32SEoOLXyVSUv5jQ', user_agent='r/webscraper')"
      ],
      "execution_count": 0,
      "outputs": []
    },
    {
      "cell_type": "code",
      "metadata": {
        "id": "gX3t-1NRTyIy",
        "colab_type": "code",
        "outputId": "1695ff44-5115-4d1d-948b-3168bcd84311",
        "colab": {
          "base_uri": "https://localhost:8080/",
          "height": 51
        }
      },
      "source": [
        "nltk.download('vader_lexicon')"
      ],
      "execution_count": 6,
      "outputs": [
        {
          "output_type": "stream",
          "text": [
            "[nltk_data] Downloading package vader_lexicon to /root/nltk_data...\n"
          ],
          "name": "stdout"
        },
        {
          "output_type": "execute_result",
          "data": {
            "text/plain": [
              "True"
            ]
          },
          "metadata": {
            "tags": []
          },
          "execution_count": 6
        }
      ]
    },
    {
      "cell_type": "code",
      "metadata": {
        "id": "2Ine8iJ5US6k",
        "colab_type": "code",
        "outputId": "5879004b-4367-4057-aa60-f3abf877215c",
        "colab": {
          "base_uri": "https://localhost:8080/",
          "height": 71
        }
      },
      "source": [
        "#Storing the titles of extracted posts into a set to avoid repetition\n",
        "\n",
        "posts = set()\n",
        "\n",
        "for post in reddit.subreddit('freefolk').hot(limit=500):\n",
        "  posts.add(post.title)\n",
        "\n",
        "print(posts)\n",
        "print(len(posts))\n",
        "\n",
        "data_posts = pd.DataFrame.from_records(results)\n",
        "data_posts.to_csv('hottest_500_freefolk.csv', mode='a', encoding='utf-8', index=False)"
      ],
      "execution_count": 50,
      "outputs": [
        {
          "output_type": "stream",
          "text": [
            "{'How I feel about ANY prequel series.', 'Emilia Clarke‘s Pumpkin Carving', 'Bobby-b and the boys waiting for the new series', 'When enough time has passed and you miss the joy of watching GOT, but then you remember that nothing in the first seven seasons matters in the slightest', 'Reducing the fantasy elements in ASOIAF', 'Time to petition Netflix to Fire D&D as well?', 'A little GoT/Halloween illustration I did for my local gaming shop. Happy Halloween!', '\"The Reigns Of Dan and Dave\" (sung to the tune of you know what...)', 'Me going back to being a toxic GoT fan now that HBO is developing a Targaryen show', '2D saying they held back on the lore of WW for the prequel only to for the prequel to be canceled which makes s8 infinitely worse.', 'Emilia Clarke on \"House of the Dragon\"', 'Now all we need is HBO to announce they’re remaking Season 8 with competent writers and the trinity of good luck will be complete.', 'My parents went to a GOT themed Halloween party. Best outfit went to this guy.', 'From a satirical news page, but probably not far from the truth.', 'We had a poetry contest at work....', 'Me. On my way to r/ff after hearing the news.', 'I’m a Dragon til I get my Coffee', 'Just when I thought I was out, the pull me back in.', 'WOW! HBO just released the first still of the Targaryen prequel.', \"Henry Cavill as Aegon. He's got the face, body, voice, and he can fight. What do you think are the chances?\", 'Best Cosplay ever!!!', \"Good ol' switcheroo\", 'TMI Gendry! TMI', 'Anyone else not going to be invested in the new series?', 'This is cold ngl. When I saw this, I had goose bumps.', 'This is a nightmare', 'Arya knows things', \"It's getting annoying\", 'When the GoT soundtrack randomly comes on', \"Wait, i'm confused\", 'My coworker’s halloween costume', 'When you come back for the D&D memes but end up just being sad about S8 again', 'Wife and the Series: A Follow-Up', 'THEY HAVE BEEN OVERTHROWN FREEFOLK RISES', 'It be like that most of the times', 'HBO should bite the bullet and shoot an alternate ending/alternate last three episodes', 'We did it. We broke them', 'One season to ruin them all', 'She is the queen we chose', 'Emilia Clarke imitated dance of Kit and Jason 🤣', 'My first homemade costume. It had to be our favorite ginger!', 'Me when someone tells me to move past hating Season 8 #stillbitteraf', 'The Lord of the Rings version of Andy the Extra (This is still a LOTR sub right?)', 'We got the 2 idiots off Star Wars. Now we need to plan how to get them off their Netflix show.', 'Me returning after 3 months to r/freefolk after D&D failed', 'My brother, John Snow', 'When you read D&D got fired from Star Wars.', '[Shower thought] If they started from the beggining with working on a House of the Dragon instead of the bloodmoom we could have Targaryen prequel somewhere in 2020.', 'A bitter victory, for sure, but a victory nonetheless...', 'When the freefolk find out HBO scrapped GoT prequel show', 'Disney firing D&D from Star Wars', \"King's Landing should be more mindful of their carbon footprint\", \"Probably D&D's thought process. Bastards.\", 'Thenn Thursdays: lots of people like arts and crafts...lots of cunts', 'Finally we got them', \"That's why she burnt them all.\", 'Emilia Clarke reveals identity of coffee cup culprit', 'Euron and Asha listening to Dennis Reynolds explaining the Implication', 'Coming back to Freefolk after learning d&d aren’t doing Star Wars anymore', \"My prediction: Netflix will produce wathever they are writing, it will fail hard after one season, and we'll never hear their names again.\", 'Girlfriend and I dressed up as our favorite couple to hate! And yes, I did fill our scripts with Season 8 jokes!', 'Stonks!', 'When you’re still salty about the ending', 'D&D are fired from Star Wars, HBO cancelled The Long Night prequel, but we get a Targaryen prequel instead', 'r/freefolk right now', 'r/freefolk watching and hoping D&D career opportunities crash like the 8th season.', 'It’s official', 'D&D confirm fanbase suspicions during Austin Film Festival', 'When you hoped a new shiny show might mend your tarnished reputation.', 'But they gave up 10 years of their life for Game of Thrones!', 'See Jorah at the Siege of Pyke, realizing how badly he had to piss.', 'Hilarious to see D&D crash and burn', 'Ok this is epic', 'D+D rush a garbage s8 to slither off to do star wars but get fired by Disney and indirectly get the prequel series canned too', 'Posting the screenshots that got deleted from r/StarWarsLeaks about how David and Dan were removed from Star Wars BEFORE the Netflix deal. Source is Joanna Robinson on The Storm Podcast', 'I could see Drogon ending up here', \"An early sign of D&D not knowing what they're doing\", 'Lots of Cunts', 'Game of Thrones prequel will focus on Targaryen civil war, have 10-episode first season', 'A crossover to be sure, but a welcome one', 'Dunk & Egg, the only prequel I want to see', '\"I wrote a novel...it was a very New York City book...I had this fear that they were gonna hire some guy from Malibu who\\'d only been to NY on vacation...he was gonna just ruin it & I wanted to protect it\"', 'Ramsay Bolton as The Joker', 'Fuck D&D! Long Night prequel cancelled by HBO!', \"Happy Halloween from my friend's company costume contest!\", \"It's fun being a casual lurker of this sub\", 'Poor Bran', 'QUEEN YOU SHALL BE', 'Bloodmoon pilot', 'Take notes, 2D', 'I have a question about Dragonlords and Valyrian steel swords.', 'when I heard the Targaryen series was coming out !', 'Dragon Demands puts forward; the prequel will be considerably worse and more racist...', 'Miguel Sapochnik who wanted 50 dire wolfs to attack wight Viserion in “the long night” gets the last laugh at D&D. He gets to direct “House of the Dragon” and work with G.R.R.M', 'My man this is straight up fax', 'There are two types of writers', 'First priority: get the Black Dread right and then show us what nature dragons in their prime are actually like and why they allowed a small force to conquer a whole continent.', 'Just seen “Hardhome” for the first time. Easily my favorite episode of the series so far...The White Walkers, the beautiful cold snowing weather, the Night King, Jon Snow’s leadership. 10/10', 'Fixing this mess by simply finishing the story.', 'When the sun rises in the West and sets in the east....', 'I’m thinking whoever was in charge of this was a fan, and got really mad at the finale. So Karma does exist.', 'LOL', 'Daenerys', 'Emilia reacts to Prequel...', 'I just figured this out', 'I’m just here for the dragons', 'Whatever it takes....', 'How different is the books compared to the show?', 'You did it Freefolk. We won.', \"'What kept you going?' 'Hate'\", 'Who else would I be ?', \"It's not me, it's you.\", 'With the big budget and completed material source, House of the Dragon has an amazing potential to be better than Game of Thrones. Targaryen Dynasty is such joy to read and watch. I think its the best story in ASOIAF.', 'Today, I am going as something truly vile and horrifying for Halloween!', 'Cricis subverted', 'For litigation is dark and full of terrors. My casual costume for court today.', 'Nothing to see here just a useless villain with no backstory passing by', 'Remember when everyone died except for Arya and a magical horse, which was covered in blood from all of the exploding people, and then she rode out of he city on it, but she came back into he city the next episode, to tell Jon that the city was on fire and some people were dead or some shit?', 'In July 2017 Brenden Schaub outs DND for not being interested in GoT or fantasy genre any longer. Skip to 8:45. His Instagram post from July 9th 2017 corroborates this story.', 'All the Freedolk.', 'The man himself has spoken!', \"This sub when it's announced that D&D have exited the Star Wars trilogy\", 'King Viserys I..‘House of the Dragon’', 'Me after D+D dropped from Star Wars trilogy', 'I mean.... we been knew', 'Is this The Hound and The Rock? Does Sandor Clegane live again in Jumanji 2?', 'Bend the knee!!', 'We still fighting the war here', 'I just wanted to say, from the bottom of my heart, thank you Freefolk.', 'GRRM when he hears D2 fired from star wars', 'I really hope the cast go on to bigger and better things.', \"Six months later, the internet still doesn't disappoint. Although God knows, DnD did.\", 'When you find out D&D were fired from Star Wars', 'Sexy Jon Snow, 10/31/14', 'Well', 'On the other hand, D&D suffering is the only joy I can find in all this misery', 'The night is long...and full of desperation', 'Bloodmoon deserves another chance.', 'In honor of Halloween... but this is actually a Cosplay Comedy character I sometimes perform.', 'One thing that disturbs me for months, I really want to talk about it ....', 'This new spinoff is actually terrible news', 'Fuck Olly', 'The year is 2030. House of the Dragon series finale has just aired, following Martin’s wish of 10 seasons, covering everything from Fire & Blood. The credits role. The screen lights up with the epilogue: many years later, the last Targaryen ruler opens her eyes once more to reign again. Life is good', 'Sansa and John Snow', 'Crimson Jihad will rain fire on one major D&D project EACH WEEK...until these demands are met.', 'ZALDRIZES BUZDARI IKSOS DAOR', 'what D&D ACTUALLY said at the panel, with audio. Am I disappointed or relieved?', \"All this celebration shitposting reminds me, I kinda want to see a Disney+ series about Daenerys' time as a crime queen in the Star Wars underworld\", 'New Apple Air Pods', 'Perhaps some Essence of Nightshade', 'Game of Thrones writers quit Star Wars after learning franchise has already been ruined', 'One strong with the force...', 'Remember when Arya met Nymeria and it meant absolutely nothing because the plot was so packed they had no time for a conclusice character arc anymore?', 'Surely they’re not going to try and cover the whole of the Conquest in 10 episodes?', 'Ah, \"victory\"', 'We did it Reddit!', 'Wait for it', 'Bittersweet victory, guys.', 'Idea: All Freefolk cancel our Netflix accounts until they fire D&D', 'The lannisters send their regards bitches', 'My first post in Reddit :D', 'Is there hope we might get Winds next year? Or is George still blowing wind?', 'Those bastards can burn in hell', 'Rather than prequels or the finishing of the books', 'We fucking did it', 'Sigh... Want to go back to what was promised...', 'ORRRDERR', 'Hopefully forever.', 'Link in the comments!', 'Long time lurker...OC', 'Do you ever wonder if D&D visit this sub?', \"D2's excuses are on par with their writing skills.\", 'Happy Halloween! Photo by NewYorkNico', 'Too many emotions', 'Well that’s out the window as well', 'Dear D&D,', 'Daily /r/Freefolk Free Talk Thread! - November 01, 2019', 'Bran’s Court Jester', 'Maybe Elon Musk should have written Season 8', 'MRW I find out about D&D leaving Star Wars but then realize they basically ruined GoT for nothing', 'The Freefolk celebrating that in just 24 hours D&D got fired of Star Wars, Bloodmoon prequel got cancelled and HBO announced House of the Dragon prequel with 10 episodes.', 'The wait is killing me', 'Who has a better story?', \"I'm so sorry but this scene is so bad.\", 'We won.', 'It won’t happen, but I’d love ah the end of House of the Dragon they do a retcon flash forward so Daenerys alive and on the throne / or both Jon and Dany on the throne.', 'Spongebob, Dungeons and Dragons, and hating D&D', '\\U0001f92f', 'Emilia Clarke Driving the car and her children following, this would be a better S8 ending.', '😂😂😂', \"I'm trying. I'll get there eventually.\", 'House Targaryen to House Stark Prequel', 'The ultimate torture.', 'Daenerys Targaryen sends her regards', 'Battle of the Billionaires', 'Probably how it went down', 'What an asinine thing to say.', 'Daily /r/Freefolk Free Talk Thread! - October 31, 2019', 'The Witcher knows how to do fire', 'Remember when he still cared', 'Off to work tomorrow with the knowledge we won’t have to suffer a D&D Star Wars trilogy', \"When you are happy that Star Wars won't be ruined by D&D but it's too late for GoT\", 'I modified a GoT music box for my Halloween costume as S8 Jon Snow', 'It is known.', 'Not my original idea, but had to lend my support to the resistance.', 'The Freefolk are spreading', 'Ahhh shit', 'When you get home from work and see D&D have lost the Star Wars contract they abandoned GoT for.', \"the fact that this doesn't surprise me at all makes me fucking furious\", 'Every time bran opens his fucking mouth in season 8', 'I foooking love Halloween', 'What we know about ‘Game of Thrones’ prequel ‘House of the Dragon’', 'Let it burn', 'The usual f*** D&D', 'Today is d&ds day', 'D2 deserve nothing!!', 'Battle for Winterfell crow eye view', 'Did the clown duo sabotage their chances for any Golden Globes nominations?', \"Besides being excited for the Targ prequel, I'm even more excited that Alt+Shift+X will have more material to do his awesome indepth breakdowns about (I miss them)\", 'To all the lads heading into NNN....', 'Today I stumbled upon what must be a secret filming location in Chicago today for the remake of Season 8! Looks like we’re getting the Ice Spiders we deserve, boys!', 'Some move on but not us. They ruined the best tv show ever made.', \"D&D's logic on toxic fans\", 'The Curse of D&D', 'Saw these at a board game stall at a mall near my place. The north remembers.', 'Tell Cersei it was me', 'Does anyone actually like any of the bots besides Bobby B?', 'When you disguise yourself and travel to a galaxy far far away to get revenge on the two goons that are 2D. Mission Accomplished.', 'Facepalm Writing: When D&D used an off the cuff comeback during a private conversation in Season 5 and turned it into an analogy suddenly known the world over which becomes the mantra of Dany’s global conquest.', 'The Night King sure did change a lot over the years', \"What I think should've been the ending scene\", 'My costume for Halloween.', \"When you don't watch Star Wars but you are glad the two dummies are fired because you-\", 'Nice job everyone', 'We fucking won. All the review bombs, all the shitposts, all the bad writer review spams. They finally couldn’t ignore the backlash any longer. This is honestly maybe the happiest I’ve been this decade. This makes it worth it.', 'While escaping the White Walkers, Tormund only had one thing on his mind.', 'I think you guys would like this', 'D&D losing Star Wars and the prequel series being cancelled #Justice', 'Haha!', 'Freefolk mood', 'My fat ass laying in bed looking at all the new memes...', 'This new prequel looks better by the minute', 'A real filmmaker and storyteller has the reigns on GOT series \"House of the Dragon\" this time, also the one guy with the balls to say it was \"all D&D\\'s fault\" (remember during \"The Last Watch\" documentary). HBO finally is getting on track to redeem D&D\\'s dirty work.', 'Arya killed the White Walker backstory pilot back in April', 'Theory: Mickey Mouse is Azor Ahai', 'Happy Halloween!', 'Do you think Aegon will be the lead in House if the Dragon? Also, I am not super familiar with Fire and Blood, so how long after Aegon’s conquest was The Dance of the Dragons? I am hearing both will be in the show....🐉🐉🐉', 'When I read Dumb & Dumber were FIRED from Star Wars:', 'When you hear news that D&D will no longer work on the next Star Wars trilogy.', 'Knew it had to be something', 'How is everyone feeling about the ‘House of the Dragon’?', 'Checking in on FreeFolk when D&D get shit on.', 'Kinda forgot about their trilogy', 'D&D Bad', 'Dammit Bran!', 'So much to celebrate here freefolk.', 'A Season 9 is the answer, not a remade Season 8', 'Can’t wait', 'Long Night Prequel Is Ridiculously Racist to Black People (Game of Thrones) RUMOUR Is it true?', \"D&D's faces when Disney told them they wouldn't be directing that Star Wars trilogy.\", 'Netflix is the real hero...', 'Star Wars: Origin of the Jedi Would Have Been Focus of Canceled Benioff and Weiss Trilogy', 'Loses. Netflix loses. RIP Netflix.', 'My awsome game of thrones script:', \"I don't want to be excited\", 'I heard the news today', 'Feels like it would get appreciated here', 'Our accurate costumes considering the last season was a joke', 'The H3 podcast roasting D&D and reviewing freefolk memes!', 'I see this as an absolute win', 'This sub rn', 'D&D were removed from Star Wars following the GoT finale', 'House of the Drgaon prequel goes something like this', 'Remember today, r/freefolk. Today, life is good.', 'BrAn ThE BRokEn', 'The series that was promised.', 'Freefolk, did you actually win so hard? According to Vanity fair reporters, Benioff and Weiss Were removed \"softy\" from Star Wars in May itself.', 'Thanks Elsa...I mean Sansa', 'Another Proper Subversion of Expectations', 'She always knew which one would sell', \"When HBO is making a prequel about House Targaryen, directed by Miguel Sapochnik, with GRRM's help and no involvement with Dumb and Dumber.\", 'My Night King pumpkin carving. Took about 9 hours to do but I think it turned out great!', 'We will answer injustice with justice.', 'Men who fight for gold have neither honor nor loyalty.', 'Manifestation of D&D was in my town for a parade', 'Daenerys Targaryen and Sansa Stark finally put aside their differences to acknowledge one the true king: Pod the Rod, first of his name.', 'Trash D&D', \"Can't wait to see this bad boy on screen\", 'FIRE AND BLOOD MOTHERFUC*ER', \"2007 David Benioff clip that aged like milk. He became a screenwriter because he didn't want another screenwriter to ruin an adaptation of his book.\", \"It's not about the money. It's about sending a message. Everything burns.\", 'Look what they fucking did', 'Me Sundae at her absolute most useful, which is sad.', 'Homemade King in the North.', 'Finally got around to painting the shield I was working on', '\"Winter is still coming, and WINDS remains my priority\" George R.R. Martin', '(Spoilers Main) House of the Dragon seasonal structure', 'An interesting title', 'Ours Is The Last Laugh', 'D&D admitted to fu*king up the show', 'Who Better?', 'This for real', 'It snows, my tree turns red, and this guy shows up.', 'Me after D&D failed', 'I guess not', 'White Walkers dead again.... GOT prequel series is not going forward.', 'r/freefolk when they heard that D&D were fired', 'The GOT fandom after the show was ruined but at least the backlash caused 2D the star wars job', 'Relatable', 'BURN, YAH SHITS', 'The ripple effect of D&D last season will be felt through the ages. I am glad they got the Star Wars gig though.', 'Star Wars is saved', \"'Star Wars' Shocker: 'Game of Thrones' Duo Quits Planned Trilogy\", 'At least give us something, dammit.', 'HBO cancels Game of Thrones prequel starring Naomi Watts', 'It better be good. Also, get the Great Ramin on board. Thank you.', '*DnD fired from star wars* all of freefolk', 'Want a skinless apple, bud?', 'Patrolling this sub like:', 'Did our favorite S8 actor just show up for post-game World Series celebrations?', \"It's a good thing D&D dropped out of Star Wars or else this might have been one of the plot points\", 'The Lannisters send their regards', 'When HBO returns fire with fire.', 'THIS HALLOWEEN 2019, WHO IS UP TO DRESS MELISANDR, AKA THE RED WOMAN! ANYWAY, THIS COUPLE HAS NAILED IT\\U0001f92a', 'Remember when this metaphorically symbolized the peak of the series and we didn’t even realize it?', 'House Of The Dragon Trailer (MAY 2020 Release date)', 'HBO Executives cancelling Bloodmoon', 'a Weirwood turned into a cabinet 😔', 'Bran the Broken — Lord of the Six Kingdoms, Protector of the Realm, Winner of Office Costume Contest', 'The biggest plot hole of S8 has been solved! The media finally reporting useful information', 'D&D Gone', 'D&D Removed From Star Wars', 'Winterfeld: Bran the Broken', 'I dun want it', 'I know nothing', 'Am i the only one feeling depressed rather than hype for \"house of the dragons\" lol ?', \"Now that's rather an A or an A+ story\", 'A god among men', 'AKA Encouraged to see themselves out', \"When the scattered Freefolk and Star Wars fans found out DnD won't ruin Star Wars\", 'Society', 'Hard Truth: Even Cleganebowl was dumb fan service', \"Let's stop shitting on D&D for a minute (not crazy, hear me out)\", 'S8 owes Masego writing royalties', 'You’re damn right we did!!!', 'Fuckers', 'The Classic', 'This entire subreddit after the past 24 hours', 'Godspeed brothers', \"If someone wanted to do a Robert' Rebellion prequel it wouldn't matter too like the story about the White Walkers and the first and the REAL Long Night because at the end Jon doesn't matter.\", 'Yet another detail D&D glossed over', 'All real GOT fans right now', 'Paraphrasing the recent announcement', 'I’m north of the wall right now! Still looking for John Snow and the big women!', '*Wargs into the nearest Raven*', 'Deathstroke did it better', 'Saw this on r/AskReddit', 'We did it guys', '“Untitled” Game Of Thrones Prequel By Naomi Watts Officially Dead', 'The suicide of Jeffrey Epstein', \"You don't get away with doing the Queen dirty\", \"In just 24 hours Double D's have been removed from SW AND the prequel was let go from HBO before they had a chance to somehow inevitably ruin that too\", 'King of the north', 'Dumb and Dumber’s amazing', 'HBO cancels Game of Thrones prequel starring Naomi Watts. However a second GOT prequel project still in the works and is based on Martin’s Fire and Blood, a history of House Targaryen that spans roughly 150 years, and focusing on the Targaryen Civil War.', \"David Benioff and D.B. Weiss Were Reportedly Removed From 'Star Wars' Following 'Game of Thrones' Finale\", '[Discussion] House of the Dragon Casting', \"I can't wait to see the reigns of Maegor III, Orys I and Daeron the Chairmaker!\", 'No more Star Wars trilogy you say? Tell me more', 'Game of Thrones: how the show’s creators prompted a huge new fan backlash | Television & radio', \"[NO SPOILERS] D&D choose Netflix deal over Star Wars trilogy. Thank God they won't get a chance to ruin it\", 'They rushed GoT for nothing', 'Freefolk when people try to correct them that D&D quit Star Wars and weren’t fired.', 'Remember when they did that horrendous panel in Austin and the very next day the Disney deal fell through? lmao', 'Time to celebrate to tonght', 'Because D&D walking away with 200 million dollars is a huge victory for us... Bring on the downvotes!', 'The freefolk send their regards...', '🎃🎃🎃', 'I think my friend won Halloween this year.', 'rise up freefolk and plant some trees', \"What's up with D&D wanting that baby D?\", 'The best part of Seson 8 The Night King - Game of Thrones: Season 8 (Piano Version)', 'Targaryen Dynasty c. 283 AC', 'Charismatic woman 😍 she is to tiny but so elegant 😍', 'Debating a rewatch.', 'Appealing to moms & football players', 'WHAT. IS. THIS.', 'Looks like the prequel will focus on Dance.', 'The coffee cup', 'Daily /r/Freefolk Free Talk Thread! - October 30, 2019', 'The cat at my vet looks like a white walker', 'My bandmate, Elton John Snow.', 'Brothers in arms.', '[META] Does anyone else think that the \"incident\" on this sub a few months back was intentionally done by like HBO or something to splinter anger against the show?', 'Bitter but sweet', 'Just in case you haven\\'t watched it. It is hilarious. \"MEDIEVAL LAND FUN-TIME WORLD\" EXTENDED TRAILER — A Bad Lip Reading of Game of Thrones', 'When House Targaryen actually matters', \"I'm done with anything GoT/asoiaf, all I'm gonna do is bitch about GoT for the rest of my life, and read the last two books. Not gonna bother reading/watching anymore prequels/sequels released because frankly I don't care. They ruined it, and they're still trying to milk a dead Cash cow.\", 'Kind of topic with what’s going on, but are we still doing Thenn Thursday?', \"Dany when someone doesn't like her.\", 'Star Wars, with fantasy elements removed', 'Please fucking check the sub before posting about “THeRe iS a NeW gOt PrEqUeL” (or any other big news, honestly). new is full of the same “breaking news” articles and it’s annoying as hell.', 'Happy Day', 'GET DOWN MR PRESIDENT!', 'Tell D&D. I want them to know it was', 'SHIT JUST GOT TEN TIMES BETTER!!!', 'Vince Gilligan is awesome.', 'Fellow free folk, we are #5 on the front page', 'All true GOT fans right now', 'They fucked season 8 so hard that it’s the only season being sold alongside all the porno parodies', 'A defense of 2D, and why season 8 is unforgivable', 'Met the man himself at my restaurant today!', '4D Chess', 'All hail the t-shirt nobody asked for!', 'Maybe you should stop saying it that way...', 'What D&D see in their nightmares! Wherever her spirit goes, the careers of evil men die!', 'At least the tree trend is growing', 'Now get this man as Aegon Targaryen.', \"It's even better since D&D won't be limiting Miguel Sapochnik anymore.\", \"Everywhere she goes evil men die. In this case, it's their careers.\", 'r/Witcher taking a piss on D&D', 'Miguel Sapochnik - \"At the end of an 80 minute battle, do I really care if the Night King has got some fancy moves with his spear? Do I really give a s**t about that?\"', 'I thought this might help the lingering heartbreak but it Did Not', 'My Face When I Saw The News About D&D', 'Making a tv series about House Targaryen when you knew it ends like this. 2D ruined everything watchable about ASOIAF universe.', 'GOT vs HP', 'Does a 10 episode show mean \"more seasons if it does well\"?', 'So was it an A or A+?', \"Sacrifice wasn't in vain. Fuck D&D, may they never ruin a beloved franchise again.\", '“How a little spark can set such a hige forest ablaze.”', 'For all the f00king kneelers that were defending D&D yesterday', 'D&D: \"Character Consistency? THE FUCK IS THAT!?!\"', 'Theon’s Favorite Toy', 'Hate to say told you so, but', 'House Alabama 1st of their name', 'GRRM, Sapochnik, we’re eating well tonight', 'Best way to put it', 'This explains a lot...', 'A Song of Ice and Fire', 'Petition to rename S8 ep.6 “Cleganebowl” and to blackout every other scene besides this', 'It was a hollow victory disney gave us', 'Weirwood tree in my front yard; a song of ice and fire in my back yard.', 'The reason why drogon burnt the throne finally revealed xD.', 'I’m a man but here’s my Cersei costume I’ve been working on this year!', 'we could’ve had it all', 'Gotcha bitch!', \"The only shipwreck worse than an actual one would have been D&D's Star Wars trilogy\", \"What with all that's been happening lately\", '‘Star Wars’ Setback: ‘Game Of Thrones’ Duo David Benioff & D.B. Weiss Exit Trilogy', '‘Game Of Thrones’ Showrunners David Benioff And D.B. Weiss Confirmed The Worst Suspicions Of The Fanbase', 'Happy halloween!', 'HBO wanted 10 seasons and they did 8 just because of Star Wars', 'The time for anger has passed, let the hype begin', 'You Win or You Die: No Game of Thrones Spinoffs stand a chance', '(Spoilers Main) Casting idea for the House of Dragon', \"This is d&d's only contribution to society thats not the first 6 seasons of got\", 'AKA, \"We don\\'t want anyone to complain about our bad writing\"', \"What do you get when you cross 2 egotistical showrunners with a fanbase that's treated like trash?\", 'When you forgot to prepare any Memes for your favorite subs on your Cakeday...', 'D&D Show Their True Colors', '*Interesting title*', 'A Lannister always pays his debts to the environment', 'Just realised that the death of Hedwig was more shocking than the death of Danny', 'Not finding friends who like GOT', 'do you think i’ll get candy?', 'D&D were FIRED by Disney back in May', 'She carried House Targaryen on her back for 8 seasons straight and is the only reason this new prequel series is seeing the light of day. Never forget the best and final dragon, the GOAT; Daenerys Targaryen.', 'From GRRMs blog... NGL, this makes me feel a LOT better about the prequel.', 'Thumbs up for the toxic Game of Thrones fans!', 'I love D&D', 'This day exacts a heavy toll', 'Every single upvote I give about the Star Wars news', 'More good news! Hopefully he’s a man of his word and this means he’s actually trying to get it finished soon!', 'Is HBO really expecting people to give a fuck about House of the Dragon when we know how the Targaryen line ends?', 'What if months from now D&D go to a meeting and present their work to Netflix and the streaming service say. \"I don\\'t want it.\"', 'House of the Dragon prequel, We all know who will be the most loved character. Fookin Mushroom! Cant change my mind', 'When you realize your cameo appearance reflects your reality', 'It was both a Win and a Loss', 'A House of Dragons is already doomed', 'How it went down', \"Still annoyed the dragons shrank and didn't seem tangible or realistic after Season 7\", 'This was my third post to r/freefolk. I think it aged VERY well', 'You hate to see it', 'Most of the content sucks on Netflix so D&D will be a perfect fit', 'They reunited the fanbase!', 'Ruined their Emmy ✔ Ruined Star Wars contract ✔ Ruin Netflix contract 🔲', 'Happy Halloween 🎃', 'No one, absolutely no body. Arya Lannister:', 'My first meme', \"D&D's pre-season 8 meeting with HBO: It's a season about nothing!\", '‘Game Of Thrones’ Prequel About The White Walkers Is Dead', 'This sub right now.', 'Real footage of the exact moment my boy Davos realized he was written into the frontlines of a city siege.', 'Comic', 'It’s a shame HBO couldn’t achieve this for Dany', 'Star Wars Down, Only Netflix To Go', \"Even if Daenerys is Dead, House Targaryen's Bloodline Still Lives on Through These Two\"}\n",
            "497\n"
          ],
          "name": "stdout"
        }
      ]
    },
    {
      "cell_type": "code",
      "metadata": {
        "id": "iUJ9oujnR9Pe",
        "colab_type": "code",
        "outputId": "434b632d-6a88-4d9b-ccda-5012185e4019",
        "colab": {
          "base_uri": "https://localhost:8080/",
          "height": 306
        }
      },
      "source": [
        "#Brute sentiment analysis without preprocessing and cleaning of extracted data\n",
        "\n",
        "from nltk.sentiment.vader import SentimentIntensityAnalyzer as SIA\n",
        "\n",
        "sia = SIA()\n",
        "results = []\n",
        "\n",
        "for post in posts:\n",
        "  score = sia.polarity_scores(post)\n",
        "  score['post'] = post\n",
        "  results.append(score)\n",
        "  \n",
        "pprint(results[:5], width=100)"
      ],
      "execution_count": 36,
      "outputs": [
        {
          "output_type": "stream",
          "text": [
            "[{'compound': 0.0,\n",
            "  'neg': 0.0,\n",
            "  'neu': 1.0,\n",
            "  'pos': 0.0,\n",
            "  'post': 'How I feel about ANY prequel series.'},\n",
            " {'compound': 0.3818,\n",
            "  'neg': 0.0,\n",
            "  'neu': 0.536,\n",
            "  'pos': 0.464,\n",
            "  'post': 'credit twitter user @rodeoman'},\n",
            " {'compound': -0.4767, 'neg': 1.0, 'neu': 0.0, 'pos': 0.0, 'post': 'Shame'},\n",
            " {'compound': 0.0, 'neg': 0.0, 'neu': 1.0, 'pos': 0.0, 'post': 'Emilia Clarke‘s Pumpkin Carving'},\n",
            " {'compound': 0.0,\n",
            "  'neg': 0.0,\n",
            "  'neu': 1.0,\n",
            "  'pos': 0.0,\n",
            "  'post': 'Bobby-b and the boys waiting for the new series'}]\n"
          ],
          "name": "stdout"
        }
      ]
    },
    {
      "cell_type": "code",
      "metadata": {
        "id": "OMq8mEnMYnwJ",
        "colab_type": "code",
        "outputId": "2becb3dc-bcaf-490e-fb04-87f5d203a505",
        "colab": {
          "base_uri": "https://localhost:8080/",
          "height": 68
        }
      },
      "source": [
        "nltk.download('stopwords')"
      ],
      "execution_count": 37,
      "outputs": [
        {
          "output_type": "stream",
          "text": [
            "[nltk_data] Downloading package stopwords to /root/nltk_data...\n",
            "[nltk_data]   Package stopwords is already up-to-date!\n"
          ],
          "name": "stdout"
        },
        {
          "output_type": "execute_result",
          "data": {
            "text/plain": [
              "True"
            ]
          },
          "metadata": {
            "tags": []
          },
          "execution_count": 37
        }
      ]
    },
    {
      "cell_type": "code",
      "metadata": {
        "id": "rYnjtQCiTq-Z",
        "colab_type": "code",
        "colab": {}
      },
      "source": [
        "#Stopword removal, punctuation elimination and tokenization of extracted data\n",
        "\n",
        "from nltk.corpus import stopwords\n",
        "from nltk.tokenize import word_tokenize\n",
        "\n",
        "remove = set(stopwords.words('english'))\n",
        "filtered = []\n",
        "\n",
        "for post in posts:\n",
        "  #Converting numbers to words, translation of emojis and removing punctuations to give bag of words\n",
        "  post = [num2words(x) if x.isnumeric() else emoji.demojize(x, delimiters=('!', '!')) for x in post.translate(str.maketrans('', '', string.punctuation)).lower().split()]\n",
        "  \n",
        "  #Removing stopwords and words irrelevant to sentiment\n",
        "  temp = [x for x in post if x not in remove]\n",
        "  filtered.append(\" \".join(temp).replace('spoilers', '').strip())"
      ],
      "execution_count": 0,
      "outputs": []
    },
    {
      "cell_type": "code",
      "metadata": {
        "id": "fH83GV39Yjrq",
        "colab_type": "code",
        "outputId": "b24e959c-7d9e-4bbd-a6f4-301bc683c9ed",
        "colab": {
          "base_uri": "https://localhost:8080/",
          "height": 357
        }
      },
      "source": [
        "#Results of sentiment analysis after preprocessing\n",
        "\n",
        "from nltk.sentiment.vader import SentimentIntensityAnalyzer as SIA\n",
        "\n",
        "sia = SIA()\n",
        "results = []\n",
        "\n",
        "for post in filtered:\n",
        "  score = sia.polarity_scores(post)\n",
        "  score['post'] = post\n",
        "  results.append(score)\n",
        "  \n",
        "pprint(results[:5], width=100)\n",
        "data = pd.DataFrame.from_records(results)\n",
        "data.head()"
      ],
      "execution_count": 39,
      "outputs": [
        {
          "output_type": "stream",
          "text": [
            "[{'compound': 0.0, 'neg': 0.0, 'neu': 1.0, 'pos': 0.0, 'post': 'feel prequel series'},\n",
            " {'compound': 0.3818,\n",
            "  'neg': 0.0,\n",
            "  'neu': 0.536,\n",
            "  'pos': 0.464,\n",
            "  'post': 'credit twitter user rodeoman'},\n",
            " {'compound': -0.4767, 'neg': 1.0, 'neu': 0.0, 'pos': 0.0, 'post': 'shame'},\n",
            " {'compound': 0.0, 'neg': 0.0, 'neu': 1.0, 'pos': 0.0, 'post': 'emilia clarke‘s pumpkin carving'},\n",
            " {'compound': 0.0, 'neg': 0.0, 'neu': 1.0, 'pos': 0.0, 'post': 'bobbyb boys waiting new series'}]\n"
          ],
          "name": "stdout"
        },
        {
          "output_type": "execute_result",
          "data": {
            "text/html": [
              "<div>\n",
              "<style scoped>\n",
              "    .dataframe tbody tr th:only-of-type {\n",
              "        vertical-align: middle;\n",
              "    }\n",
              "\n",
              "    .dataframe tbody tr th {\n",
              "        vertical-align: top;\n",
              "    }\n",
              "\n",
              "    .dataframe thead th {\n",
              "        text-align: right;\n",
              "    }\n",
              "</style>\n",
              "<table border=\"1\" class=\"dataframe\">\n",
              "  <thead>\n",
              "    <tr style=\"text-align: right;\">\n",
              "      <th></th>\n",
              "      <th>neg</th>\n",
              "      <th>neu</th>\n",
              "      <th>pos</th>\n",
              "      <th>compound</th>\n",
              "      <th>post</th>\n",
              "    </tr>\n",
              "  </thead>\n",
              "  <tbody>\n",
              "    <tr>\n",
              "      <th>0</th>\n",
              "      <td>0.0</td>\n",
              "      <td>1.000</td>\n",
              "      <td>0.000</td>\n",
              "      <td>0.0000</td>\n",
              "      <td>feel prequel series</td>\n",
              "    </tr>\n",
              "    <tr>\n",
              "      <th>1</th>\n",
              "      <td>0.0</td>\n",
              "      <td>0.536</td>\n",
              "      <td>0.464</td>\n",
              "      <td>0.3818</td>\n",
              "      <td>credit twitter user rodeoman</td>\n",
              "    </tr>\n",
              "    <tr>\n",
              "      <th>2</th>\n",
              "      <td>1.0</td>\n",
              "      <td>0.000</td>\n",
              "      <td>0.000</td>\n",
              "      <td>-0.4767</td>\n",
              "      <td>shame</td>\n",
              "    </tr>\n",
              "    <tr>\n",
              "      <th>3</th>\n",
              "      <td>0.0</td>\n",
              "      <td>1.000</td>\n",
              "      <td>0.000</td>\n",
              "      <td>0.0000</td>\n",
              "      <td>emilia clarke‘s pumpkin carving</td>\n",
              "    </tr>\n",
              "    <tr>\n",
              "      <th>4</th>\n",
              "      <td>0.0</td>\n",
              "      <td>1.000</td>\n",
              "      <td>0.000</td>\n",
              "      <td>0.0000</td>\n",
              "      <td>bobbyb boys waiting new series</td>\n",
              "    </tr>\n",
              "  </tbody>\n",
              "</table>\n",
              "</div>"
            ],
            "text/plain": [
              "   neg    neu    pos  compound                             post\n",
              "0  0.0  1.000  0.000    0.0000              feel prequel series\n",
              "1  0.0  0.536  0.464    0.3818     credit twitter user rodeoman\n",
              "2  1.0  0.000  0.000   -0.4767                            shame\n",
              "3  0.0  1.000  0.000    0.0000  emilia clarke‘s pumpkin carving\n",
              "4  0.0  1.000  0.000    0.0000   bobbyb boys waiting new series"
            ]
          },
          "metadata": {
            "tags": []
          },
          "execution_count": 39
        }
      ]
    },
    {
      "cell_type": "code",
      "metadata": {
        "id": "PDSnE6XD9XeN",
        "colab_type": "code",
        "outputId": "adf37e8e-8d2b-49bb-89bd-2e4651c1c873",
        "colab": {
          "base_uri": "https://localhost:8080/",
          "height": 359
        }
      },
      "source": [
        "#Labelling the sentiments depending on a compound threshold of 0.2(can be adjusted)\n",
        "data['label'] = 0\n",
        "data.loc[data['compound'] > 0.2, 'label'] = 1\n",
        "data.loc[data['compound'] < -0.2, 'label'] = -1\n",
        "data[:10]"
      ],
      "execution_count": 40,
      "outputs": [
        {
          "output_type": "execute_result",
          "data": {
            "text/html": [
              "<div>\n",
              "<style scoped>\n",
              "    .dataframe tbody tr th:only-of-type {\n",
              "        vertical-align: middle;\n",
              "    }\n",
              "\n",
              "    .dataframe tbody tr th {\n",
              "        vertical-align: top;\n",
              "    }\n",
              "\n",
              "    .dataframe thead th {\n",
              "        text-align: right;\n",
              "    }\n",
              "</style>\n",
              "<table border=\"1\" class=\"dataframe\">\n",
              "  <thead>\n",
              "    <tr style=\"text-align: right;\">\n",
              "      <th></th>\n",
              "      <th>neg</th>\n",
              "      <th>neu</th>\n",
              "      <th>pos</th>\n",
              "      <th>compound</th>\n",
              "      <th>post</th>\n",
              "      <th>label</th>\n",
              "    </tr>\n",
              "  </thead>\n",
              "  <tbody>\n",
              "    <tr>\n",
              "      <th>0</th>\n",
              "      <td>0.000</td>\n",
              "      <td>1.000</td>\n",
              "      <td>0.000</td>\n",
              "      <td>0.0000</td>\n",
              "      <td>feel prequel series</td>\n",
              "      <td>0</td>\n",
              "    </tr>\n",
              "    <tr>\n",
              "      <th>1</th>\n",
              "      <td>0.000</td>\n",
              "      <td>0.536</td>\n",
              "      <td>0.464</td>\n",
              "      <td>0.3818</td>\n",
              "      <td>credit twitter user rodeoman</td>\n",
              "      <td>1</td>\n",
              "    </tr>\n",
              "    <tr>\n",
              "      <th>2</th>\n",
              "      <td>1.000</td>\n",
              "      <td>0.000</td>\n",
              "      <td>0.000</td>\n",
              "      <td>-0.4767</td>\n",
              "      <td>shame</td>\n",
              "      <td>-1</td>\n",
              "    </tr>\n",
              "    <tr>\n",
              "      <th>3</th>\n",
              "      <td>0.000</td>\n",
              "      <td>1.000</td>\n",
              "      <td>0.000</td>\n",
              "      <td>0.0000</td>\n",
              "      <td>emilia clarke‘s pumpkin carving</td>\n",
              "      <td>0</td>\n",
              "    </tr>\n",
              "    <tr>\n",
              "      <th>4</th>\n",
              "      <td>0.000</td>\n",
              "      <td>1.000</td>\n",
              "      <td>0.000</td>\n",
              "      <td>0.0000</td>\n",
              "      <td>bobbyb boys waiting new series</td>\n",
              "      <td>0</td>\n",
              "    </tr>\n",
              "    <tr>\n",
              "      <th>5</th>\n",
              "      <td>0.159</td>\n",
              "      <td>0.841</td>\n",
              "      <td>0.000</td>\n",
              "      <td>-0.5574</td>\n",
              "      <td>psa dd chose star wars way around kathleen ken...</td>\n",
              "      <td>-1</td>\n",
              "    </tr>\n",
              "    <tr>\n",
              "      <th>6</th>\n",
              "      <td>0.091</td>\n",
              "      <td>0.629</td>\n",
              "      <td>0.280</td>\n",
              "      <td>0.5106</td>\n",
              "      <td>enough time passed miss joy watching got remem...</td>\n",
              "      <td>1</td>\n",
              "    </tr>\n",
              "    <tr>\n",
              "      <th>7</th>\n",
              "      <td>0.000</td>\n",
              "      <td>1.000</td>\n",
              "      <td>0.000</td>\n",
              "      <td>0.0000</td>\n",
              "      <td>reducing fantasy elements asoiaf</td>\n",
              "      <td>0</td>\n",
              "    </tr>\n",
              "    <tr>\n",
              "      <th>8</th>\n",
              "      <td>0.282</td>\n",
              "      <td>0.471</td>\n",
              "      <td>0.247</td>\n",
              "      <td>-0.0772</td>\n",
              "      <td>time petition netflix fire dd well</td>\n",
              "      <td>0</td>\n",
              "    </tr>\n",
              "    <tr>\n",
              "      <th>9</th>\n",
              "      <td>0.000</td>\n",
              "      <td>0.654</td>\n",
              "      <td>0.346</td>\n",
              "      <td>0.5719</td>\n",
              "      <td>little gothalloween illustration local gaming ...</td>\n",
              "      <td>1</td>\n",
              "    </tr>\n",
              "  </tbody>\n",
              "</table>\n",
              "</div>"
            ],
            "text/plain": [
              "     neg    neu  ...                                               post  label\n",
              "0  0.000  1.000  ...                                feel prequel series      0\n",
              "1  0.000  0.536  ...                       credit twitter user rodeoman      1\n",
              "2  1.000  0.000  ...                                              shame     -1\n",
              "3  0.000  1.000  ...                    emilia clarke‘s pumpkin carving      0\n",
              "4  0.000  1.000  ...                     bobbyb boys waiting new series      0\n",
              "5  0.159  0.841  ...  psa dd chose star wars way around kathleen ken...     -1\n",
              "6  0.091  0.629  ...  enough time passed miss joy watching got remem...      1\n",
              "7  0.000  1.000  ...                   reducing fantasy elements asoiaf      0\n",
              "8  0.282  0.471  ...                 time petition netflix fire dd well      0\n",
              "9  0.000  0.654  ...  little gothalloween illustration local gaming ...      1\n",
              "\n",
              "[10 rows x 6 columns]"
            ]
          },
          "metadata": {
            "tags": []
          },
          "execution_count": 40
        }
      ]
    },
    {
      "cell_type": "code",
      "metadata": {
        "id": "pTNiWReVBck_",
        "colab_type": "code",
        "outputId": "0ee3e27e-0306-4395-daae-2103d7e09143",
        "colab": {
          "base_uri": "https://localhost:8080/",
          "height": 241
        }
      },
      "source": [
        "#Saving the post label data to CSV\n",
        "label_data = data[['post', 'label']]\n",
        "label_data.to_csv('reddit_posts_labels.csv', mode='a', encoding='utf-8', index=False)\n",
        "\n",
        "#Sample posts from positive and negative label categories\n",
        "print('Positive posts-')\n",
        "pprint(list(data[data['label'] == 1].post)[:5], width=150)\n",
        "print('Negative posts-')\n",
        "pprint(list(data[data['label'] == -1].post)[:5], width=150)"
      ],
      "execution_count": 41,
      "outputs": [
        {
          "output_type": "stream",
          "text": [
            "Positive posts-\n",
            "['credit twitter user rodeoman',\n",
            " 'enough time passed miss joy watching got remember nothing first seven seasons matters slightest',\n",
            " 'little gothalloween illustration local gaming shop happy halloween',\n",
            " 'guess well wait got reboot twenty years ever want see ice spiders screen!spider!!spider_web!!snowflake!',\n",
            " 'going back toxic got fan hbo developing targaryen show']\n",
            "Negative posts-\n",
            "['shame',\n",
            " 'psa dd chose star wars way around kathleen kennedy extended open invitation return currently working two hundred million netflix series',\n",
            " '2d saying held back lore ww prequel prequel canceled makes s8 infinitely worse',\n",
            " 'i’m angry',\n",
            " 'constant struggle']\n"
          ],
          "name": "stdout"
        }
      ]
    },
    {
      "cell_type": "code",
      "metadata": {
        "id": "x0a3rsqgHXrD",
        "colab_type": "code",
        "outputId": "d571402d-3a23-4e00-ab2a-7736bb7f23e1",
        "colab": {
          "base_uri": "https://localhost:8080/",
          "height": 153
        }
      },
      "source": [
        "#Calculating number and percentage of posts belonging to any of the sentiments\n",
        "print(data.label.value_counts())\n",
        "print(data.label.value_counts(normalize=True) * 100)"
      ],
      "execution_count": 42,
      "outputs": [
        {
          "output_type": "stream",
          "text": [
            " 0    432\n",
            "-1    323\n",
            " 1    225\n",
            "Name: label, dtype: int64\n",
            " 0    44.081633\n",
            "-1    32.959184\n",
            " 1    22.959184\n",
            "Name: label, dtype: float64\n"
          ],
          "name": "stdout"
        }
      ]
    },
    {
      "cell_type": "code",
      "metadata": {
        "id": "qUUwN4TJLcOX",
        "colab_type": "code",
        "outputId": "00259c6b-9f6c-4ddc-808e-00118c4007aa",
        "colab": {
          "base_uri": "https://localhost:8080/",
          "height": 388
        }
      },
      "source": [
        "#Plotting a bar graph of the posts according to their sentiments\n",
        "\n",
        "fig, ax = plt.subplots(figsize=(8, 6))\n",
        "counts = data.label.value_counts(normalize=True) * 100\n",
        "sns.barplot(x=counts.index, y=counts, ax=ax)\n",
        "ax.set_xticklabels(['Negative', 'Neutral', 'Positive'])\n",
        "ax.set_ylabel('Percentage')\n",
        "plt.show()"
      ],
      "execution_count": 47,
      "outputs": [
        {
          "output_type": "display_data",
          "data": {
            "image/png": "[encoded data removed]",
            "text/plain": [
              "<Figure size 576x432 with 1 Axes>"
            ]
          },
          "metadata": {
            "tags": []
          }
        }
      ]
    },
    {
      "cell_type": "code",
      "metadata": {
        "id": "X6A1OWMfNsl5",
        "colab_type": "code",
        "colab": {
          "base_uri": "https://localhost:8080/",
          "height": 105
        },
        "outputId": "a9ff6fa4-dd31-4b9e-cf0c-fcbc17bba37a"
      },
      "source": [
        "#Displaying the most common words used in posts exhibiting positive or negative sentiments\n",
        "\n",
        "tokenizer = RegexpTokenizer(r'\\w+')\n",
        "positive_posts = list(data[data.label == 1].post)\n",
        "positive_tokenized = []\n",
        "for x in positive_posts:\n",
        "  positive_tokenized.extend(tokenizer.tokenize(x))\n",
        "positive_freq = nltk.FreqDist(positive_tokenized)\n",
        "\n",
        "negative_posts = list(data[data.label == -1].post)\n",
        "negative_tokenized = []\n",
        "for x in negative_posts:\n",
        "  negative_tokenized.extend(tokenizer.tokenize(x))\n",
        "negative_freq = nltk.FreqDist(negative_tokenized)\n",
        "\n",
        "print('Most common Positive Words-')\n",
        "print(positive_freq.most_common(10))\n",
        "print('Most common Negative Words-')\n",
        "print(negative_freq.most_common(10))"
      ],
      "execution_count": 44,
      "outputs": [
        {
          "output_type": "stream",
          "text": [
            "Most common Positive Words-\n",
            "[('like', 21), ('got', 20), ('dd', 19), ('season', 15), ('good', 15), ('think', 14), ('s', 14), ('better', 13), ('happy', 12), ('well', 12)]\n",
            "Most common Negative Words-\n",
            "[('wars', 123), ('star', 122), ('dd', 83), ('got', 40), ('prequel', 30), ('trilogy', 25), ('fired', 22), ('netflix', 21), ('thrones', 21), ('get', 19)]\n"
          ],
          "name": "stdout"
        }
      ]
    },
    {
      "cell_type": "code",
      "metadata": {
        "id": "kO7I9pjxbUrh",
        "colab_type": "code",
        "colab": {
          "base_uri": "https://localhost:8080/",
          "height": 625
        },
        "outputId": "fad955d8-33ca-4e97-8a4f-17eedd981b94"
      },
      "source": [
        "#Plotting the frequencies of most common positive and negative words\n",
        "\n",
        "pos_y = [x[1] for x in positive_freq.most_common()]\n",
        "plt.figure(figsize=(8,4))\n",
        "plt.plot(pos_y)\n",
        "plt.xlabel('Words')\n",
        "plt.ylabel('Frequency')\n",
        "plt.title('Positive Words vs Frequency')\n",
        "plt.show()\n",
        "\n",
        "neg_y = [x[1] for x in negative_freq.most_common()]\n",
        "plt.figure(figsize=(8,4))\n",
        "plt.plot(neg_y)\n",
        "plt.xlabel('Words')\n",
        "plt.ylabel('Frequency')\n",
        "plt.title('Negative Words vs Frequency')\n",
        "plt.show()"
      ],
      "execution_count": 48,
      "outputs": [
        {
          "output_type": "display_data",
          "data": {
            "image/png": "[encoded data removed]",
            "text/plain": [
              "<Figure size 576x288 with 1 Axes>"
            ]
          },
          "metadata": {
            "tags": []
          }
        },
        {
          "output_type": "display_data",
          "data": {
            "image/png": "[encoded data removed]",
            "text/plain": [
              "<Figure size 576x288 with 1 Axes>"
            ]
          },
          "metadata": {
            "tags": []
          }
        }
      ]
    }
  ]
}